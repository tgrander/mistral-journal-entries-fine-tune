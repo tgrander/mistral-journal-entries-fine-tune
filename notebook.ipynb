{
 "cells": [
  {
   "attachments": {},
   "cell_type": "markdown",
   "metadata": {},
   "source": [
    "# ⚡️ Activate Virtual Environment"
   ]
  },
  {
   "attachments": {},
   "cell_type": "markdown",
   "metadata": {},
   "source": [
    "Prepare the virtual environment in which we will conduct our experiement. "
   ]
  },
  {
   "cell_type": "code",
   "execution_count": 5,
   "metadata": {},
   "outputs": [
    {
     "ename": "SyntaxError",
     "evalue": "invalid syntax (2794603235.py, line 5)",
     "output_type": "error",
     "traceback": [
      "\u001b[0;36m  Cell \u001b[0;32mIn[5], line 5\u001b[0;36m\u001b[0m\n\u001b[0;31m    source myenv/bin/activate\u001b[0m\n\u001b[0m           ^\u001b[0m\n\u001b[0;31mSyntaxError\u001b[0m\u001b[0;31m:\u001b[0m invalid syntax\n"
     ]
    }
   ],
   "source": [
    "!python -m venv env_journal_entries_mixtral\n",
    "!source env_journal_entries_mixtral/bin/activate # For Unix or MacOS\n",
    "# !myenv\\Scripts\\activate # For Windows"
   ]
  },
  {
   "attachments": {},
   "cell_type": "markdown",
   "metadata": {},
   "source": [
    "## ⬇️ Install Dependencies"
   ]
  },
  {
   "cell_type": "code",
   "execution_count": 142,
   "metadata": {},
   "outputs": [
    {
     "name": "stderr",
     "output_type": "stream",
     "text": [
      "huggingface/tokenizers: The current process just got forked, after parallelism has already been used. Disabling parallelism to avoid deadlocks...\n",
      "To disable this warning, you can either:\n",
      "\t- Avoid using `tokenizers` before the fork if possible\n",
      "\t- Explicitly set the environment variable TOKENIZERS_PARALLELISM=(true | false)\n"
     ]
    }
   ],
   "source": [
    "# Freeze all pip packages into a requirements.txt file to preserve the environment\n",
    "# Only run this command when you have installed a new package\n",
    "!pip freeze > requirements.txt"
   ]
  },
  {
   "cell_type": "code",
   "execution_count": 1,
   "metadata": {},
   "outputs": [
    {
     "name": "stdout",
     "output_type": "stream",
     "text": [
      "Collecting accelerate@ git+https://github.com/huggingface/accelerate.git@6719cb6db31f57ea5d2fdb179b0487f51718f353 (from -r requirements.txt (line 1))\n",
      "  Cloning https://github.com/huggingface/accelerate.git (to revision 6719cb6db31f57ea5d2fdb179b0487f51718f353) to /private/var/folders/v9/kls8l3fd0sb1gk104l1y05sh0000gn/T/pip-install-qhg7s_dh/accelerate_8b6c5c580d524d168fc47b284eb6111b\n",
      "  Running command git clone --filter=blob:none --quiet https://github.com/huggingface/accelerate.git /private/var/folders/v9/kls8l3fd0sb1gk104l1y05sh0000gn/T/pip-install-qhg7s_dh/accelerate_8b6c5c580d524d168fc47b284eb6111b\n",
      "  Running command git rev-parse -q --verify 'sha^6719cb6db31f57ea5d2fdb179b0487f51718f353'\n",
      "  Running command git fetch -q https://github.com/huggingface/accelerate.git 6719cb6db31f57ea5d2fdb179b0487f51718f353\n",
      "  Running command git checkout -q 6719cb6db31f57ea5d2fdb179b0487f51718f353\n",
      "  Resolved https://github.com/huggingface/accelerate.git to commit 6719cb6db31f57ea5d2fdb179b0487f51718f353\n",
      "  Installing build dependencies ... \u001b[?25ldone\n",
      "\u001b[?25h  Getting requirements to build wheel ... \u001b[?25ldone\n",
      "\u001b[?25h  Preparing metadata (pyproject.toml) ... \u001b[?25ldone\n",
      "\u001b[?25hCollecting peft@ git+https://github.com/huggingface/peft.git@62237dc9b1e460825462d6b1e7b0cf3418cec357 (from -r requirements.txt (line 46))\n",
      "  Cloning https://github.com/huggingface/peft.git (to revision 62237dc9b1e460825462d6b1e7b0cf3418cec357) to /private/var/folders/v9/kls8l3fd0sb1gk104l1y05sh0000gn/T/pip-install-qhg7s_dh/peft_ec483b2b64a04ac88a4653ad61791355\n",
      "  Running command git clone --filter=blob:none --quiet https://github.com/huggingface/peft.git /private/var/folders/v9/kls8l3fd0sb1gk104l1y05sh0000gn/T/pip-install-qhg7s_dh/peft_ec483b2b64a04ac88a4653ad61791355\n",
      "  Running command git rev-parse -q --verify 'sha^62237dc9b1e460825462d6b1e7b0cf3418cec357'\n",
      "  Running command git fetch -q https://github.com/huggingface/peft.git 62237dc9b1e460825462d6b1e7b0cf3418cec357\n",
      "  Running command git checkout -q 62237dc9b1e460825462d6b1e7b0cf3418cec357\n",
      "  Resolved https://github.com/huggingface/peft.git to commit 62237dc9b1e460825462d6b1e7b0cf3418cec357\n",
      "  Installing build dependencies ... \u001b[?25ldone\n",
      "\u001b[?25h  Getting requirements to build wheel ... \u001b[?25ldone\n",
      "\u001b[?25h  Preparing metadata (pyproject.toml) ... \u001b[?25ldone\n",
      "\u001b[?25hCollecting transformers@ git+https://github.com/huggingface/transformers.git@2c1eebc1216549d8195d7d1c6adb8b99afee3ec5 (from -r requirements.txt (line 78))\n",
      "  Cloning https://github.com/huggingface/transformers.git (to revision 2c1eebc1216549d8195d7d1c6adb8b99afee3ec5) to /private/var/folders/v9/kls8l3fd0sb1gk104l1y05sh0000gn/T/pip-install-qhg7s_dh/transformers_387be2968e2f4bee8436fa8687d7c5e3\n",
      "  Running command git clone --filter=blob:none --quiet https://github.com/huggingface/transformers.git /private/var/folders/v9/kls8l3fd0sb1gk104l1y05sh0000gn/T/pip-install-qhg7s_dh/transformers_387be2968e2f4bee8436fa8687d7c5e3\n",
      "  Running command git rev-parse -q --verify 'sha^2c1eebc1216549d8195d7d1c6adb8b99afee3ec5'\n",
      "  Running command git fetch -q https://github.com/huggingface/transformers.git 2c1eebc1216549d8195d7d1c6adb8b99afee3ec5\n",
      "  Running command git checkout -q 2c1eebc1216549d8195d7d1c6adb8b99afee3ec5\n",
      "  Resolved https://github.com/huggingface/transformers.git to commit 2c1eebc1216549d8195d7d1c6adb8b99afee3ec5\n",
      "  Installing build dependencies ... \u001b[?25ldone\n",
      "\u001b[?25h  Getting requirements to build wheel ... \u001b[?25ldone\n",
      "\u001b[?25h  Preparing metadata (pyproject.toml) ... \u001b[?25ldone\n",
      "\u001b[?25hRequirement already satisfied: aiohttp==3.9.1 in ./env_journal_entries_mixtral/lib/python3.11/site-packages (from -r requirements.txt (line 2)) (3.9.1)\n",
      "Requirement already satisfied: aiosignal==1.3.1 in ./env_journal_entries_mixtral/lib/python3.11/site-packages (from -r requirements.txt (line 3)) (1.3.1)\n",
      "Requirement already satisfied: appnope==0.1.3 in ./env_journal_entries_mixtral/lib/python3.11/site-packages (from -r requirements.txt (line 4)) (0.1.3)\n",
      "Requirement already satisfied: asttokens==2.4.1 in ./env_journal_entries_mixtral/lib/python3.11/site-packages (from -r requirements.txt (line 5)) (2.4.1)\n",
      "Requirement already satisfied: attrs==23.2.0 in ./env_journal_entries_mixtral/lib/python3.11/site-packages (from -r requirements.txt (line 6)) (23.2.0)\n",
      "Requirement already satisfied: bitsandbytes==0.42.0 in ./env_journal_entries_mixtral/lib/python3.11/site-packages (from -r requirements.txt (line 7)) (0.42.0)\n",
      "Requirement already satisfied: certifi==2023.11.17 in ./env_journal_entries_mixtral/lib/python3.11/site-packages (from -r requirements.txt (line 8)) (2023.11.17)\n",
      "Requirement already satisfied: charset-normalizer==3.3.2 in ./env_journal_entries_mixtral/lib/python3.11/site-packages (from -r requirements.txt (line 9)) (3.3.2)\n",
      "Requirement already satisfied: comm==0.2.1 in ./env_journal_entries_mixtral/lib/python3.11/site-packages (from -r requirements.txt (line 10)) (0.2.1)\n",
      "Requirement already satisfied: contourpy==1.2.0 in ./env_journal_entries_mixtral/lib/python3.11/site-packages (from -r requirements.txt (line 11)) (1.2.0)\n",
      "Requirement already satisfied: cycler==0.12.1 in ./env_journal_entries_mixtral/lib/python3.11/site-packages (from -r requirements.txt (line 12)) (0.12.1)\n",
      "Requirement already satisfied: datasets==2.16.1 in ./env_journal_entries_mixtral/lib/python3.11/site-packages (from -r requirements.txt (line 13)) (2.16.1)\n",
      "Requirement already satisfied: debugpy==1.8.0 in ./env_journal_entries_mixtral/lib/python3.11/site-packages (from -r requirements.txt (line 14)) (1.8.0)\n",
      "Requirement already satisfied: decorator==5.1.1 in ./env_journal_entries_mixtral/lib/python3.11/site-packages (from -r requirements.txt (line 15)) (5.1.1)\n",
      "Requirement already satisfied: dill==0.3.7 in ./env_journal_entries_mixtral/lib/python3.11/site-packages (from -r requirements.txt (line 16)) (0.3.7)\n",
      "Requirement already satisfied: executing==2.0.1 in ./env_journal_entries_mixtral/lib/python3.11/site-packages (from -r requirements.txt (line 17)) (2.0.1)\n",
      "Requirement already satisfied: filelock==3.13.1 in ./env_journal_entries_mixtral/lib/python3.11/site-packages (from -r requirements.txt (line 18)) (3.13.1)\n",
      "Requirement already satisfied: fonttools==4.47.2 in ./env_journal_entries_mixtral/lib/python3.11/site-packages (from -r requirements.txt (line 19)) (4.47.2)\n",
      "Requirement already satisfied: frozenlist==1.4.1 in ./env_journal_entries_mixtral/lib/python3.11/site-packages (from -r requirements.txt (line 20)) (1.4.1)\n",
      "Requirement already satisfied: fsspec==2023.10.0 in ./env_journal_entries_mixtral/lib/python3.11/site-packages (from -r requirements.txt (line 21)) (2023.10.0)\n",
      "Requirement already satisfied: huggingface-hub==0.20.2 in ./env_journal_entries_mixtral/lib/python3.11/site-packages (from -r requirements.txt (line 22)) (0.20.2)\n",
      "Requirement already satisfied: idna==3.6 in ./env_journal_entries_mixtral/lib/python3.11/site-packages (from -r requirements.txt (line 23)) (3.6)\n",
      "Requirement already satisfied: ipykernel==6.29.0 in ./env_journal_entries_mixtral/lib/python3.11/site-packages (from -r requirements.txt (line 24)) (6.29.0)\n",
      "Requirement already satisfied: ipython==8.20.0 in ./env_journal_entries_mixtral/lib/python3.11/site-packages (from -r requirements.txt (line 25)) (8.20.0)\n",
      "Requirement already satisfied: ipywidgets==8.1.1 in ./env_journal_entries_mixtral/lib/python3.11/site-packages (from -r requirements.txt (line 26)) (8.1.1)\n",
      "Requirement already satisfied: jedi==0.19.1 in ./env_journal_entries_mixtral/lib/python3.11/site-packages (from -r requirements.txt (line 27)) (0.19.1)\n",
      "Requirement already satisfied: Jinja2==3.1.3 in ./env_journal_entries_mixtral/lib/python3.11/site-packages (from -r requirements.txt (line 28)) (3.1.3)\n",
      "Requirement already satisfied: joblib==1.3.2 in ./env_journal_entries_mixtral/lib/python3.11/site-packages (from -r requirements.txt (line 29)) (1.3.2)\n",
      "Requirement already satisfied: jupyter_client==8.6.0 in ./env_journal_entries_mixtral/lib/python3.11/site-packages (from -r requirements.txt (line 30)) (8.6.0)\n",
      "Requirement already satisfied: jupyter_core==5.7.1 in ./env_journal_entries_mixtral/lib/python3.11/site-packages (from -r requirements.txt (line 31)) (5.7.1)\n",
      "Requirement already satisfied: jupyterlab-widgets==3.0.9 in ./env_journal_entries_mixtral/lib/python3.11/site-packages (from -r requirements.txt (line 32)) (3.0.9)\n",
      "Requirement already satisfied: kiwisolver==1.4.5 in ./env_journal_entries_mixtral/lib/python3.11/site-packages (from -r requirements.txt (line 33)) (1.4.5)\n",
      "Requirement already satisfied: MarkupSafe==2.1.3 in ./env_journal_entries_mixtral/lib/python3.11/site-packages (from -r requirements.txt (line 34)) (2.1.3)\n",
      "Requirement already satisfied: matplotlib==3.8.2 in ./env_journal_entries_mixtral/lib/python3.11/site-packages (from -r requirements.txt (line 35)) (3.8.2)\n",
      "Requirement already satisfied: matplotlib-inline==0.1.6 in ./env_journal_entries_mixtral/lib/python3.11/site-packages (from -r requirements.txt (line 36)) (0.1.6)\n",
      "Requirement already satisfied: mpmath==1.3.0 in ./env_journal_entries_mixtral/lib/python3.11/site-packages (from -r requirements.txt (line 37)) (1.3.0)\n",
      "Requirement already satisfied: multidict==6.0.4 in ./env_journal_entries_mixtral/lib/python3.11/site-packages (from -r requirements.txt (line 38)) (6.0.4)\n",
      "Requirement already satisfied: multiprocess==0.70.15 in ./env_journal_entries_mixtral/lib/python3.11/site-packages (from -r requirements.txt (line 39)) (0.70.15)\n",
      "Requirement already satisfied: nest-asyncio==1.5.9 in ./env_journal_entries_mixtral/lib/python3.11/site-packages (from -r requirements.txt (line 40)) (1.5.9)\n",
      "Requirement already satisfied: networkx==3.2.1 in ./env_journal_entries_mixtral/lib/python3.11/site-packages (from -r requirements.txt (line 41)) (3.2.1)\n",
      "Requirement already satisfied: numpy==1.26.3 in ./env_journal_entries_mixtral/lib/python3.11/site-packages (from -r requirements.txt (line 42)) (1.26.3)\n",
      "Requirement already satisfied: packaging==23.2 in ./env_journal_entries_mixtral/lib/python3.11/site-packages (from -r requirements.txt (line 43)) (23.2)\n",
      "Requirement already satisfied: pandas==2.1.4 in ./env_journal_entries_mixtral/lib/python3.11/site-packages (from -r requirements.txt (line 44)) (2.1.4)\n",
      "Requirement already satisfied: parso==0.8.3 in ./env_journal_entries_mixtral/lib/python3.11/site-packages (from -r requirements.txt (line 45)) (0.8.3)\n",
      "Requirement already satisfied: pexpect==4.9.0 in ./env_journal_entries_mixtral/lib/python3.11/site-packages (from -r requirements.txt (line 47)) (4.9.0)\n",
      "Requirement already satisfied: pillow==10.2.0 in ./env_journal_entries_mixtral/lib/python3.11/site-packages (from -r requirements.txt (line 48)) (10.2.0)\n",
      "Requirement already satisfied: platformdirs==4.1.0 in ./env_journal_entries_mixtral/lib/python3.11/site-packages (from -r requirements.txt (line 49)) (4.1.0)\n",
      "Requirement already satisfied: prompt-toolkit==3.0.43 in ./env_journal_entries_mixtral/lib/python3.11/site-packages (from -r requirements.txt (line 50)) (3.0.43)\n",
      "Requirement already satisfied: psutil==5.9.7 in ./env_journal_entries_mixtral/lib/python3.11/site-packages (from -r requirements.txt (line 51)) (5.9.7)\n",
      "Requirement already satisfied: ptyprocess==0.7.0 in ./env_journal_entries_mixtral/lib/python3.11/site-packages (from -r requirements.txt (line 52)) (0.7.0)\n",
      "Requirement already satisfied: pure-eval==0.2.2 in ./env_journal_entries_mixtral/lib/python3.11/site-packages (from -r requirements.txt (line 53)) (0.2.2)\n",
      "Requirement already satisfied: pyarrow==14.0.2 in ./env_journal_entries_mixtral/lib/python3.11/site-packages (from -r requirements.txt (line 54)) (14.0.2)\n",
      "Requirement already satisfied: pyarrow-hotfix==0.6 in ./env_journal_entries_mixtral/lib/python3.11/site-packages (from -r requirements.txt (line 55)) (0.6)\n",
      "Requirement already satisfied: Pygments==2.17.2 in ./env_journal_entries_mixtral/lib/python3.11/site-packages (from -r requirements.txt (line 56)) (2.17.2)\n",
      "Requirement already satisfied: pyparsing==3.1.1 in ./env_journal_entries_mixtral/lib/python3.11/site-packages (from -r requirements.txt (line 57)) (3.1.1)\n",
      "Requirement already satisfied: python-dateutil==2.8.2 in ./env_journal_entries_mixtral/lib/python3.11/site-packages (from -r requirements.txt (line 58)) (2.8.2)\n",
      "Requirement already satisfied: python-dotenv==1.0.0 in ./env_journal_entries_mixtral/lib/python3.11/site-packages (from -r requirements.txt (line 59)) (1.0.0)\n",
      "Requirement already satisfied: pytz==2023.3.post1 in ./env_journal_entries_mixtral/lib/python3.11/site-packages (from -r requirements.txt (line 60)) (2023.3.post1)\n",
      "Requirement already satisfied: PyYAML==6.0.1 in ./env_journal_entries_mixtral/lib/python3.11/site-packages (from -r requirements.txt (line 61)) (6.0.1)\n",
      "Requirement already satisfied: pyzmq==25.1.2 in ./env_journal_entries_mixtral/lib/python3.11/site-packages (from -r requirements.txt (line 62)) (25.1.2)\n",
      "Requirement already satisfied: regex==2023.12.25 in ./env_journal_entries_mixtral/lib/python3.11/site-packages (from -r requirements.txt (line 63)) (2023.12.25)\n",
      "Requirement already satisfied: requests==2.31.0 in ./env_journal_entries_mixtral/lib/python3.11/site-packages (from -r requirements.txt (line 64)) (2.31.0)\n",
      "Requirement already satisfied: safetensors==0.4.1 in ./env_journal_entries_mixtral/lib/python3.11/site-packages (from -r requirements.txt (line 65)) (0.4.1)\n",
      "Requirement already satisfied: scikit-learn==1.4.0 in ./env_journal_entries_mixtral/lib/python3.11/site-packages (from -r requirements.txt (line 66)) (1.4.0)\n",
      "Requirement already satisfied: scipy==1.11.4 in ./env_journal_entries_mixtral/lib/python3.11/site-packages (from -r requirements.txt (line 67)) (1.11.4)\n",
      "Requirement already satisfied: six==1.16.0 in ./env_journal_entries_mixtral/lib/python3.11/site-packages (from -r requirements.txt (line 68)) (1.16.0)\n",
      "Requirement already satisfied: stack-data==0.6.3 in ./env_journal_entries_mixtral/lib/python3.11/site-packages (from -r requirements.txt (line 69)) (0.6.3)\n",
      "Requirement already satisfied: sympy==1.12 in ./env_journal_entries_mixtral/lib/python3.11/site-packages (from -r requirements.txt (line 70)) (1.12)\n",
      "Requirement already satisfied: threadpoolctl==3.2.0 in ./env_journal_entries_mixtral/lib/python3.11/site-packages (from -r requirements.txt (line 71)) (3.2.0)\n",
      "Requirement already satisfied: tokenizers==0.15.0 in ./env_journal_entries_mixtral/lib/python3.11/site-packages (from -r requirements.txt (line 72)) (0.15.0)\n",
      "Requirement already satisfied: torch==2.1.2 in ./env_journal_entries_mixtral/lib/python3.11/site-packages (from -r requirements.txt (line 73)) (2.1.2)\n",
      "Requirement already satisfied: torchvision==0.16.2 in ./env_journal_entries_mixtral/lib/python3.11/site-packages (from -r requirements.txt (line 74)) (0.16.2)\n",
      "Requirement already satisfied: tornado==6.4 in ./env_journal_entries_mixtral/lib/python3.11/site-packages (from -r requirements.txt (line 75)) (6.4)\n",
      "Requirement already satisfied: tqdm==4.66.1 in ./env_journal_entries_mixtral/lib/python3.11/site-packages (from -r requirements.txt (line 76)) (4.66.1)\n",
      "Requirement already satisfied: traitlets==5.14.1 in ./env_journal_entries_mixtral/lib/python3.11/site-packages (from -r requirements.txt (line 77)) (5.14.1)\n",
      "Requirement already satisfied: typing_extensions==4.9.0 in ./env_journal_entries_mixtral/lib/python3.11/site-packages (from -r requirements.txt (line 79)) (4.9.0)\n",
      "Requirement already satisfied: tzdata==2023.4 in ./env_journal_entries_mixtral/lib/python3.11/site-packages (from -r requirements.txt (line 80)) (2023.4)\n",
      "Requirement already satisfied: urllib3==2.1.0 in ./env_journal_entries_mixtral/lib/python3.11/site-packages (from -r requirements.txt (line 81)) (2.1.0)\n",
      "Requirement already satisfied: wcwidth==0.2.13 in ./env_journal_entries_mixtral/lib/python3.11/site-packages (from -r requirements.txt (line 82)) (0.2.13)\n",
      "Requirement already satisfied: widgetsnbextension==4.0.9 in ./env_journal_entries_mixtral/lib/python3.11/site-packages (from -r requirements.txt (line 83)) (4.0.9)\n",
      "Requirement already satisfied: xxhash==3.4.1 in ./env_journal_entries_mixtral/lib/python3.11/site-packages (from -r requirements.txt (line 84)) (3.4.1)\n",
      "Requirement already satisfied: yarl==1.9.4 in ./env_journal_entries_mixtral/lib/python3.11/site-packages (from -r requirements.txt (line 85)) (1.9.4)\n",
      "\n",
      "\u001b[1m[\u001b[0m\u001b[34;49mnotice\u001b[0m\u001b[1;39;49m]\u001b[0m\u001b[39;49m A new release of pip is available: \u001b[0m\u001b[31;49m23.2.1\u001b[0m\u001b[39;49m -> \u001b[0m\u001b[32;49m23.3.2\u001b[0m\n",
      "\u001b[1m[\u001b[0m\u001b[34;49mnotice\u001b[0m\u001b[1;39;49m]\u001b[0m\u001b[39;49m To update, run: \u001b[0m\u001b[32;49mpip install --upgrade pip\u001b[0m\n"
     ]
    }
   ],
   "source": [
    "!pip install -r requirements.txt"
   ]
  },
  {
   "attachments": {},
   "cell_type": "markdown",
   "metadata": {},
   "source": [
    "# 🤖 Load Base Model\n",
    "\n",
    "- Load the base model using the transformers library\n",
    "- Use 4-bit quant for a good tradeoff between model performance and memory costs"
   ]
  },
  {
   "cell_type": "code",
   "execution_count": 21,
   "metadata": {},
   "outputs": [],
   "source": [
    "import torch\n",
    "from transformers import AutoModelForCausalLM, BitsAndBytesConfig\n",
    "\n",
    "base_model_id = \"TheBloke/dolphin-2.5-mixtral-8x7b-GGUF\"\n",
    "\n",
    "# UNCOMMENT BELOW TO LOAD MODEL\n",
    "# -----------------------------\n",
    "# nf4_config = BitsAndBytesConfig(\n",
    "#     load_in_4bit=True,\n",
    "#     bnb_4bit_use_double_quant=True,\n",
    "#     bnb_4bit_quant_type=\"nf4\",\n",
    "#     bnb_4bit_compute_dtype=torch.bfloat16\n",
    "# )\n",
    "\n",
    "model = AutoModelForCausalLM.from_pretrained(\n",
    "    base_model_id, \n",
    "    quantization_config=nf4_config, \n",
    "    device_map=\"auto\",\n",
    "    use_cache=False,\n",
    "    attention_implementation=\"flash_attention_2\"\n",
    ")\n",
    "\n",
    "# Set the device to GPU (if available)\n",
    "# device = torch.device(\"cuda\" if torch.cuda.is_available() else \"cpu\")\n",
    "# model.to(device)"
   ]
  },
  {
   "attachments": {},
   "cell_type": "markdown",
   "metadata": {},
   "source": [
    "### 🌓 Some differences from Harper's tutorial\n",
    "\n",
    "`use_cache=False`  \n",
    "- **Purpose**: Prevents storing the outputs of the attention layers.\n",
    "\n",
    "- **Why Use It**: Reduces memory usage, which is beneficial when only the final model output is needed, not the intermediate states.\n",
    "\n",
    "\n",
    "`attention_implementation=\"flash_attention_2\"`  \n",
    "- **Purpose**: Specifies a particular implementation of the attention mechanism.\n",
    "\n",
    "- **Why Use It**: Improves performance and efficiency, potentially enhancing speed and reducing resource consumption. Useful in scenarios demanding high computational efficiency."
   ]
  },
  {
   "attachments": {},
   "cell_type": "markdown",
   "metadata": {},
   "source": [
    "# 🔠 Tokenization\n",
    "\n",
    "- Language models, especially transformer-based ones like BERT or GPT, understand and process text in terms of tokens, not words\n",
    "- For this reason, it's more accurate to segment entries based on token count rather than word count, which we will do later on in **Data Preparation**\n",
    "- Think about inputs and outputs to and from the model as tokens, which are embeddings that allow the model to understand our language"
   ]
  },
  {
   "cell_type": "code",
   "execution_count": 139,
   "metadata": {},
   "outputs": [],
   "source": [
    "from transformers import AutoTokenizer\n",
    "\n",
    "tokenizer_model_id = \"mistralai/Mixtral-8x7B-v0.1\"\n",
    "\n",
    "tokenizer = AutoTokenizer.from_pretrained(tokenizer_model_id)\n",
    "\n",
    "tokenizer.pad_token = tokenizer.eos_token\n",
    "tokenizer.padding_side = \"left\"\n",
    "tokenizer.add_eos_token = True\n",
    "tokenizer.add_bos_token = True"
   ]
  },
  {
   "attachments": {},
   "cell_type": "markdown",
   "metadata": {},
   "source": [
    "## 🔳 Let's Talk About Padding\n",
    "\n",
    "We set the tokenizer's padding to the left side with the line \n",
    "\n",
    "```python\n",
    "tokenizer.padding_side = \"left\"\n",
    "```\n",
    "\n",
    "### 🤔 Why do we add padding?\n",
    "\n",
    "- Neural networks require inputs of the same size for processing in batches\n",
    "\n",
    "- Sequences like sentences have different lengths\n",
    "\n",
    "- To process these sequences, they're converted into a matrix\n",
    "\n",
    "- Padding adjusts shorter sequences to match the longest one in the batch\n",
    "\n",
    "- Uniform-sized matrices are essential for efficient computation in neural networks\n",
    "\n"
   ]
  },
  {
   "attachments": {},
   "cell_type": "markdown",
   "metadata": {},
   "source": [
    "### 🔄 Possible Adjustments in Tokenizer Configuration\n",
    "\n",
    "**EOS and BOS Tokens**: \n",
    "\n",
    "- `tokenizer.add_eos_token = True` and `tokenizer.add_bos_token = True` are set to automatically append end-of-sequence (EOS) and beginning-of-sequence (BOS) tokens. This is crucial if the model's training expects every input sequence to start with a BOS token and end with an EOS token.\n",
    "\n",
    "- Make sure these settings align with how the model was pre-trained. Misalignment can affect the model's understanding of sequences.\n",
    "\n",
    "### 🚩 Important Points to Remember\n",
    "\n",
    "**Padding Tokens and Model Processing**:\n",
    "\n",
    "- Padding tokens are generally ignored during training and evaluation. This is achieved through a process called masking, ensuring these tokens don't influence the model's learning or predictions.\n",
    "\n",
    "- It's important to understand why `tokenizer.pad_token = tokenizer.eos_token`. In some models, the padding token is expected to be the same as the EOS token, but this depends on the model's original training setup.\n",
    "\n",
    "### 🧭 Padding Side: Left vs. Right\n",
    "\n",
    "**Choosing the Padding Side**:\n",
    "- The decision between left and right padding hinges on the model architecture and its sequence processing direction.\n",
    "\n",
    "- For models like GPT, which process sequences from left to right, right padding is usually preferred. This way\n"
   ]
  },
  {
   "attachments": {},
   "cell_type": "markdown",
   "metadata": {},
   "source": [
    "### 🗣️ Generate Model Response\n",
    "\n",
    "✋🏽 Make sure to cross-check generate_response with how it is done in Harper's tutorial "
   ]
  },
  {
   "cell_type": "code",
   "execution_count": 140,
   "metadata": {},
   "outputs": [],
   "source": [
    "# ✋🏽 Make sure to cross-check generate_response with how it is done in Harper's tutorial \n",
    "def generate_response(prompt, model):\n",
    "    encoded_input = tokenizer(prompt, return_tensors=\"pt\", add_special_tokens=True)\n",
    "    model_inputs = encoded_input.to(\"cuda\")\n",
    "\n",
    "    generated_ids = model.generate(\n",
    "        **model_inputs,\n",
    "        max_new_tokens=512,\n",
    "        do_sample=True,\n",
    "        pad_token_id=tokenizer.eos_token_id)\n",
    "\n",
    "    decoded_output = tokenizer.batch_decode(generated_ids)\n",
    "\n",
    "    return decoded_output[0].replace(prompt, \"\")"
   ]
  },
  {
   "attachments": {},
   "cell_type": "markdown",
   "metadata": {},
   "source": [
    "# 🧩 Data Preparation"
   ]
  },
  {
   "attachments": {},
   "cell_type": "markdown",
   "metadata": {},
   "source": [
    "### 🚀 Goal\n",
    "Transform the journal entry data into a format we can use for training"
   ]
  },
  {
   "cell_type": "code",
   "execution_count": 2,
   "metadata": {},
   "outputs": [],
   "source": [
    "import json\n",
    "from scripts.prepare_journals_for_training import process_files\n",
    "\n",
    "# Format each entry in journal_entries as {\"date\": \"2022-05-12\", \"note\": \"This is a journal entry.\"}\n",
    "journal_entries = process_files('data/raw/journal_entries/')\n",
    "\n",
    "# Save formatted entries to a JSONL file\n",
    "with open('data/processed/journal_entries.jsonl', 'w') as outfile:\n",
    "    for entry in journal_entries:\n",
    "        json.dump(entry, outfile)\n",
    "        outfile.write('\\n')"
   ]
  },
  {
   "attachments": {},
   "cell_type": "markdown",
   "metadata": {},
   "source": [
    "### ✔️ Goal complete?\n",
    "\n",
    "Is the journal entry data in a format we can use for training?  \n",
    "\n",
    "Yes! Each journal is in a format from which the important parts can be plcuked, i.e. `date` and `note`.\n",
    "\n",
    "The journal entries are now processed and in a single `.jsonl` file that looks like this:  \n",
    "```json\n",
    "{\"date\": \"2022-05-12\", \"note\": \"This is a journal entry.\"}\n",
    "{\"date\": \"2022-05-13\", \"note\": \"This is a journal entry.\"}\n",
    "{\"date\": \"2022-05-14\", \"note\": \"This is a journal entry.\"}\n",
    "```"
   ]
  },
  {
   "attachments": {},
   "cell_type": "markdown",
   "metadata": {},
   "source": [
    "## Data Quality Check\n",
    "✅ Load journal entries from a JSONL file into a pandas DataFrame.  \n",
    "✅ Display the first few rows of the DataFrame for an initial glance at the data.  \n",
    "✅ Identify and report any missing values in key columns like date and note.  \n",
    "✅ Ensure all date entries are in the correct Timestamp format.  \n",
    "✅ Verify that all journal entries are formatted as strings.  "
   ]
  },
  {
   "cell_type": "code",
   "execution_count": 3,
   "metadata": {},
   "outputs": [
    {
     "name": "stdout",
     "output_type": "stream",
     "text": [
      "DF Head\n",
      "         date                                               note\n",
      "0 2021-12-30  A porn addiction\\nPoor performance at work\\nNo...\n",
      "1 2022-03-27  You raped my childhood if any innocence it eve...\n",
      "2 2022-12-07                                                   \n",
      "3 2024-01-07  I have to admite something. Although i am sad ...\n",
      "4 2021-12-20                                                    \n",
      "\n",
      "Missing values in each column:\n",
      " date    0\n",
      "note    0\n",
      "dtype: int64\n",
      "\n",
      "Invalid dates found:\n",
      " Empty DataFrame\n",
      "Columns: [date, note]\n",
      "Index: []\n",
      "\n",
      "Non-string entries found:\n",
      " Empty DataFrame\n",
      "Columns: [date, note]\n",
      "Index: []\n",
      "\n",
      "Statistics for 'note' lengths:\n",
      " count      702.000000\n",
      "mean      2221.309117\n",
      "std       3101.092724\n",
      "min          0.000000\n",
      "25%        309.500000\n",
      "50%       1191.500000\n",
      "75%       3118.500000\n",
      "max      42126.000000\n",
      "Name: note, dtype: float64\n"
     ]
    }
   ],
   "source": [
    "import pandas as pd\n",
    "\n",
    "df = pd.read_json('data/processed/journal_entries.jsonl', lines=True)\n",
    "print(\"DF Head\\n\", df.head(), \"\\n\")\n",
    "\n",
    "# Check for missing values in both date and note columns\n",
    "missing_values = df.isnull().sum()\n",
    "print(\"Missing values in each column:\\n\", missing_values)\n",
    "\n",
    "# Validate Date Format - if the dates are already in Timestamp format, they are valid\n",
    "invalid_dates = df[~df['date'].apply(lambda x: isinstance(x, pd.Timestamp))]\n",
    "print(\"\\nInvalid dates found:\\n\", invalid_dates)\n",
    "\n",
    "# Check Journal Entry Format\n",
    "# Ensure that all journal entries are strings\n",
    "non_string_entries = df[~df['note'].apply(lambda x: isinstance(x, str))]\n",
    "print(\"\\nNon-string entries found:\\n\", non_string_entries)\n",
    "\n",
    "# Data Consistency and Completeness\n",
    "# Look for any anomalies in data, such as extremely short or long entries, or entries with unusual characters\n",
    "print(\"\\nStatistics for 'note' lengths:\\n\", df['note'].str.len().describe())\n"
   ]
  },
  {
   "attachments": {},
   "cell_type": "markdown",
   "metadata": {},
   "source": [
    "## 🕵🏽 Let's explore our data\n",
    "\n",
    "We are curious about things like:\n",
    "1. Number of entries\n",
    "2. Average length of entries\n",
    "3. Minimum length of entry\n",
    "4. Maximum length of entry"
   ]
  },
  {
   "cell_type": "code",
   "execution_count": 4,
   "metadata": {},
   "outputs": [
    {
     "name": "stdout",
     "output_type": "stream",
     "text": [
      "Number of entries: 702\n",
      "Average length of entries: 2221.309116809117\n",
      "Minimum length of entry: 0\n",
      "Maximum length of entry: 42126\n"
     ]
    }
   ],
   "source": [
    "num_entries = len(df)\n",
    "avg_length = df['note'].str.len().mean()\n",
    "min_length = df['note'].str.len().min()\n",
    "max_length = df['note'].str.len().max()\n",
    "\n",
    "print(f\"Number of entries: {num_entries}\")\n",
    "print(f\"Average length of entries: {avg_length}\")\n",
    "print(f\"Minimum length of entry: {min_length}\")\n",
    "print(f\"Maximum length of entry: {max_length}\")"
   ]
  },
  {
   "attachments": {},
   "cell_type": "markdown",
   "metadata": {},
   "source": [
    "### 📊 Now let's Visualize them"
   ]
  },
  {
   "cell_type": "code",
   "execution_count": 5,
   "metadata": {},
   "outputs": [
    {
     "data": {
      "image/png": "[encoded data removed]",
      "text/plain": [
       "<Figure size 1000x600 with 1 Axes>"
      ]
     },
     "metadata": {},
     "output_type": "display_data"
    }
   ],
   "source": [
    "import matplotlib.pyplot as plt\n",
    "\n",
    "# Calculate the length of each entry (in words)\n",
    "df['entry_length'] = df['note'].apply(lambda x: len(x.split()))\n",
    "\n",
    "# Plotting the histogram\n",
    "plt.figure(figsize=(10, 6))\n",
    "plt.hist(df['entry_length'], bins=50, color='blue', edgecolor='black')\n",
    "plt.title('Distribution of Entry Lengths')\n",
    "plt.xlabel('Length of Entries (in words)')\n",
    "plt.ylabel('Number of Entries')\n",
    "plt.grid(True)\n",
    "plt.show()"
   ]
  },
  {
   "attachments": {},
   "cell_type": "markdown",
   "metadata": {},
   "source": [
    "## 🕳️ Handle Empty Journal Entries\n",
    "\n",
    "The min entry length is 0, which means entries with nothing in them.  \n",
    "These serve no purpose, so let's get rid of them. "
   ]
  },
  {
   "cell_type": "code",
   "execution_count": 6,
   "metadata": {},
   "outputs": [
    {
     "name": "stdout",
     "output_type": "stream",
     "text": [
      "Number of empty entries: 34\n"
     ]
    }
   ],
   "source": [
    "# Filter empty entries\n",
    "empty_entries = df[df['note'].str.len() == 0]\n",
    "\n",
    "print(\"Number of empty entries:\", len(empty_entries))"
   ]
  },
  {
   "attachments": {},
   "cell_type": "markdown",
   "metadata": {},
   "source": [
    "### 🚮 Remove empty entries from the df"
   ]
  },
  {
   "cell_type": "code",
   "execution_count": 7,
   "metadata": {},
   "outputs": [
    {
     "name": "stdout",
     "output_type": "stream",
     "text": [
      "Number of empty entries: 0\n"
     ]
    }
   ],
   "source": [
    "df = df[df['note'].str.len() > 0]\n",
    "\n",
    "# Print empty entries again to make sure they are zero\n",
    "empty_entries = df[df['note'].str.len() == 0]\n",
    "print(\"Number of empty entries:\", len(empty_entries))"
   ]
  },
  {
   "attachments": {},
   "cell_type": "markdown",
   "metadata": {},
   "source": [
    "## 📏 Handle Very Short Entries\n",
    "\n",
    "- Identify all entries with length less than `word_count_threshold`.  \n",
    "- Entries of this length are a flag for data that may negatively influence the model's training.  "
   ]
  },
  {
   "cell_type": "code",
   "execution_count": 9,
   "metadata": {},
   "outputs": [
    {
     "name": "stdout",
     "output_type": "stream",
     "text": [
      "Number of short entries: 58\n",
      "          date                                               note\n",
      "23  2022-12-31           Far from a perfect year \\nLeft me hungry\n",
      "40  2020-12-17  HMU about 30 mins before hand. 9173927850 -Stefan\n",
      "47  2022-05-01                   Damian Killa\\n\\nLast name: Killa\n",
      "49  2021-08-14                           I wasn’t done being bad.\n",
      "57  2022-07-16  I can’t stop being a whore!! I NEED this vacci...\n",
      "65  2022-07-25  Between 3rd and Lexington\\nCloser to third \\n2...\n",
      "90  2022-07-30  * Writing course\\n* Exercise\\n* Look at LA apa...\n",
      "94  2022-04-15                                  You can do better\n",
      "103 2022-06-18  Study for coding interviews\\nGoogle UX design ...\n",
      "110 2022-09-22  This is a message to myself that I am writing ...\n"
     ]
    }
   ],
   "source": [
    "# Define the word count threshold\n",
    "word_count_threshold = 15\n",
    "\n",
    "# Filter the DataFrame to get entries with length less than the threshold\n",
    "short_entries = df[df['entry_length'] < word_count_threshold]\n",
    "\n",
    "# Display short entries\n",
    "print(\"Number of short entries:\", len(short_entries))\n",
    "print(short_entries[short_entries.columns.difference(['entry_length'])][:10])"
   ]
  },
  {
   "attachments": {},
   "cell_type": "markdown",
   "metadata": {},
   "source": [
    "- When I print the first ten short entries, I see that there are some that are meaningless and there are some that I want to keep. \n",
    "- I could delete them all but since there are only 58 of them, I will write a script to manually go through each and toss or keep."
   ]
  },
  {
   "attachments": {},
   "cell_type": "markdown",
   "metadata": {},
   "source": [
    "### 🔎 Figure out which short entries to delete"
   ]
  },
  {
   "cell_type": "code",
   "execution_count": 11,
   "metadata": {},
   "outputs": [],
   "source": [
    "# List to hold indexes of entries to delete\n",
    "# Keep in separate cell to maintain its state\n",
    "entries_ix_to_delete = []"
   ]
  },
  {
   "cell_type": "code",
   "execution_count": 12,
   "metadata": {},
   "outputs": [
    {
     "name": "stdout",
     "output_type": "stream",
     "text": [
      "Index: 23\n",
      "Date: 2022-12-31 00:00:00\n",
      "Note:\n",
      "Far from a perfect year \n",
      "Left me hungry\n"
     ]
    },
    {
     "data": {
      "application/vnd.jupyter.widget-view+json": {
       "model_id": "2d9a7b763ea541e482852f876f95e43f",
       "version_major": 2,
       "version_minor": 0
      },
      "text/plain": [
       "HBox(children=(Button(description='Delete', style=ButtonStyle()), Button(description='Keep', style=ButtonStyle…"
      ]
     },
     "metadata": {},
     "output_type": "display_data"
    },
    {
     "name": "stdout",
     "output_type": "stream",
     "text": [
      "\n",
      "----------------------------------------\n",
      "\n",
      "Index: 40\n",
      "Date: 2020-12-17 00:00:00\n",
      "Note:\n",
      "HMU about 30 mins before hand. 9173927850 -Stefan\n"
     ]
    },
    {
     "data": {
      "application/vnd.jupyter.widget-view+json": {
       "model_id": "f311e572d33743fa9e1d61b8ca477752",
       "version_major": 2,
       "version_minor": 0
      },
      "text/plain": [
       "HBox(children=(Button(description='Delete', style=ButtonStyle()), Button(description='Keep', style=ButtonStyle…"
      ]
     },
     "metadata": {},
     "output_type": "display_data"
    },
    {
     "name": "stdout",
     "output_type": "stream",
     "text": [
      "\n",
      "----------------------------------------\n",
      "\n",
      "Index: 47\n",
      "Date: 2022-05-01 00:00:00\n",
      "Note:\n",
      "Damian Killa\n",
      "\n",
      "Last name: Killa\n"
     ]
    },
    {
     "data": {
      "application/vnd.jupyter.widget-view+json": {
       "model_id": "109b6cb3493c419f8bc9f7b2d7c7b3df",
       "version_major": 2,
       "version_minor": 0
      },
      "text/plain": [
       "HBox(children=(Button(description='Delete', style=ButtonStyle()), Button(description='Keep', style=ButtonStyle…"
      ]
     },
     "metadata": {},
     "output_type": "display_data"
    },
    {
     "name": "stdout",
     "output_type": "stream",
     "text": [
      "\n",
      "----------------------------------------\n",
      "\n",
      "Index: 49\n",
      "Date: 2021-08-14 00:00:00\n",
      "Note:\n",
      "I wasn’t done being bad.\n"
     ]
    },
    {
     "data": {
      "application/vnd.jupyter.widget-view+json": {
       "model_id": "b417bd530ed64962b39a6b9f1554bc42",
       "version_major": 2,
       "version_minor": 0
      },
      "text/plain": [
       "HBox(children=(Button(description='Delete', style=ButtonStyle()), Button(description='Keep', style=ButtonStyle…"
      ]
     },
     "metadata": {},
     "output_type": "display_data"
    },
    {
     "name": "stdout",
     "output_type": "stream",
     "text": [
      "\n",
      "----------------------------------------\n",
      "\n",
      "Index: 57\n",
      "Date: 2022-07-16 00:00:00\n",
      "Note:\n",
      "I can’t stop being a whore!! I NEED this vaccine!!!\n"
     ]
    },
    {
     "data": {
      "application/vnd.jupyter.widget-view+json": {
       "model_id": "9e72100d370641d79780aa735417720d",
       "version_major": 2,
       "version_minor": 0
      },
      "text/plain": [
       "HBox(children=(Button(description='Delete', style=ButtonStyle()), Button(description='Keep', style=ButtonStyle…"
      ]
     },
     "metadata": {},
     "output_type": "display_data"
    },
    {
     "name": "stdout",
     "output_type": "stream",
     "text": [
      "\n",
      "----------------------------------------\n",
      "\n",
      "Index: 65\n",
      "Date: 2022-07-25 00:00:00\n",
      "Note:\n",
      "Between 3rd and Lexington\n",
      "Closer to third \n",
      "2nd floor\n",
      "\n",
      "8am\n"
     ]
    },
    {
     "data": {
      "application/vnd.jupyter.widget-view+json": {
       "model_id": "96ad6a468aaf440f9548144e4673b9b0",
       "version_major": 2,
       "version_minor": 0
      },
      "text/plain": [
       "HBox(children=(Button(description='Delete', style=ButtonStyle()), Button(description='Keep', style=ButtonStyle…"
      ]
     },
     "metadata": {},
     "output_type": "display_data"
    },
    {
     "name": "stdout",
     "output_type": "stream",
     "text": [
      "\n",
      "----------------------------------------\n",
      "\n",
      "Index: 90\n",
      "Date: 2022-07-30 00:00:00\n",
      "Note:\n",
      "* Writing course\n",
      "* Exercise\n",
      "* Look at LA apartments\n"
     ]
    },
    {
     "data": {
      "application/vnd.jupyter.widget-view+json": {
       "model_id": "1fbe0d5318b94d4883727375a1801dda",
       "version_major": 2,
       "version_minor": 0
      },
      "text/plain": [
       "HBox(children=(Button(description='Delete', style=ButtonStyle()), Button(description='Keep', style=ButtonStyle…"
      ]
     },
     "metadata": {},
     "output_type": "display_data"
    },
    {
     "name": "stdout",
     "output_type": "stream",
     "text": [
      "\n",
      "----------------------------------------\n",
      "\n",
      "Index: 94\n",
      "Date: 2022-04-15 00:00:00\n",
      "Note:\n",
      "You can do better\n"
     ]
    },
    {
     "data": {
      "application/vnd.jupyter.widget-view+json": {
       "model_id": "0a7be503b8c140b38827d4e0caad5c22",
       "version_major": 2,
       "version_minor": 0
      },
      "text/plain": [
       "HBox(children=(Button(description='Delete', style=ButtonStyle()), Button(description='Keep', style=ButtonStyle…"
      ]
     },
     "metadata": {},
     "output_type": "display_data"
    },
    {
     "name": "stdout",
     "output_type": "stream",
     "text": [
      "\n",
      "----------------------------------------\n",
      "\n",
      "Index: 103\n",
      "Date: 2022-06-18 00:00:00\n",
      "Note:\n",
      "Study for coding interviews\n",
      "Google UX design course\n",
      "Pinesbnb\n"
     ]
    },
    {
     "data": {
      "application/vnd.jupyter.widget-view+json": {
       "model_id": "dcb74cea3d52486bb8f4a666a3c3d7df",
       "version_major": 2,
       "version_minor": 0
      },
      "text/plain": [
       "HBox(children=(Button(description='Delete', style=ButtonStyle()), Button(description='Keep', style=ButtonStyle…"
      ]
     },
     "metadata": {},
     "output_type": "display_data"
    },
    {
     "name": "stdout",
     "output_type": "stream",
     "text": [
      "\n",
      "----------------------------------------\n",
      "\n",
      "Index: 110\n",
      "Date: 2022-09-22 00:00:00\n",
      "Note:\n",
      "This is a message to myself that I am writing openly.\n"
     ]
    },
    {
     "data": {
      "application/vnd.jupyter.widget-view+json": {
       "model_id": "b82d7453c47044859876a2a4a4430d1d",
       "version_major": 2,
       "version_minor": 0
      },
      "text/plain": [
       "HBox(children=(Button(description='Delete', style=ButtonStyle()), Button(description='Keep', style=ButtonStyle…"
      ]
     },
     "metadata": {},
     "output_type": "display_data"
    },
    {
     "name": "stdout",
     "output_type": "stream",
     "text": [
      "\n",
      "----------------------------------------\n",
      "\n",
      "Index: 117\n",
      "Date: 2020-01-01 00:00:00\n",
      "Note:\n",
      "Hey Johnny, y\n"
     ]
    },
    {
     "data": {
      "application/vnd.jupyter.widget-view+json": {
       "model_id": "35e9bdc38fdd4dc6a098252387c0055e",
       "version_major": 2,
       "version_minor": 0
      },
      "text/plain": [
       "HBox(children=(Button(description='Delete', style=ButtonStyle()), Button(description='Keep', style=ButtonStyle…"
      ]
     },
     "metadata": {},
     "output_type": "display_data"
    },
    {
     "name": "stdout",
     "output_type": "stream",
     "text": [
      "\n",
      "----------------------------------------\n",
      "\n",
      "Index: 130\n",
      "Date: 2023-03-10 00:00:00\n",
      "Note:\n",
      "Sireina \n",
      "\n",
      "Like siren, the killers of the sea\n"
     ]
    },
    {
     "data": {
      "application/vnd.jupyter.widget-view+json": {
       "model_id": "91706faed68f49b281725114e02c0b4c",
       "version_major": 2,
       "version_minor": 0
      },
      "text/plain": [
       "HBox(children=(Button(description='Delete', style=ButtonStyle()), Button(description='Keep', style=ButtonStyle…"
      ]
     },
     "metadata": {},
     "output_type": "display_data"
    },
    {
     "name": "stdout",
     "output_type": "stream",
     "text": [
      "\n",
      "----------------------------------------\n",
      "\n",
      "Index: 132\n",
      "Date: 2020-11-26 00:00:00\n",
      "Note:\n",
      "Chicken\n",
      "Mashed potatoes\n",
      "Asparagus\n",
      "Gravy\n",
      "Cranberry sauce\n"
     ]
    },
    {
     "data": {
      "application/vnd.jupyter.widget-view+json": {
       "model_id": "ad49f4392e6e4a58a52d83765ed88fe9",
       "version_major": 2,
       "version_minor": 0
      },
      "text/plain": [
       "HBox(children=(Button(description='Delete', style=ButtonStyle()), Button(description='Keep', style=ButtonStyle…"
      ]
     },
     "metadata": {},
     "output_type": "display_data"
    },
    {
     "name": "stdout",
     "output_type": "stream",
     "text": [
      "\n",
      "----------------------------------------\n",
      "\n",
      "Index: 153\n",
      "Date: 2023-03-23 00:00:00\n",
      "Note:\n",
      "Kara Swisher 😂\n"
     ]
    },
    {
     "data": {
      "application/vnd.jupyter.widget-view+json": {
       "model_id": "df7222eb17504fa98bf4e95a19b930ee",
       "version_major": 2,
       "version_minor": 0
      },
      "text/plain": [
       "HBox(children=(Button(description='Delete', style=ButtonStyle()), Button(description='Keep', style=ButtonStyle…"
      ]
     },
     "metadata": {},
     "output_type": "display_data"
    },
    {
     "name": "stdout",
     "output_type": "stream",
     "text": [
      "\n",
      "----------------------------------------\n",
      "\n",
      "Index: 156\n",
      "Date: 2022-05-18 00:00:00\n",
      "Note:\n",
      "18665385438\n"
     ]
    },
    {
     "data": {
      "application/vnd.jupyter.widget-view+json": {
       "model_id": "ad9f4cefc73443a78e648b7747a2a6ea",
       "version_major": 2,
       "version_minor": 0
      },
      "text/plain": [
       "HBox(children=(Button(description='Delete', style=ButtonStyle()), Button(description='Keep', style=ButtonStyle…"
      ]
     },
     "metadata": {},
     "output_type": "display_data"
    },
    {
     "name": "stdout",
     "output_type": "stream",
     "text": [
      "\n",
      "----------------------------------------\n",
      "\n",
      "Index: 165\n",
      "Date: 2021-12-03 00:00:00\n",
      "Note:\n",
      "https://www.airbnb.com/book/stays/21409981?numberOfAdults=1&numberOfChildren=0&numberOfInfants=0&checkin=2022-03-07&checkout=2022-03-14&guestCurrency=USD&productId=21409981&isWorkTrip=false&numberOfGuests=1&numberOfPets=0&code=HMP8B4QRZZ\n"
     ]
    },
    {
     "data": {
      "application/vnd.jupyter.widget-view+json": {
       "model_id": "9d292f8c375b4e2caaacd8bff0e454c9",
       "version_major": 2,
       "version_minor": 0
      },
      "text/plain": [
       "HBox(children=(Button(description='Delete', style=ButtonStyle()), Button(description='Keep', style=ButtonStyle…"
      ]
     },
     "metadata": {},
     "output_type": "display_data"
    },
    {
     "name": "stdout",
     "output_type": "stream",
     "text": [
      "\n",
      "----------------------------------------\n",
      "\n",
      "Index: 169\n",
      "Date: 2023-01-19 00:00:00\n",
      "Note:\n",
      "- Tops that don’t eat ass\n"
     ]
    },
    {
     "data": {
      "application/vnd.jupyter.widget-view+json": {
       "model_id": "c49d94f492894dceb602965e4cb208c8",
       "version_major": 2,
       "version_minor": 0
      },
      "text/plain": [
       "HBox(children=(Button(description='Delete', style=ButtonStyle()), Button(description='Keep', style=ButtonStyle…"
      ]
     },
     "metadata": {},
     "output_type": "display_data"
    },
    {
     "name": "stdout",
     "output_type": "stream",
     "text": [
      "\n",
      "----------------------------------------\n",
      "\n",
      "Index: 171\n",
      "Date: 2022-06-29 00:00:00\n",
      "Note:\n",
      "What food to get for lunch and dinner?\n",
      "Eat\n",
      "- Breakfast\n"
     ]
    },
    {
     "data": {
      "application/vnd.jupyter.widget-view+json": {
       "model_id": "6aa9095f33ab48c5b63da56695ed06e7",
       "version_major": 2,
       "version_minor": 0
      },
      "text/plain": [
       "HBox(children=(Button(description='Delete', style=ButtonStyle()), Button(description='Keep', style=ButtonStyle…"
      ]
     },
     "metadata": {},
     "output_type": "display_data"
    },
    {
     "name": "stdout",
     "output_type": "stream",
     "text": [
      "\n",
      "----------------------------------------\n",
      "\n",
      "Index: 174\n",
      "Date: 2021-12-29 00:00:00\n",
      "Note:\n",
      "Hey, I don’t have a problem getting hard. It’s just that sometimes\n"
     ]
    },
    {
     "data": {
      "application/vnd.jupyter.widget-view+json": {
       "model_id": "c55d62d8052f42f8bd76692fac14ff65",
       "version_major": 2,
       "version_minor": 0
      },
      "text/plain": [
       "HBox(children=(Button(description='Delete', style=ButtonStyle()), Button(description='Keep', style=ButtonStyle…"
      ]
     },
     "metadata": {},
     "output_type": "display_data"
    },
    {
     "name": "stdout",
     "output_type": "stream",
     "text": [
      "\n",
      "----------------------------------------\n",
      "\n",
      "Index: 183\n",
      "Date: 2023-08-28 00:00:00\n",
      "Note:\n",
      "I love when the muse visits me\n"
     ]
    },
    {
     "data": {
      "application/vnd.jupyter.widget-view+json": {
       "model_id": "5e3bcd30c7134a15961a4927ed9fc507",
       "version_major": 2,
       "version_minor": 0
      },
      "text/plain": [
       "HBox(children=(Button(description='Delete', style=ButtonStyle()), Button(description='Keep', style=ButtonStyle…"
      ]
     },
     "metadata": {},
     "output_type": "display_data"
    },
    {
     "name": "stdout",
     "output_type": "stream",
     "text": [
      "\n",
      "----------------------------------------\n",
      "\n",
      "Index: 205\n",
      "Date: 2023-04-14 00:00:00\n",
      "Note:\n",
      "Joe Cutaia talking about middle eastern men\n"
     ]
    },
    {
     "data": {
      "application/vnd.jupyter.widget-view+json": {
       "model_id": "e4e55fc01b0b4e96b66d3527c7c9f6fd",
       "version_major": 2,
       "version_minor": 0
      },
      "text/plain": [
       "HBox(children=(Button(description='Delete', style=ButtonStyle()), Button(description='Keep', style=ButtonStyle…"
      ]
     },
     "metadata": {},
     "output_type": "display_data"
    },
    {
     "name": "stdout",
     "output_type": "stream",
     "text": [
      "\n",
      "----------------------------------------\n",
      "\n",
      "Index: 219\n",
      "Date: 2022-03-18 00:00:00\n",
      "Note:\n",
      "**# Auth**\n",
      "**\n",
      "**\n",
      "https://www.pinesbnb.com/login?redirectRoute=%2Ftest%2Flanding&redirectAsPath=%2Ftest%2Flanding**\n",
      "**\n",
      "**\n",
      "**\n"
     ]
    },
    {
     "data": {
      "application/vnd.jupyter.widget-view+json": {
       "model_id": "6cf8b94fbd51437694c36778bf9f148b",
       "version_major": 2,
       "version_minor": 0
      },
      "text/plain": [
       "HBox(children=(Button(description='Delete', style=ButtonStyle()), Button(description='Keep', style=ButtonStyle…"
      ]
     },
     "metadata": {},
     "output_type": "display_data"
    },
    {
     "name": "stdout",
     "output_type": "stream",
     "text": [
      "\n",
      "----------------------------------------\n",
      "\n",
      "Index: 247\n",
      "Date: 2022-12-13 00:00:00\n",
      "Note:\n",
      "https://open.spotify.com/episode/46nL3iby2igs0q69s8hCnq?si=vnfpg3uRRXOS-BuLC9WxMA\n",
      "\n",
      "Role play how to negatively interact and then do the positive interaction\n"
     ]
    },
    {
     "data": {
      "application/vnd.jupyter.widget-view+json": {
       "model_id": "a2f4816d08414515ad0be4f87f364d89",
       "version_major": 2,
       "version_minor": 0
      },
      "text/plain": [
       "HBox(children=(Button(description='Delete', style=ButtonStyle()), Button(description='Keep', style=ButtonStyle…"
      ]
     },
     "metadata": {},
     "output_type": "display_data"
    },
    {
     "name": "stdout",
     "output_type": "stream",
     "text": [
      "\n",
      "----------------------------------------\n",
      "\n",
      "Index: 291\n",
      "Date: 2022-03-27 00:00:00\n",
      "Note:\n",
      "Strapi\n"
     ]
    },
    {
     "data": {
      "application/vnd.jupyter.widget-view+json": {
       "model_id": "02779c3f64e4424f8323107c13e5c98f",
       "version_major": 2,
       "version_minor": 0
      },
      "text/plain": [
       "HBox(children=(Button(description='Delete', style=ButtonStyle()), Button(description='Keep', style=ButtonStyle…"
      ]
     },
     "metadata": {},
     "output_type": "display_data"
    },
    {
     "name": "stdout",
     "output_type": "stream",
     "text": [
      "\n",
      "----------------------------------------\n",
      "\n",
      "Index: 292\n",
      "Date: 2022-06-28 00:00:00\n",
      "Note:\n",
      "Maya Pinion\n",
      "Saline Cuisine \n",
      "Tanya Hardthing\n"
     ]
    },
    {
     "data": {
      "application/vnd.jupyter.widget-view+json": {
       "model_id": "ea96bad3f7434e53bad895ce52852708",
       "version_major": 2,
       "version_minor": 0
      },
      "text/plain": [
       "HBox(children=(Button(description='Delete', style=ButtonStyle()), Button(description='Keep', style=ButtonStyle…"
      ]
     },
     "metadata": {},
     "output_type": "display_data"
    },
    {
     "name": "stdout",
     "output_type": "stream",
     "text": [
      "\n",
      "----------------------------------------\n",
      "\n",
      "Index: 293\n",
      "Date: 2022-10-22 00:00:00\n",
      "Note:\n",
      "Build him up.\n"
     ]
    },
    {
     "data": {
      "application/vnd.jupyter.widget-view+json": {
       "model_id": "c6432a89ab144551b82ce3e94506aa58",
       "version_major": 2,
       "version_minor": 0
      },
      "text/plain": [
       "HBox(children=(Button(description='Delete', style=ButtonStyle()), Button(description='Keep', style=ButtonStyle…"
      ]
     },
     "metadata": {},
     "output_type": "display_data"
    },
    {
     "name": "stdout",
     "output_type": "stream",
     "text": [
      "\n",
      "----------------------------------------\n",
      "\n",
      "Index: 295\n",
      "Date: 2021-08-08 00:00:00\n",
      "Note:\n",
      "There is no reading at the gay beach. Unless it’s other gays.\n"
     ]
    },
    {
     "data": {
      "application/vnd.jupyter.widget-view+json": {
       "model_id": "2fbc9e29e6fd46c6ba7485b499c477b3",
       "version_major": 2,
       "version_minor": 0
      },
      "text/plain": [
       "HBox(children=(Button(description='Delete', style=ButtonStyle()), Button(description='Keep', style=ButtonStyle…"
      ]
     },
     "metadata": {},
     "output_type": "display_data"
    },
    {
     "name": "stdout",
     "output_type": "stream",
     "text": [
      "\n",
      "----------------------------------------\n",
      "\n",
      "Index: 307\n",
      "Date: 2020-12-26 00:00:00\n",
      "Note:\n",
      "Sitting in my bedroom alone for five days straight. Eating and sleeping schedule fucked.\n"
     ]
    },
    {
     "data": {
      "application/vnd.jupyter.widget-view+json": {
       "model_id": "2cb3b722b01448308d4cf22b374eb148",
       "version_major": 2,
       "version_minor": 0
      },
      "text/plain": [
       "HBox(children=(Button(description='Delete', style=ButtonStyle()), Button(description='Keep', style=ButtonStyle…"
      ]
     },
     "metadata": {},
     "output_type": "display_data"
    },
    {
     "name": "stdout",
     "output_type": "stream",
     "text": [
      "\n",
      "----------------------------------------\n",
      "\n",
      "Index: 315\n",
      "Date: 2022-07-21 00:00:00\n",
      "Note:\n",
      "Dob\n",
      "Ssn \n",
      "Address NY\n",
      "Telephone \n",
      "Email address\n"
     ]
    },
    {
     "data": {
      "application/vnd.jupyter.widget-view+json": {
       "model_id": "17ee26bc7e77469f8b4b120e0cb7b138",
       "version_major": 2,
       "version_minor": 0
      },
      "text/plain": [
       "HBox(children=(Button(description='Delete', style=ButtonStyle()), Button(description='Keep', style=ButtonStyle…"
      ]
     },
     "metadata": {},
     "output_type": "display_data"
    },
    {
     "name": "stdout",
     "output_type": "stream",
     "text": [
      "\n",
      "----------------------------------------\n",
      "\n",
      "Index: 318\n",
      "Date: 2020-06-30 00:00:00\n",
      "Note:\n",
      "I spoke to\n"
     ]
    },
    {
     "data": {
      "application/vnd.jupyter.widget-view+json": {
       "model_id": "918003f9bf714bebba32e5ab8e9323a1",
       "version_major": 2,
       "version_minor": 0
      },
      "text/plain": [
       "HBox(children=(Button(description='Delete', style=ButtonStyle()), Button(description='Keep', style=ButtonStyle…"
      ]
     },
     "metadata": {},
     "output_type": "display_data"
    },
    {
     "name": "stdout",
     "output_type": "stream",
     "text": [
      "\n",
      "----------------------------------------\n",
      "\n",
      "Index: 325\n",
      "Date: 2019-11-18 00:00:00\n",
      "Note:\n",
      "His voice makes me want to cum and he has a beautiful mouth\n"
     ]
    },
    {
     "data": {
      "application/vnd.jupyter.widget-view+json": {
       "model_id": "17057a98bcb149ad929440534178a92e",
       "version_major": 2,
       "version_minor": 0
      },
      "text/plain": [
       "HBox(children=(Button(description='Delete', style=ButtonStyle()), Button(description='Keep', style=ButtonStyle…"
      ]
     },
     "metadata": {},
     "output_type": "display_data"
    },
    {
     "name": "stdout",
     "output_type": "stream",
     "text": [
      "\n",
      "----------------------------------------\n",
      "\n",
      "Index: 336\n",
      "Date: 2022-01-20 00:00:00\n",
      "Note:\n",
      "1. Osama\n",
      "2. Ruggery\n",
      "3. Disco dick\n",
      "4. Brogan\n",
      "5. Cameron Rose\n"
     ]
    },
    {
     "data": {
      "application/vnd.jupyter.widget-view+json": {
       "model_id": "80d21b20fb8f41deb72798b480d1e25f",
       "version_major": 2,
       "version_minor": 0
      },
      "text/plain": [
       "HBox(children=(Button(description='Delete', style=ButtonStyle()), Button(description='Keep', style=ButtonStyle…"
      ]
     },
     "metadata": {},
     "output_type": "display_data"
    },
    {
     "name": "stdout",
     "output_type": "stream",
     "text": [
      "\n",
      "----------------------------------------\n",
      "\n",
      "Index: 342\n",
      "Date: 2020-09-05 00:00:00\n",
      "Note:\n",
      "* Breakfast\n",
      "* Cook chili\n",
      "* Exercise\n",
      "* Eat meals\n",
      "* Write\n",
      "* Greadee\n"
     ]
    },
    {
     "data": {
      "application/vnd.jupyter.widget-view+json": {
       "model_id": "6408f8e485e64450b6d5dab089cce303",
       "version_major": 2,
       "version_minor": 0
      },
      "text/plain": [
       "HBox(children=(Button(description='Delete', style=ButtonStyle()), Button(description='Keep', style=ButtonStyle…"
      ]
     },
     "metadata": {},
     "output_type": "display_data"
    },
    {
     "name": "stdout",
     "output_type": "stream",
     "text": [
      "\n",
      "----------------------------------------\n",
      "\n",
      "Index: 356\n",
      "Date: 2020-11-06 00:00:00\n",
      "Note:\n",
      "Raw exposures and portrayal of the world around me too\n",
      "\n",
      "Burnerofbridges\n"
     ]
    },
    {
     "data": {
      "application/vnd.jupyter.widget-view+json": {
       "model_id": "61a9446e03b24c9da5db2622777b0254",
       "version_major": 2,
       "version_minor": 0
      },
      "text/plain": [
       "HBox(children=(Button(description='Delete', style=ButtonStyle()), Button(description='Keep', style=ButtonStyle…"
      ]
     },
     "metadata": {},
     "output_type": "display_data"
    },
    {
     "name": "stdout",
     "output_type": "stream",
     "text": [
      "\n",
      "----------------------------------------\n",
      "\n",
      "Index: 365\n",
      "Date: 2023-03-05 00:00:00\n",
      "Note:\n",
      "Every relationship I have ever been in has been interracial.\n"
     ]
    },
    {
     "data": {
      "application/vnd.jupyter.widget-view+json": {
       "model_id": "5665784921cc4f83a7c7944c4a158233",
       "version_major": 2,
       "version_minor": 0
      },
      "text/plain": [
       "HBox(children=(Button(description='Delete', style=ButtonStyle()), Button(description='Keep', style=ButtonStyle…"
      ]
     },
     "metadata": {},
     "output_type": "display_data"
    },
    {
     "name": "stdout",
     "output_type": "stream",
     "text": [
      "\n",
      "----------------------------------------\n",
      "\n",
      "Index: 367\n",
      "Date: 2022-02-13 00:00:00\n",
      "Note:\n",
      "Always build people up\n",
      "That is how community is created\n"
     ]
    },
    {
     "data": {
      "application/vnd.jupyter.widget-view+json": {
       "model_id": "95bd8d3f99f94b93b470ff855a82b86c",
       "version_major": 2,
       "version_minor": 0
      },
      "text/plain": [
       "HBox(children=(Button(description='Delete', style=ButtonStyle()), Button(description='Keep', style=ButtonStyle…"
      ]
     },
     "metadata": {},
     "output_type": "display_data"
    },
    {
     "name": "stdout",
     "output_type": "stream",
     "text": [
      "\n",
      "----------------------------------------\n",
      "\n",
      "Index: 385\n",
      "Date: 2022-09-17 00:00:00\n",
      "Note:\n",
      "115 1/2 N. Kings Road, Los Angeles CA\n"
     ]
    },
    {
     "data": {
      "application/vnd.jupyter.widget-view+json": {
       "model_id": "10f84637a8c84d3b954da8c002f6a58c",
       "version_major": 2,
       "version_minor": 0
      },
      "text/plain": [
       "HBox(children=(Button(description='Delete', style=ButtonStyle()), Button(description='Keep', style=ButtonStyle…"
      ]
     },
     "metadata": {},
     "output_type": "display_data"
    },
    {
     "name": "stdout",
     "output_type": "stream",
     "text": [
      "\n",
      "----------------------------------------\n",
      "\n",
      "Index: 407\n",
      "Date: 2021-01-30 00:00:00\n",
      "Note:\n",
      "Incredible thing\n"
     ]
    },
    {
     "data": {
      "application/vnd.jupyter.widget-view+json": {
       "model_id": "4968ec3821624fcd9984f6a63e22e289",
       "version_major": 2,
       "version_minor": 0
      },
      "text/plain": [
       "HBox(children=(Button(description='Delete', style=ButtonStyle()), Button(description='Keep', style=ButtonStyle…"
      ]
     },
     "metadata": {},
     "output_type": "display_data"
    },
    {
     "name": "stdout",
     "output_type": "stream",
     "text": [
      "\n",
      "----------------------------------------\n",
      "\n",
      "Index: 424\n",
      "Date: 2019-08-21 00:00:00\n",
      "Note:\n",
      "Mowgli from the Jungle Book glowed up\n"
     ]
    },
    {
     "data": {
      "application/vnd.jupyter.widget-view+json": {
       "model_id": "5d598e5cbef74deca162cfb423a2e1f6",
       "version_major": 2,
       "version_minor": 0
      },
      "text/plain": [
       "HBox(children=(Button(description='Delete', style=ButtonStyle()), Button(description='Keep', style=ButtonStyle…"
      ]
     },
     "metadata": {},
     "output_type": "display_data"
    },
    {
     "name": "stdout",
     "output_type": "stream",
     "text": [
      "\n",
      "----------------------------------------\n",
      "\n",
      "Index: 433\n",
      "Date: 2021-08-10 00:00:00\n",
      "Note:\n",
      "And all I need to do is catch it.\n"
     ]
    },
    {
     "data": {
      "application/vnd.jupyter.widget-view+json": {
       "model_id": "0e838510844a41ff8c1975428258be70",
       "version_major": 2,
       "version_minor": 0
      },
      "text/plain": [
       "HBox(children=(Button(description='Delete', style=ButtonStyle()), Button(description='Keep', style=ButtonStyle…"
      ]
     },
     "metadata": {},
     "output_type": "display_data"
    },
    {
     "name": "stdout",
     "output_type": "stream",
     "text": [
      "\n",
      "----------------------------------------\n",
      "\n",
      "Index: 451\n",
      "Date: 2022-02-24 00:00:00\n",
      "Note:\n",
      "We need better boundaries but we are ok.\n"
     ]
    },
    {
     "data": {
      "application/vnd.jupyter.widget-view+json": {
       "model_id": "da64c52c82fd4ceeb0f63d9a4c392a1f",
       "version_major": 2,
       "version_minor": 0
      },
      "text/plain": [
       "HBox(children=(Button(description='Delete', style=ButtonStyle()), Button(description='Keep', style=ButtonStyle…"
      ]
     },
     "metadata": {},
     "output_type": "display_data"
    },
    {
     "name": "stdout",
     "output_type": "stream",
     "text": [
      "\n",
      "----------------------------------------\n",
      "\n",
      "Index: 474\n",
      "Date: 2020-11-23 00:00:00\n",
      "Note:\n",
      "zlna-nsyj-bisc-xdql-rcgn\n"
     ]
    },
    {
     "data": {
      "application/vnd.jupyter.widget-view+json": {
       "model_id": "2b1fe381d20245f88e41a88b236af2b7",
       "version_major": 2,
       "version_minor": 0
      },
      "text/plain": [
       "HBox(children=(Button(description='Delete', style=ButtonStyle()), Button(description='Keep', style=ButtonStyle…"
      ]
     },
     "metadata": {},
     "output_type": "display_data"
    },
    {
     "name": "stdout",
     "output_type": "stream",
     "text": [
      "\n",
      "----------------------------------------\n",
      "\n",
      "Index: 530\n",
      "Date: 2022-03-12 00:00:00\n",
      "Note:\n",
      "866-7316393\n"
     ]
    },
    {
     "data": {
      "application/vnd.jupyter.widget-view+json": {
       "model_id": "a3649e78a21849aaac0bf6a2051a2a86",
       "version_major": 2,
       "version_minor": 0
      },
      "text/plain": [
       "HBox(children=(Button(description='Delete', style=ButtonStyle()), Button(description='Keep', style=ButtonStyle…"
      ]
     },
     "metadata": {},
     "output_type": "display_data"
    },
    {
     "name": "stdout",
     "output_type": "stream",
     "text": [
      "\n",
      "----------------------------------------\n",
      "\n",
      "Index: 534\n",
      "Date: 2022-03-27 00:00:00\n",
      "Note:\n",
      "Image Engine.Oo\n"
     ]
    },
    {
     "data": {
      "application/vnd.jupyter.widget-view+json": {
       "model_id": "be3ea5607e8746699dbd12ebd6499c38",
       "version_major": 2,
       "version_minor": 0
      },
      "text/plain": [
       "HBox(children=(Button(description='Delete', style=ButtonStyle()), Button(description='Keep', style=ButtonStyle…"
      ]
     },
     "metadata": {},
     "output_type": "display_data"
    },
    {
     "name": "stdout",
     "output_type": "stream",
     "text": [
      "\n",
      "----------------------------------------\n",
      "\n",
      "Index: 538\n",
      "Date: 2020-09-14 00:00:00\n",
      "Note:\n",
      "Except to climb. I know how to climb. I was wired that way.\n"
     ]
    },
    {
     "data": {
      "application/vnd.jupyter.widget-view+json": {
       "model_id": "90ae4b9d3dd548279ce6c2bd35e151a5",
       "version_major": 2,
       "version_minor": 0
      },
      "text/plain": [
       "HBox(children=(Button(description='Delete', style=ButtonStyle()), Button(description='Keep', style=ButtonStyle…"
      ]
     },
     "metadata": {},
     "output_type": "display_data"
    },
    {
     "name": "stdout",
     "output_type": "stream",
     "text": [
      "\n",
      "----------------------------------------\n",
      "\n",
      "Index: 541\n",
      "Date: 2022-02-07 00:00:00\n",
      "Note:\n",
      "*\n"
     ]
    },
    {
     "data": {
      "application/vnd.jupyter.widget-view+json": {
       "model_id": "a3e8339179b84539b8541f69b7a6ea34",
       "version_major": 2,
       "version_minor": 0
      },
      "text/plain": [
       "HBox(children=(Button(description='Delete', style=ButtonStyle()), Button(description='Keep', style=ButtonStyle…"
      ]
     },
     "metadata": {},
     "output_type": "display_data"
    },
    {
     "name": "stdout",
     "output_type": "stream",
     "text": [
      "\n",
      "----------------------------------------\n",
      "\n",
      "Index: 543\n",
      "Date: 2022-11-20 00:00:00\n",
      "Note:\n",
      "Bro, the bigger they are the harder they bottom.\n"
     ]
    },
    {
     "data": {
      "application/vnd.jupyter.widget-view+json": {
       "model_id": "6623c144c15b4d9d98875db92bbb24bf",
       "version_major": 2,
       "version_minor": 0
      },
      "text/plain": [
       "HBox(children=(Button(description='Delete', style=ButtonStyle()), Button(description='Keep', style=ButtonStyle…"
      ]
     },
     "metadata": {},
     "output_type": "display_data"
    },
    {
     "name": "stdout",
     "output_type": "stream",
     "text": [
      "\n",
      "----------------------------------------\n",
      "\n",
      "Index: 567\n",
      "Date: 2020-05-01 00:00:00\n",
      "Note:\n",
      "![2020-05-01-Money-](images/2020-05-01-Money-.png)\n"
     ]
    },
    {
     "data": {
      "application/vnd.jupyter.widget-view+json": {
       "model_id": "9fc0099cfa2240f0982a34493eced1c2",
       "version_major": 2,
       "version_minor": 0
      },
      "text/plain": [
       "HBox(children=(Button(description='Delete', style=ButtonStyle()), Button(description='Keep', style=ButtonStyle…"
      ]
     },
     "metadata": {},
     "output_type": "display_data"
    },
    {
     "name": "stdout",
     "output_type": "stream",
     "text": [
      "\n",
      "----------------------------------------\n",
      "\n",
      "Index: 576\n",
      "Date: 2020-05-26 00:00:00\n",
      "Note:\n",
      "Smile for you friends, cry later\n"
     ]
    },
    {
     "data": {
      "application/vnd.jupyter.widget-view+json": {
       "model_id": "856f57768d494ce78b0fd9de6107c0f2",
       "version_major": 2,
       "version_minor": 0
      },
      "text/plain": [
       "HBox(children=(Button(description='Delete', style=ButtonStyle()), Button(description='Keep', style=ButtonStyle…"
      ]
     },
     "metadata": {},
     "output_type": "display_data"
    },
    {
     "name": "stdout",
     "output_type": "stream",
     "text": [
      "\n",
      "----------------------------------------\n",
      "\n",
      "Index: 578\n",
      "Date: 2020-05-26 00:00:00\n",
      "Note:\n",
      "Why I’m exiting quarantine a little less gay\n"
     ]
    },
    {
     "data": {
      "application/vnd.jupyter.widget-view+json": {
       "model_id": "732049cfa69841148f146058310e6d81",
       "version_major": 2,
       "version_minor": 0
      },
      "text/plain": [
       "HBox(children=(Button(description='Delete', style=ButtonStyle()), Button(description='Keep', style=ButtonStyle…"
      ]
     },
     "metadata": {},
     "output_type": "display_data"
    },
    {
     "name": "stdout",
     "output_type": "stream",
     "text": [
      "\n",
      "----------------------------------------\n",
      "\n",
      "Index: 589\n",
      "Date: 2022-09-20 00:00:00\n",
      "Note:\n",
      "Face wash\n",
      "No poo deva curl\n"
     ]
    },
    {
     "data": {
      "application/vnd.jupyter.widget-view+json": {
       "model_id": "2d345051979e4171aa98e1c2046350a8",
       "version_major": 2,
       "version_minor": 0
      },
      "text/plain": [
       "HBox(children=(Button(description='Delete', style=ButtonStyle()), Button(description='Keep', style=ButtonStyle…"
      ]
     },
     "metadata": {},
     "output_type": "display_data"
    },
    {
     "name": "stdout",
     "output_type": "stream",
     "text": [
      "\n",
      "----------------------------------------\n",
      "\n",
      "Index: 602\n",
      "Date: 2020-05-30 00:00:00\n",
      "Note:\n",
      "Story of falling in love with your best friend\n"
     ]
    },
    {
     "data": {
      "application/vnd.jupyter.widget-view+json": {
       "model_id": "70fc96e5332049549fd23f75ab95248c",
       "version_major": 2,
       "version_minor": 0
      },
      "text/plain": [
       "HBox(children=(Button(description='Delete', style=ButtonStyle()), Button(description='Keep', style=ButtonStyle…"
      ]
     },
     "metadata": {},
     "output_type": "display_data"
    },
    {
     "name": "stdout",
     "output_type": "stream",
     "text": [
      "\n",
      "----------------------------------------\n",
      "\n",
      "Index: 619\n",
      "Date: 2020-10-29 00:00:00\n",
      "Note:\n",
      "145437 962172\n"
     ]
    },
    {
     "data": {
      "application/vnd.jupyter.widget-view+json": {
       "model_id": "ba949b4d4cf349b4919740ddd6681c07",
       "version_major": 2,
       "version_minor": 0
      },
      "text/plain": [
       "HBox(children=(Button(description='Delete', style=ButtonStyle()), Button(description='Keep', style=ButtonStyle…"
      ]
     },
     "metadata": {},
     "output_type": "display_data"
    },
    {
     "name": "stdout",
     "output_type": "stream",
     "text": [
      "\n",
      "----------------------------------------\n",
      "\n",
      "Index: 620\n",
      "Date: 2022-04-05 00:00:00\n",
      "Note:\n",
      "Atomoxetine - adhd\n",
      "Vistaril - anxiety\n"
     ]
    },
    {
     "data": {
      "application/vnd.jupyter.widget-view+json": {
       "model_id": "c5e08f1a86354bf6993a1b7fbd01d6bb",
       "version_major": 2,
       "version_minor": 0
      },
      "text/plain": [
       "HBox(children=(Button(description='Delete', style=ButtonStyle()), Button(description='Keep', style=ButtonStyle…"
      ]
     },
     "metadata": {},
     "output_type": "display_data"
    },
    {
     "name": "stdout",
     "output_type": "stream",
     "text": [
      "\n",
      "----------------------------------------\n",
      "\n",
      "Index: 627\n",
      "Date: 2021-12-27 00:00:00\n",
      "Note:\n",
      "Horny, hung and human\n"
     ]
    },
    {
     "data": {
      "application/vnd.jupyter.widget-view+json": {
       "model_id": "a7aa5a17b2f24f4393fd8a0640d9ac72",
       "version_major": 2,
       "version_minor": 0
      },
      "text/plain": [
       "HBox(children=(Button(description='Delete', style=ButtonStyle()), Button(description='Keep', style=ButtonStyle…"
      ]
     },
     "metadata": {},
     "output_type": "display_data"
    },
    {
     "name": "stdout",
     "output_type": "stream",
     "text": [
      "\n",
      "----------------------------------------\n",
      "\n",
      "Index: 668\n",
      "Date: 2022-05-20 00:00:00\n",
      "Note:\n",
      "#gayfitness\n"
     ]
    },
    {
     "data": {
      "application/vnd.jupyter.widget-view+json": {
       "model_id": "52703f138eb44551b4218c8cc935558d",
       "version_major": 2,
       "version_minor": 0
      },
      "text/plain": [
       "HBox(children=(Button(description='Delete', style=ButtonStyle()), Button(description='Keep', style=ButtonStyle…"
      ]
     },
     "metadata": {},
     "output_type": "display_data"
    },
    {
     "name": "stdout",
     "output_type": "stream",
     "text": [
      "\n",
      "----------------------------------------\n",
      "\n",
      "Index: 690\n",
      "Date: 2022-03-25 00:00:00\n",
      "Note:\n",
      "Mail gun\n"
     ]
    },
    {
     "data": {
      "application/vnd.jupyter.widget-view+json": {
       "model_id": "eb5326e2709b45ea8e35c8f718ed5a40",
       "version_major": 2,
       "version_minor": 0
      },
      "text/plain": [
       "HBox(children=(Button(description='Delete', style=ButtonStyle()), Button(description='Keep', style=ButtonStyle…"
      ]
     },
     "metadata": {},
     "output_type": "display_data"
    },
    {
     "name": "stdout",
     "output_type": "stream",
     "text": [
      "\n",
      "----------------------------------------\n",
      "\n",
      "Index: 697\n",
      "Date: 2022-08-08 00:00:00\n",
      "Note:\n",
      "I\n"
     ]
    },
    {
     "data": {
      "application/vnd.jupyter.widget-view+json": {
       "model_id": "ed99d2510d1e43bab9a7cdf90d6168d9",
       "version_major": 2,
       "version_minor": 0
      },
      "text/plain": [
       "HBox(children=(Button(description='Delete', style=ButtonStyle()), Button(description='Keep', style=ButtonStyle…"
      ]
     },
     "metadata": {},
     "output_type": "display_data"
    },
    {
     "name": "stdout",
     "output_type": "stream",
     "text": [
      "\n",
      "----------------------------------------\n",
      "\n"
     ]
    }
   ],
   "source": [
    "import ipywidgets as widgets\n",
    "from IPython.display import display, clear_output\n",
    "\n",
    "# Display the journal entry for a given index\n",
    "def show_entry_by_index(dataframe, index):\n",
    "    if index in dataframe.index:\n",
    "        entry = dataframe.loc[index]\n",
    "        print(f\"Index: {index}\")\n",
    "        print(f\"Date: {entry['date']}\")\n",
    "        print(\"Note:\")\n",
    "        print(entry['note'])\n",
    "    else:\n",
    "        print(f\"No entry found at index {index}\")\n",
    "\n",
    "def handle_entry_action(btn, ix, action):\n",
    "    if action == 'delete':\n",
    "        entries_ix_to_delete.append(ix)\n",
    "        btn.description = 'Marked for Deletion'\n",
    "    else:\n",
    "        btn.description = 'Kept'\n",
    "    \n",
    "    # Disable both buttons to prevent further interaction\n",
    "    for button in btn.container.children:\n",
    "        button.disabled = True\n",
    "\n",
    "for ix in short_entries.index.tolist():\n",
    "    show_entry_by_index(df, ix)\n",
    "\n",
    "    # Create a container for buttons\n",
    "    button_container = widgets.HBox()\n",
    "    \n",
    "    # Create a delete button\n",
    "    delete_btn = widgets.Button(description=\"Delete\")\n",
    "    delete_btn.container = button_container\n",
    "    delete_btn.on_click(lambda btn, ix=ix: handle_entry_action(btn, ix, 'delete'))\n",
    "\n",
    "    # Create a keep button\n",
    "    keep_btn = widgets.Button(description=\"Keep\")\n",
    "    keep_btn.container = button_container\n",
    "    keep_btn.on_click(lambda btn, ix=ix: handle_entry_action(btn, ix, 'keep'))\n",
    "\n",
    "    # Add buttons to the container\n",
    "    button_container.children = [delete_btn, keep_btn]\n",
    "    \n",
    "    display(button_container)\n",
    "\n",
    "    # Separate the entries for readability\n",
    "    print(\"\\n\" + \"-\"*40 + \"\\n\")"
   ]
  },
  {
   "cell_type": "code",
   "execution_count": 15,
   "metadata": {},
   "outputs": [
    {
     "name": "stdout",
     "output_type": "stream",
     "text": [
      "Num short entries:  58\n",
      "Num short entries to delete:  42\n"
     ]
    }
   ],
   "source": [
    "print(\"Num short entries: \", len(short_entries))\n",
    "print(\"Num short entries to delete: \", len(entries_ix_to_delete))"
   ]
  },
  {
   "attachments": {},
   "cell_type": "markdown",
   "metadata": {},
   "source": [
    "### 🗑️ Delete unwanted short entries\n",
    "- Iterated through each of the short entries and marked the useless ones for deletion.  \n",
    "- Delete the entries marked for deletion from dataframe  \n",
    "\n",
    "The indexes for short entries to delete ends up being:  \n",
    "  \n",
    "`[40, 47, 65, 90, 103, 110, 117, 130, 132, 153, 156, 165, 171, 174, 205, 219, 247, 291, 292, 315, 318, 336, 342, 356, 385, 407, 424, 433, 451, 474, 530, 534, 541, 567, 578, 589, 602, 619, 620, 668, 690, 697]`"
   ]
  },
  {
   "cell_type": "code",
   "execution_count": 16,
   "metadata": {},
   "outputs": [
    {
     "name": "stdout",
     "output_type": "stream",
     "text": [
      "Indexes to delete: [40, 47, 65, 90, 103, 110, 117, 130, 132, 153, 156, 165, 171, 174, 205, 219, 247, 291, 292, 315, 318, 336, 342, 356, 385, 407, 424, 433, 451, 474, 530, 534, 541, 567, 578, 589, 602, 619, 620, 668, 690, 697]\n",
      "Number of entries to delete: 42\n",
      "Number of entries in DataFrame before delete: 668\n",
      "Number of entries in DataFrame after delete: 626\n"
     ]
    }
   ],
   "source": [
    "print(\"Indexes to delete:\", entries_ix_to_delete)\n",
    "print(\"Number of entries to delete:\", len(entries_ix_to_delete))\n",
    "print(\"Number of entries in DataFrame before delete:\", len(df))\n",
    "\n",
    "# Remove the short entries listed in entries_ix_to_delete from the DataFrame\n",
    "df = df.drop(entries_ix_to_delete)\n",
    "\n",
    "# Reset the index if you want a continuous index after deletion\n",
    "df.reset_index(drop=True, inplace=True)\n",
    "print(\"Number of entries in DataFrame after delete:\", len(df))\n",
    "\n",
    "# Now df_dropped is your DataFrame with the specified entries removed"
   ]
  },
  {
   "attachments": {},
   "cell_type": "markdown",
   "metadata": {},
   "source": [
    "## 🐍 Handle Very Long Entries\n",
    "\n",
    "Determine the threshold for long entries. \n",
    "\n",
    "🤔 When to use word count vs. tokenization?\n",
    "- It's okay to use word count for the initial step of identifying very long entries.\n",
    "- However, when it comes to processing these entries (segmentation, preparation for training), tokenization should be used to align with the model's processing capabilities and constraints."
   ]
  },
  {
   "cell_type": "code",
   "execution_count": 17,
   "metadata": {},
   "outputs": [
    {
     "name": "stdout",
     "output_type": "stream",
     "text": [
      "count     626.000000\n",
      "mean      484.392971\n",
      "std       627.400148\n",
      "min         3.000000\n",
      "25%        97.000000\n",
      "50%       281.500000\n",
      "75%       663.000000\n",
      "max      8508.000000\n",
      "Name: word_count, dtype: float64\n",
      "Proposed threshold for very long entries: 1512.75 words\n"
     ]
    },
    {
     "data": {
      "image/png": "[encoded data removed]",
      "text/plain": [
       "<Figure size 640x480 with 1 Axes>"
      ]
     },
     "metadata": {},
     "output_type": "display_data"
    },
    {
     "name": "stdout",
     "output_type": "stream",
     "text": [
      "Number of very long entries: 32\n"
     ]
    }
   ],
   "source": [
    "import matplotlib.pyplot as plt\n",
    "\n",
    "# Calculate word count for each entry\n",
    "df['word_count'] = df['note'].apply(lambda x: len(str(x).split()))\n",
    "\n",
    "# Descriptive statistics to understand the distribution\n",
    "print(df['word_count'].describe())\n",
    "\n",
    "# Identify a potential threshold for long entries, e.g., using the 95th percentile\n",
    "threshold = df['word_count'].quantile(0.95)\n",
    "print(f\"Proposed threshold for very long entries: {threshold} words\")\n",
    "\n",
    "# Plotting a histogram for visual analysis\n",
    "plt.hist(df['word_count'], bins=30, color='blue', alpha=0.7)\n",
    "plt.axvline(threshold, color='red', linestyle='dashed', linewidth=2)\n",
    "plt.title('Word Count Distribution in Journal Entries')\n",
    "plt.xlabel('Word Count')\n",
    "plt.ylabel('Frequency')\n",
    "plt.show()\n",
    "\n",
    "# Filtering the DataFrame for very long entries\n",
    "long_entries_df = df[df['word_count'] > threshold]\n",
    "print(f\"Number of very long entries: {len(long_entries_df)}\")"
   ]
  },
  {
   "attachments": {},
   "cell_type": "markdown",
   "metadata": {},
   "source": [
    "### ✂️ Identify Split Points Using spaCy\n",
    "\n",
    "💡 Now it is time to use tokenization!  \n",
    "\n",
    "- We have identified the long entries based on a word count threshold.  \n",
    "- Long entries need to be split up into smaller entries\n",
    "- Use NLP tool spaCy to identify logical split points in the entries"
   ]
  },
  {
   "cell_type": "code",
   "execution_count": null,
   "metadata": {},
   "outputs": [],
   "source": [
    "!pip install spacy\n",
    "!python -m spacy download en_core_web_sm\n",
    "\n",
    "import spacy\n",
    "# Load spaCy English model\n",
    "nlp = spacy.load(\"en_core_web_sm\")"
   ]
  },
  {
   "cell_type": "code",
   "execution_count": 60,
   "metadata": {},
   "outputs": [],
   "source": [
    "def segment_entry(entry, max_token_length=512):\n",
    "    \"\"\"\n",
    "    Segments a long journal entry into smaller parts based on token count and natural sentence boundaries.\n",
    "\n",
    "    Args:\n",
    "    entry (str): The journal entry to be segmented.\n",
    "    max_token_length (int): The maximum token length for each segment.\n",
    "\n",
    "    Returns:\n",
    "    List[str]: A list of segmented journal entries.\n",
    "    \"\"\"\n",
    "    doc = nlp(entry)\n",
    "    segments = []\n",
    "    current_tokens = []\n",
    "\n",
    "    for sent in doc.sents:\n",
    "        # Tokenize the sentence\n",
    "        sentence_tokens = tokenizer.tokenize(sent.text)\n",
    "        \n",
    "        if len(current_tokens) + len(sentence_tokens) > max_token_length:\n",
    "            # Convert current segment to text and store it\n",
    "            segment_text = tokenizer.convert_tokens_to_string(current_tokens)\n",
    "            segments.append(segment_text.strip())\n",
    "            current_tokens = sentence_tokens\n",
    "        else:\n",
    "            current_tokens.extend(sentence_tokens)\n",
    "\n",
    "    # Add the last segment if not empty and not a duplicate\n",
    "    if current_tokens:\n",
    "        segment_text = tokenizer.convert_tokens_to_string(current_tokens).strip()\n",
    "        if not segments or (segments and segments[-1] != segment_text):\n",
    "            segments.append(segment_text)\n",
    "\n",
    "    return segments\n"
   ]
  },
  {
   "attachments": {},
   "cell_type": "markdown",
   "metadata": {},
   "source": [
    "Test `segment_entry` out on an entry"
   ]
  },
  {
   "cell_type": "code",
   "execution_count": 61,
   "metadata": {},
   "outputs": [
    {
     "name": "stdout",
     "output_type": "stream",
     "text": [
      "I did not wake up at 6:30 as my alarm clock intended however I was lights out and in bed at 10:30. Unfortunately I was arguing with Josh in my head until midnight. I ended up having an incredible day. I woke up rested, I wrote a shit ton, went on a thirty minute walk and thought good thoughts. \n",
      "\n",
      "Worked on my second brain. \n",
      "Came to some good conclusions. \n",
      "One of which I started writing about yesterday. \n",
      "Stop giving so many fucks! \n",
      "My whole world was Jason and Josh and it consumed me. \n",
      "Going to George’s pool party reminded me of all the connections there are to be made out there. \n",
      "All the wonderful people. \n",
      "There is a whole world out there fay beyond our little exclusive friend group. \n",
      "Far beyond LA. \n",
      "A whole great, big world with all kinds of adventures and explorations. \n",
      "\n",
      "I was sitting in the backyard yesterday when josh and Jason came home. \n",
      "Josh came to the back door and we had a little exchange. \n",
      "I complimented his shorts. He told me where he got them. \n",
      "“Cute” I remarked. \n",
      "\n",
      "Jason was sitting on the couch with that look on his face. \n",
      "Pensive, dissociated… it’s when little bb needs love. \n",
      "“How was your day, JJ?” I asked. \n",
      "“It was ok,” he responded without changing the direction or expression of his face. \n",
      "\n",
      "“Come,” I called out to him with my arms open wide. \n",
      "He came. I pulled him in close when my arms were around him. \n",
      "I love him so much. \n",
      "Josh said to me this past Friday while Jason was not there..\n",
      "“Based on the way you are reacting, it’s obvious that you love Jason.”\n",
      "I do. \n",
      "I do love Jason.\n",
      "And I told him yesterday when he sat with me in the back yard, “it feels really good to have the kind of love I have for you.” \n",
      "It’s the kind of love that reminds what love really is when there’s no possession, no desire to control. \n",
      "To truly just love someone and therefore want the best for them. \n",
      "But I am not in love. \n",
      "I could have gotten there. \n",
      "I almost got there. \n",
      "I dipped my toe in the water. \n",
      "But I pulled back. We did. \n",
      "And of course I still feel something. I will always love him. And not a single part of me feels shame about that. \n",
      "\n",
      "Yesterday he looked so handsome. “You look healthy and young,” I told him. \n",
      "“I like the young part,” he remarked and laughed. \n",
      "\n",
      "“You seem pensive today. What’s up?” I asked. \n",
      "And he told me. \n",
      "He called his dad the night of his birthday and spoke to him for two hours. \n",
      "He said that he could see the emotional immaturity of his father in the way that he spoke. And it was understanding the stunted growth of his father that allowed him to pass through his resentment, anger and pain into love. \n",
      "Right now, Jason is seeking the answers. \n",
      "“I want to do the work. I want to live in reality. I don’t want to live in this fantasy I created of what I think and want the world to be.”\n",
      "He said it with such conviction and a hint of self flagellation because he is hard on himself. \n",
      "I felt proud of my boy. I felt proud of me, too. I could hear my influence on him to embrace the struggle, to clean out the heaps of dust swept under the carpet in the name of “keeping the peace” only to haunt us later in ten fold. \n",
      "\n",
      "A lot happened to Jason on his birthday. \n",
      "His ex boyfriend came over and they got into a fight.\n",
      "In the aftermath of the fight, Jason was flustered and left home in a rush, leaving a candle burning. \n",
      "The candle burned a hole into a book in his room on which it was perched. \n",
      "His live-in landlord, Loy—an acquaintance of ours, smelled the burning and discovered the candle, which could have burned the house down. \n",
      "Jason arrived at my place with Josh after the mall. \n",
      "I was in a ghastly mood. Josh and I had just gotten into a fight, during which I said for the umpteenth time this week, “I’m done.”\n",
      "And honestly, I think I meant it. \n",
      "We got into an Uber to George Harlow’s birthday pool party. I was silent for most of the ride and staring blankly out the window. \n",
      "Loy confronted Jason at the pool party we were at and kicked him out of the house. \n",
      "Loy apologized for it all going down on Jason’s birthday but things escalated and Loy began yelling at Jason at the party. \n",
      "Jason questions what he did to deserve all of this. He felt like his life was crumbling around him. \n",
      "Josh gave dumbass “everything will be fine” and “maybe it happened for a reason” input. \n",
      "Jason waved it away. \n",
      "I comforted him by listening, letting him speak and physical touch with my hand gripping his thigh. \n",
      "Back at my place, Jason went straight upstairs and got under the covers in my bed. \n",
      "He asked me to join him and for five wonderful minutes, I held him. \n",
      "He scooted closer. \n",
      "And despite it all, he let it all go and had a wonderful night. \n",
      "“It was incredible to see you smile and enjoy yourself on your birthday despite it all,” I told him. \n",
      "\n",
      "He asked how my day was and I told him: it was beautiful. \n",
      "A lot happened to me yesterday, too. \n",
      "The fight with Josh, the pool party, Jason’s birthday dinner, Clint’s afterward, and that familiar dark energy that seeped out of Josh at the very end of the night for reason’s I cannot be sure but they always seem to be when I am shining brightly and he isn’t. \n",
      "\n",
      "After all that. \n",
      "After three weeks of anxiety and depression. \n",
      "Waking up dreading the day. \n",
      "Going to bed at 3am because of having to face that dread in the morning. \n",
      "The cataclysmic fallout with Josh. \n",
      "Sort of falling for Jason and then finding even more comfort in the safety of our boundaries as friends instead of lovers. \n",
      "The disappearance of Adriano as a friend from my life after spending two back to back vacations together bonding, laughing and telling each other “I love you”. \n",
      "After Josh revealing to me that he thought I was a dark witch casting evil spells on him and our friends. \n",
      "After all that.\n",
      "What I learned is simple but will change my life if I implement it. \n",
      "\n",
      "**Find every fuck you give and set them free. **\n",
      "\n",
      "If Josh gets Jason a fancy birthday present, I don’t give a fuck. \n",
      "If Jason and Josh go to dinner with Adriano and Clint without me, I don’t give a fuck. \n",
      "If Jason wants to reattach to Josh’s teet and suckle on on the milk of his manipulation, I don’t give a fuck. \n",
      "If I’m not included, I don’t give a fuck. \n",
      "If I’m misunderstood, I don’t give a fuck. \n",
      "If I’m called a dark witch behind my back, I don’t give a fuck. \n",
      "\n",
      "I don’t give a fuck. \n",
      "I don’t give a fuck. \n",
      "I don’t give a fuck. \n",
      "I don’t give a fuck. \n",
      "I DON’T GIVE A FUCK. \n",
      "\n",
      "And the trick to not giving a fuck but still being a good person is to always live with kindness and love. If you show up and you do your best and you treat people with kindness and love while respecting the boundaries you’ve set… then baby, you got nothing to worry about. \n",
      "\n",
      "Be present, smile, have fun and make people feel seen in your presence. Show them that you see them and show them that you care. Be vulnerable so that they can see you, too. If you do those things then you can throw every fuck you give out the window and leave a situation knowing that you did your best and that you can sleep well tonight with a calm, quiet and fuck-less mind. You deserve that. \n",
      "\n",
      "**How did I get here?**\n",
      "\n",
      "My life the past two months has been a strange one. \n",
      "So much tension accumulated that it resulted in a magnitude 10 earthquake that shook the foundation of my life to its core. \n",
      "After surviving that kind of disaster, you stand up and look at the carnage around you. \n",
      "Everything felt destroyed. \n",
      "Everything that I thought I knew was in pieces at my feet. \n",
      "And I asked myself, what did I do to deserve this?\n",
      "And if I did deserve this… if it were my actions that made this mess, then what does that say about me as a person?\n",
      "In the wake of what I thought was the collapse of life as I knew it, I descended into a spiral of intrusive thoughts and depression. \n",
      "I did all the reflection; I wrote tens of thousands of words to try and understand it all. \n",
      "The clouds of this depression were heavy and dark. \n",
      "Giant, black nebulous clouds that released a storm of rain and thunder.\n",
      "But just like the earthquake, I survived the storm, too. \n",
      "All that wind and rain washed away the rubble of the old life and this time when I stood up and looked around me,\n",
      "There was nothing.\n",
      "Only I remained. \n",
      "\n",
      "When depressed, I forget what it feels like to be happy. \n",
      "The days when I opened my eyes and simply felt good seem mythical. \n",
      "But then those storm clouds begin to diffuse and finally, one sliver of sunshine makes its way through. \n",
      "I saw it, I felt it, I danced in it and and said to myself, \n",
      "“Ah, this is what it feels like. I remember now.”\n",
      "\n",
      "The clouds of my depression passed and I was sitting in my back yard on a Sunday afternoon just happy to be alive. \n",
      "A close friend joined me and after his own reflection on the earthquake that shook both our lives to their cores, he said this: \n",
      "“When shit falls apart, all you can do is rebuild. \n",
      "Something better and stronger than what existed before. \n",
      "And that is what I am going to do.”\n",
      "\n",
      "Amen.\n"
     ]
    }
   ],
   "source": [
    "# Example of a long entry\n",
    "first_entry = long_entries_df.iloc[0]['note']\n",
    "print(first_entry)"
   ]
  },
  {
   "cell_type": "code",
   "execution_count": 62,
   "metadata": {},
   "outputs": [
    {
     "name": "stdout",
     "output_type": "stream",
     "text": [
      "🍊 Segment 1:\n",
      "I did not wake up at 6:30 as my alarm clock intended however I was lights out and in bed at 10:30. Unfortunately I was arguing with Josh in my head until midnight. I ended up having an incredible day. I woke up rested, I wrote a shit ton, went on a thirty minute walk and thought good thoughts. \n",
      "\n",
      " Worked on my second brain. \n",
      " Came to some good conclusions. \n",
      " One of which I started writing about yesterday. \n",
      " Stop giving so many fucks! \n",
      " My whole world was Jason and Josh and it consumed me. \n",
      " Going to George’s pool party reminded me of all the connections there are to be made out there. \n",
      " All the wonderful people. \n",
      " There is a whole world out there fay beyond our little exclusive friend group. \n",
      " Far beyond LA. \n",
      " A whole great, big world with all kinds of adventures and explorations. \n",
      "\n",
      " I was sitting in the backyard yesterday when josh and Jason came home. \n",
      " Josh came to the back door and we had a little exchange. \n",
      " I complimented his shorts. He told me where he got them. \n",
      " “Cute” I remarked. \n",
      "\n",
      " Jason was sitting on the couch with that look on his face. \n",
      " Pensive, dissociated… it’s when little bb needs love. \n",
      " “How was your day, JJ?” I asked. \n",
      " “It was ok,” he responded without changing the direction or expression of his face. \n",
      "\n",
      " “Come,” I called out to him with my arms open wide. \n",
      " He came. I pulled him in close when my arms were around him. \n",
      " I love him so much. \n",
      " Josh said to me this past Friday while Jason was not there..\n",
      "“Based on the way you are reacting, it’s obvious that you love Jason.”\n",
      "I do. \n",
      " I do love Jason.\n",
      " And I told him yesterday when he sat with me in the back yard, “it feels really good to have the kind of love I have for you.” \n",
      " It’s the kind of love that reminds what love really is when there’s no possession, no desire to control. \n",
      " To truly just love someone and therefore want the best for them. \n",
      " But I am not in love. \n",
      " I could have gotten there.\n",
      "\n",
      "\n",
      "🍊 Segment 2:\n",
      "I almost got there. \n",
      " I dipped my toe in the water. \n",
      " But I pulled back. We did. \n",
      " And of course I still feel something. I will always love him. And not a single part of me feels shame about that. \n",
      "\n",
      " Yesterday he looked so handsome. “You look healthy and young,” I told him. \n",
      " “I like the young part,” he remarked and laughed. \n",
      "\n",
      " “You seem pensive today. What’s up?” I asked. \n",
      " And he told me. \n",
      " He called his dad the night of his birthday and spoke to him for two hours. \n",
      " He said that he could see the emotional immaturity of his father in the way that he spoke. And it was understanding the stunted growth of his father that allowed him to pass through his resentment, anger and pain into love. \n",
      " Right now, Jason is seeking the answers. \n",
      " “I want to do the work. I want to live in reality. I don’t want to live in this fantasy I created of what I think and want the world to be.”\n",
      " He said it with such conviction and a hint of self flagellation because he is hard on himself. \n",
      " I felt proud of my boy. I felt proud of me, too. I could hear my influence on him to embrace the struggle, to clean out the heaps of dust swept under the carpet in the name of “keeping the peace” only to haunt us later in ten fold. \n",
      "\n",
      " A lot happened to Jason on his birthday. \n",
      " His ex boyfriend came over and they got into a fight.\n",
      " In the aftermath of the fight, Jason was flustered and left home in a rush, leaving a candle burning. \n",
      " The candle burned a hole into a book in his room on which it was perched. \n",
      " His live-in landlord, Loy—an acquaintance of ours, smelled the burning and discovered the candle, which could have burned the house down. \n",
      " Jason arrived at my place with Josh after the mall. \n",
      " I was in a ghastly mood. Josh and I had just gotten into a fight, during which I said for the umpteenth time this week, “I’m done.”\n",
      " And honestly, I think I meant it. \n",
      " We got into an Uber to George Harlow’s birthday pool party.\n",
      "\n",
      "\n",
      "🍊 Segment 3:\n",
      "I was silent for most of the ride and staring blankly out the window. \n",
      " Loy confronted Jason at the pool party we were at and kicked him out of the house. \n",
      " Loy apologized for it all going down on Jason’s birthday but things escalated and Loy began yelling at Jason at the party. \n",
      " Jason questions what he did to deserve all of this. He felt like his life was crumbling around him. \n",
      " Josh gave dumbass “everything will be fine” and “maybe it happened for a reason” input. \n",
      " Jason waved it away. \n",
      " I comforted him by listening, letting him speak and physical touch with my hand gripping his thigh. \n",
      " Back at my place, Jason went straight upstairs and got under the covers in my bed. \n",
      " He asked me to join him and for five wonderful minutes, I held him. \n",
      " He scooted closer. \n",
      " And despite it all, he let it all go and had a wonderful night. \n",
      " “It was incredible to see you smile and enjoy yourself on your birthday despite it all,” I told him. \n",
      "\n",
      " He asked how my day was and I told him: it was beautiful. \n",
      " A lot happened to me yesterday, too. \n",
      " The fight with Josh, the pool party, Jason’s birthday dinner, Clint’s afterward, and that familiar dark energy that seeped out of Josh at the very end of the night for reason’s I cannot be sure but they always seem to be when I am shining brightly and he isn’t. \n",
      "\n",
      " After all that. \n",
      " After three weeks of anxiety and depression. \n",
      " Waking up dreading the day. \n",
      " Going to bed at 3am because of having to face that dread in the morning. \n",
      " The cataclysmic fallout with Josh. \n",
      " Sort of falling for Jason and then finding even more comfort in the safety of our boundaries as friends instead of lovers. \n",
      " The disappearance of Adriano as a friend from my life after spending two back to back vacations together bonding, laughing and telling each other “I love you”. \n",
      " After Josh revealing to me that he thought I was a dark witch casting evil spells on him and our friends. \n",
      " After all that.\n",
      " What I learned is simple but will change my life if I implement it.\n",
      "\n",
      "\n",
      "🍊 Segment 4:\n",
      "**Find every fuck you give and set them free. **\n",
      "\n",
      "If Josh gets Jason a fancy birthday present, I don’t give a fuck. \n",
      " If Jason and Josh go to dinner with Adriano and Clint without me, I don’t give a fuck. \n",
      " If Jason wants to reattach to Josh’s teet and suckle on on the milk of his manipulation, I don’t give a fuck. \n",
      " If I’m not included, I don’t give a fuck. \n",
      " If I’m misunderstood, I don’t give a fuck. \n",
      " If I’m called a dark witch behind my back, I don’t give a fuck. \n",
      "\n",
      " I don’t give a fuck. \n",
      " I don’t give a fuck. \n",
      " I don’t give a fuck. \n",
      " I don’t give a fuck. \n",
      " I DON’T GIVE A FUCK. \n",
      "\n",
      " And the trick to not giving a fuck but still being a good person is to always live with kindness and love. If you show up and you do your best and you treat people with kindness and love while respecting the boundaries you’ve set… then baby, you got nothing to worry about. \n",
      "\n",
      " Be present, smile, have fun and make people feel seen in your presence. Show them that you see them and show them that you care. Be vulnerable so that they can see you, too. If you do those things then you can throw every fuck you give out the window and leave a situation knowing that you did your best and that you can sleep well tonight with a calm, quiet and fuck-less mind. You deserve that. \n",
      "\n",
      " **How did I get here? **\n",
      "\n",
      "My life the past two months has been a strange one. \n",
      " So much tension accumulated that it resulted in a magnitude 10 earthquake that shook the foundation of my life to its core. \n",
      " After surviving that kind of disaster, you stand up and look at the carnage around you. \n",
      " Everything felt destroyed. \n",
      " Everything that I thought I knew was in pieces at my feet. \n",
      " And I asked myself, what did I do to deserve this?\n",
      " And if I did deserve this… if it were my actions that made this mess, then what does that say about me as a person?\n",
      "\n",
      "\n",
      "🍊 Segment 5:\n",
      "In the wake of what I thought was the collapse of life as I knew it, I descended into a spiral of intrusive thoughts and depression. \n",
      " I did all the reflection; I wrote tens of thousands of words to try and understand it all. \n",
      " The clouds of this depression were heavy and dark. \n",
      " Giant, black nebulous clouds that released a storm of rain and thunder.\n",
      " But just like the earthquake, I survived the storm, too. \n",
      " All that wind and rain washed away the rubble of the old life and this time when I stood up and looked around me,\n",
      "There was nothing.\n",
      " Only I remained. \n",
      "\n",
      " When depressed, I forget what it feels like to be happy. \n",
      " The days when I opened my eyes and simply felt good seem mythical. \n",
      " But then those storm clouds begin to diffuse and finally, one sliver of sunshine makes its way through. \n",
      " I saw it, I felt it, I danced in it and and said to myself, \n",
      "“Ah, this is what it feels like. I remember now.”\n",
      "\n",
      " The clouds of my depression passed and I was sitting in my back yard on a Sunday afternoon just happy to be alive. \n",
      " A close friend joined me and after his own reflection on the earthquake that shook both our lives to their cores, he said this: \n",
      "“When shit falls apart, all you can do is rebuild. \n",
      " Something better and stronger than what existed before. \n",
      " And that is what I am going to do.”\n",
      "\n",
      " Amen.\n",
      "\n",
      "\n"
     ]
    }
   ],
   "source": [
    "segments = segment_entry(first_entry)\n",
    "# Display the segments\n",
    "for i, segment in enumerate(segments, 1):\n",
    "    print(f\"🍊 Segment {i}:\\n{segment}\\n\\n\")"
   ]
  },
  {
   "attachments": {},
   "cell_type": "markdown",
   "metadata": {},
   "source": [
    "### 🔧 Apply Segmentation to Long Entries"
   ]
  },
  {
   "cell_type": "code",
   "execution_count": 63,
   "metadata": {},
   "outputs": [
    {
     "data": {
      "text/html": [
       "<div>\n",
       "<style scoped>\n",
       "    .dataframe tbody tr th:only-of-type {\n",
       "        vertical-align: middle;\n",
       "    }\n",
       "\n",
       "    .dataframe tbody tr th {\n",
       "        vertical-align: top;\n",
       "    }\n",
       "\n",
       "    .dataframe thead th {\n",
       "        text-align: right;\n",
       "    }\n",
       "</style>\n",
       "<table border=\"1\" class=\"dataframe\">\n",
       "  <thead>\n",
       "    <tr style=\"text-align: right;\">\n",
       "      <th></th>\n",
       "      <th>date</th>\n",
       "      <th>note</th>\n",
       "      <th>entry_length</th>\n",
       "      <th>word_count</th>\n",
       "      <th>segments</th>\n",
       "    </tr>\n",
       "  </thead>\n",
       "  <tbody>\n",
       "    <tr>\n",
       "      <th>4</th>\n",
       "      <td>2023-04-10</td>\n",
       "      <td>I did not wake up at 6:30 as my alarm clock in...</td>\n",
       "      <td>1687</td>\n",
       "      <td>1687</td>\n",
       "      <td>[I did not wake up at 6:30 as my alarm clock i...</td>\n",
       "    </tr>\n",
       "    <tr>\n",
       "      <th>14</th>\n",
       "      <td>2021-09-27</td>\n",
       "      <td>Letting myself be happy\\nWas key\\nTo invite in...</td>\n",
       "      <td>1794</td>\n",
       "      <td>1794</td>\n",
       "      <td>[Letting myself be happy\\nWas key\\nTo invite i...</td>\n",
       "    </tr>\n",
       "    <tr>\n",
       "      <th>23</th>\n",
       "      <td>2021-05-18</td>\n",
       "      <td>And I know that it will get what it want if it...</td>\n",
       "      <td>2169</td>\n",
       "      <td>2169</td>\n",
       "      <td>[And I know that it will get what it want if i...</td>\n",
       "    </tr>\n",
       "    <tr>\n",
       "      <th>39</th>\n",
       "      <td>2023-03-01</td>\n",
       "      <td>I’m doing my best. And my best begins with bei...</td>\n",
       "      <td>1728</td>\n",
       "      <td>1728</td>\n",
       "      <td>[I’m doing my best. And my best begins with be...</td>\n",
       "    </tr>\n",
       "    <tr>\n",
       "      <th>41</th>\n",
       "      <td>2022-08-21</td>\n",
       "      <td>I’m in Austin, TX visiting Jamie. Was supposed...</td>\n",
       "      <td>2451</td>\n",
       "      <td>2451</td>\n",
       "      <td>[I’m in Austin, TX visiting Jamie. Was suppose...</td>\n",
       "    </tr>\n",
       "  </tbody>\n",
       "</table>\n",
       "</div>"
      ],
      "text/plain": [
       "         date                                               note  \\\n",
       "4  2023-04-10  I did not wake up at 6:30 as my alarm clock in...   \n",
       "14 2021-09-27  Letting myself be happy\\nWas key\\nTo invite in...   \n",
       "23 2021-05-18  And I know that it will get what it want if it...   \n",
       "39 2023-03-01  I’m doing my best. And my best begins with bei...   \n",
       "41 2022-08-21  I’m in Austin, TX visiting Jamie. Was supposed...   \n",
       "\n",
       "    entry_length  word_count  \\\n",
       "4           1687        1687   \n",
       "14          1794        1794   \n",
       "23          2169        2169   \n",
       "39          1728        1728   \n",
       "41          2451        2451   \n",
       "\n",
       "                                             segments  \n",
       "4   [I did not wake up at 6:30 as my alarm clock i...  \n",
       "14  [Letting myself be happy\\nWas key\\nTo invite i...  \n",
       "23  [And I know that it will get what it want if i...  \n",
       "39  [I’m doing my best. And my best begins with be...  \n",
       "41  [I’m in Austin, TX visiting Jamie. Was suppose...  "
      ]
     },
     "execution_count": 63,
     "metadata": {},
     "output_type": "execute_result"
    }
   ],
   "source": [
    "\n",
    "# Apply segmentation to each 'note' in long_entries_df\n",
    "# Create a new column 'segments' with the applied segmentation\n",
    "segmented_series = long_entries_df['note'].apply(segment_entry)\n",
    "long_entries_df = long_entries_df.assign(segments=segmented_series)\n",
    "\n",
    "# Now, long_entries_df has a new column 'segments' containing the segmented entries\n",
    "long_entries_df.head()"
   ]
  },
  {
   "attachments": {},
   "cell_type": "markdown",
   "metadata": {},
   "source": [
    "### 🖇️ Integrate Segments Into Training Data\n",
    "\n",
    "🥞 **Flatten the Segmented Data**  \n",
    "  \n",
    "Since `long_entries_df['segments']` now contains lists of segments, flatten these lists so that each segment becomes a separate row in a new DataFrame.  "
   ]
  },
  {
   "cell_type": "code",
   "execution_count": 67,
   "metadata": {},
   "outputs": [
    {
     "name": "stdout",
     "output_type": "stream",
     "text": [
      "        date                                               note\n",
      "0 2023-04-10  I did not wake up at 6:30 as my alarm clock in...\n",
      "1 2023-04-10  I almost got there. \\n I dipped my toe in the ...\n",
      "2 2023-04-10  I was silent for most of the ride and staring ...\n",
      "3 2023-04-10  **Find every fuck you give and set them free. ...\n",
      "4 2023-04-10  In the wake of what I thought was the collapse...\n"
     ]
    }
   ],
   "source": [
    "# Flatten the DataFrame\n",
    "flattened_df = pd.DataFrame([(date, segment) \n",
    "                             for date, segments in zip(long_entries_df['date'], long_entries_df['segments'])\n",
    "                             for segment in segments], \n",
    "                            columns=['date', 'note'])\n",
    "\n",
    "# Display the new DataFrame structure\n",
    "print(flattened_df.head())"
   ]
  },
  {
   "attachments": {},
   "cell_type": "markdown",
   "metadata": {},
   "source": [
    "🔗 **Combine Segmented Data with Original DataFrame**  \n",
    "  \n",
    "Once you have the flattened DataFrame of segments, combine it with the original data.  \n",
    "\n",
    "Drop the original long entries from df  "
   ]
  },
  {
   "cell_type": "code",
   "execution_count": 68,
   "metadata": {},
   "outputs": [
    {
     "name": "stdout",
     "output_type": "stream",
     "text": [
      "Columns in df_shortened: Index(['date', 'note', 'entry_length', 'word_count'], dtype='object')\n",
      "Columns in flattened_df: Index(['date', 'note'], dtype='object')\n"
     ]
    }
   ],
   "source": [
    "# Drop the original long entries from the original DataFrame\n",
    "df_shortened = df.drop(long_entries_df.index)\n",
    "\n",
    "# Before concatenating, make sure the columns in flattened_df and df_shortened align\n",
    "# They should both have the same columns, e.g., 'date' and 'note'\n",
    "print(\"Columns in df_shortened:\", df_shortened.columns)\n",
    "print(\"Columns in flattened_df:\", flattened_df.columns)"
   ]
  },
  {
   "attachments": {},
   "cell_type": "markdown",
   "metadata": {},
   "source": [
    "**🐞 Fix  Duplicate Entries Bug**\n",
    "- Drop extra columns in `df_shortened`  \n",
    "- `entry_length` and `word_count` are not required in the final combined DF\n",
    "- They were causing problems when concatenating the df with the flattened segments DF"
   ]
  },
  {
   "cell_type": "code",
   "execution_count": 69,
   "metadata": {},
   "outputs": [],
   "source": [
    "# Drop unnecessary columns so that df_shortened and flattened_df have the same columns and can be concatenated\n",
    "df_shortened = df_shortened[['date', 'note']]"
   ]
  },
  {
   "attachments": {},
   "cell_type": "markdown",
   "metadata": {},
   "source": [
    "✅ Validate that columns are the same"
   ]
  },
  {
   "cell_type": "code",
   "execution_count": 73,
   "metadata": {},
   "outputs": [
    {
     "name": "stdout",
     "output_type": "stream",
     "text": [
      "Columns in df_shortened: Index(['date', 'note'], dtype='object')\n",
      "Columns in flattened_df: Index(['date', 'note'], dtype='object')\n"
     ]
    }
   ],
   "source": [
    "print(\"Columns in df_shortened:\", df_shortened.columns)\n",
    "print(\"Columns in flattened_df:\", flattened_df.columns)\n",
    "\n",
    "# Ensure that both DataFrames have the same columns for concatenation\n",
    "assert set(df_shortened.columns) == set(flattened_df.columns), \"Columns do not match in DataFrames\""
   ]
  },
  {
   "cell_type": "code",
   "execution_count": 74,
   "metadata": {},
   "outputs": [
    {
     "name": "stdout",
     "output_type": "stream",
     "text": [
      "        date                                               note\n",
      "0 2021-12-30  A porn addiction\\nPoor performance at work\\nNo...\n",
      "1 2022-03-27  You raped my childhood if any innocence it eve...\n",
      "2 2024-01-07  I have to admite something. Although i am sad ...\n",
      "3 2023-03-02  I was going to do the Write of Passage course ...\n",
      "4 2022-05-12  So it begins with a spiral about continuing wi...\n",
      "\n",
      " Length:  794\n"
     ]
    }
   ],
   "source": [
    "# Concatenate the flattened segmented data with the shortened original DataFrame\n",
    "combined_df = pd.concat([df_shortened, flattened_df], ignore_index=True)\n",
    "\n",
    "# Display the structure of the combined DataFrame\n",
    "print(combined_df.head())\n",
    "print(\"\\n Length: \", len(combined_df))"
   ]
  },
  {
   "cell_type": "code",
   "execution_count": 76,
   "metadata": {},
   "outputs": [
    {
     "name": "stdout",
     "output_type": "stream",
     "text": [
      "          date                                               note\n",
      "199 2022-11-23  I’m on the plane without wifi and I just spill...\n",
      "534 2022-11-23  I’m on the plane without wifi and I just spill...\n"
     ]
    }
   ],
   "source": [
    "duplicates = combined_df[combined_df.duplicated(subset=['note'], keep=False)]\n",
    "print(duplicates)"
   ]
  },
  {
   "attachments": {},
   "cell_type": "markdown",
   "metadata": {},
   "source": [
    "😤 There is one duplicate left. I don't know why but let's drop it."
   ]
  },
  {
   "cell_type": "code",
   "execution_count": 77,
   "metadata": {},
   "outputs": [
    {
     "name": "stdout",
     "output_type": "stream",
     "text": [
      "Empty DataFrame\n",
      "Columns: [date, note]\n",
      "Index: []\n"
     ]
    }
   ],
   "source": [
    "unique_df = combined_df.drop_duplicates()\n",
    "\n",
    "duplicates = unique_df[unique_df.duplicated(subset=['note'], keep=False)]\n",
    "print(duplicates)"
   ]
  },
  {
   "cell_type": "code",
   "execution_count": 78,
   "metadata": {},
   "outputs": [
    {
     "data": {
      "text/plain": [
       "793"
      ]
     },
     "execution_count": 78,
     "metadata": {},
     "output_type": "execute_result"
    }
   ],
   "source": [
    "unique_df.__len__()"
   ]
  },
  {
   "attachments": {},
   "cell_type": "markdown",
   "metadata": {},
   "source": [
    "Cool, no more duplicates.\n",
    "\n",
    "✅ Validate that the integration worked"
   ]
  },
  {
   "cell_type": "code",
   "execution_count": 79,
   "metadata": {},
   "outputs": [
    {
     "name": "stdout",
     "output_type": "stream",
     "text": [
      "Original DF shape: (626, 4)\n",
      "Shortened DF shape: (594, 2)\n",
      "Flattened DF shape: (200, 2)\n",
      "Combined DF shape: (794, 2)\n",
      "        date                                               note\n",
      "0 2021-12-30  A porn addiction\\nPoor performance at work\\nNo...\n",
      "1 2022-03-27  You raped my childhood if any innocence it eve...\n",
      "2 2024-01-07  I have to admite something. Although i am sad ...\n",
      "3 2023-03-02  I was going to do the Write of Passage course ...\n",
      "4 2022-05-12  So it begins with a spiral about continuing wi...\n",
      "          date                                               note\n",
      "789 2021-06-06  Trey does not exist anymore and neither do any...\n",
      "790 2021-06-06  And when you do nut, I can feel that dick puls...\n",
      "791 2021-06-06  I didn’t know if I wa crying because of the pa...\n",
      "792 2021-06-06  I smile to myself and cut mine into pieces and...\n",
      "793 2021-06-06  If he touches me I will crack open like a waln...\n",
      "          date                                               note\n",
      "376 2022-04-24  Another weekend morning waking up feeling incr...\n",
      "684 2022-06-28  He put his shoes and clothes on while tears ca...\n",
      "340 2022-01-04  Technically the first day of “getting back int...\n",
      "45  2022-07-16  I can’t stop being a whore!! I NEED this vacci...\n",
      "132 2020-10-27  When I write that, I think of the sunlight. Th...\n"
     ]
    },
    {
     "ename": "AssertionError",
     "evalue": "",
     "output_type": "error",
     "traceback": [
      "\u001b[0;31m---------------------------------------------------------------------------\u001b[0m",
      "\u001b[0;31mAssertionError\u001b[0m                            Traceback (most recent call last)",
      "Cell \u001b[0;32mIn[79], line 18\u001b[0m\n\u001b[1;32m     15\u001b[0m \u001b[39mprint\u001b[39m(combined_df\u001b[39m.\u001b[39msample(\u001b[39m5\u001b[39m))\n\u001b[1;32m     17\u001b[0m \u001b[39m# Check for duplicates (assuming 'note' column for journal entries)\u001b[39;00m\n\u001b[0;32m---> 18\u001b[0m \u001b[39massert\u001b[39;00m \u001b[39mnot\u001b[39;00m combined_df\u001b[39m.\u001b[39mduplicated(subset\u001b[39m=\u001b[39m[\u001b[39m'\u001b[39m\u001b[39mnote\u001b[39m\u001b[39m'\u001b[39m])\u001b[39m.\u001b[39many()\n\u001b[1;32m     20\u001b[0m \u001b[39m# Check data types\u001b[39;00m\n\u001b[1;32m     21\u001b[0m \u001b[39mprint\u001b[39m(combined_df\u001b[39m.\u001b[39mdtypes)\n",
      "\u001b[0;31mAssertionError\u001b[0m: "
     ]
    }
   ],
   "source": [
    "# Validate shapes\n",
    "print(\"Original DF shape:\", df.shape)\n",
    "print(\"Shortened DF shape:\", df_shortened.shape)\n",
    "print(\"Flattened DF shape:\", flattened_df.shape)\n",
    "print(\"Combined DF shape:\", combined_df.shape)\n",
    "\n",
    "# Ensure the number of rows is as expected\n",
    "assert combined_df.shape[0] == df_shortened.shape[0] + flattened_df.shape[0]\n",
    "\n",
    "# Inspect head and tail\n",
    "print(combined_df.head())\n",
    "print(combined_df.tail())\n",
    "\n",
    "# Random sampling\n",
    "print(combined_df.sample(5))\n",
    "\n",
    "# Check for duplicates (assuming 'note' column for journal entries)\n",
    "assert not combined_df.duplicated(subset=['note']).any()\n",
    "\n",
    "# Check data types\n",
    "print(combined_df.dtypes)"
   ]
  },
  {
   "attachments": {},
   "cell_type": "markdown",
   "metadata": {},
   "source": [
    "📝 **Prepare for Training**  \n",
    "  \n",
    "After integrating the segmented data, the next step is to prepare the data for training. \n",
    "This includes any additional preprocessing steps like tokenization and formatting the data as required by your model."
   ]
  },
  {
   "cell_type": "code",
   "execution_count": 82,
   "metadata": {},
   "outputs": [],
   "source": [
    "# Use this DF for training and going forward since it represents the final preprocessed data\n",
    "final_df = combined_df[['date', 'note']]"
   ]
  },
  {
   "attachments": {},
   "cell_type": "markdown",
   "metadata": {},
   "source": [
    "# ✒️ Formatter Function"
   ]
  },
  {
   "attachments": {},
   "cell_type": "markdown",
   "metadata": {},
   "source": [
    "A function to structure training examples as prompts."
   ]
  },
  {
   "cell_type": "code",
   "execution_count": 93,
   "metadata": {},
   "outputs": [],
   "source": [
    "def formatting_func(row):\n",
    "    # I'm keeping Eevee the Dog bc it's cute and I couldn't think of anything better\n",
    "    formatted_text = f\"### Date: {row['date']} \\n### Note by Eevee the Dog: {row['note']}\"\n",
    "    return formatted_text"
   ]
  },
  {
   "attachments": {},
   "cell_type": "markdown",
   "metadata": {},
   "source": [
    "### 🤔 Why did we choose this formatter func?\n",
    "I found the choice to use this formatter function interesting. It opened my eyes to the significance of properly formatting prompts for effective model training. This formatter in particular allows us to train the model only on inputs (the journal entries) without the need for output targets. If we were going for Q&A dialogue format, we would have gone with something like this: \n",
    "\n",
    "```python\n",
    "def formatting_func(example):\n",
    "    text = f\"### Question: {example['input']}\\n ### Answer: {example['output']}\"\n",
    "    return text\n",
    "```\n",
    "\n",
    "### 🍀 Benefits of Formatter Function\n",
    "\n",
    "**🕊️ Simplifies Data Preparation**  \n",
    "- No need for explicit output targets simplifies dataset preparation.\n",
    "- Focus is solely on formatting inputs (journal entries) correctly.\n",
    "\n",
    "**🤸‍♀️ Flexibility in Model Use**  \n",
    "- Training with input-only (journal entries) enhances model's understanding of style, tone, and content.\n",
    "- Post-training, the model can:\n",
    "  - Generate content similar to the training data.\n",
    "  - Answer questions related to the content.\n",
    "  - Continue a journal entry in a consistent style.\n",
    "\n",
    "**💪🏽 Leverages Internal Model Capabilities**  \n",
    "- Utilizes the pre-training of advanced language models on extensive text data.\n",
    "- Fine-tunes model's inherent language and structure understanding.\n",
    "- Aligns model capabilities with the specific style and content of journal entries without needing output targets."
   ]
  },
  {
   "attachments": {},
   "cell_type": "markdown",
   "metadata": {},
   "source": [
    "### 🔮 Invoke Eevee the Dog with Prompting\n",
    "\n",
    "The model can be prompted for inference in any of the following ways:\n",
    "\n",
    "1. **Variations of the Header**\n",
    "You can use variations of the original header that maintain the essence but change the phrasing. For example:  \n",
    "    - \"Eevee the Dog wrote the following note:\"\n",
    "    - \"Note by Eevee the Dog:\"\n",
    "\n",
    "  \n",
    "2. **Contextual or Thematic Prompts**\n",
    "If the journal entries are themed or contextualized, you can prompt the model using these themes or contexts. For instance:\n",
    "    - \"Reflecting on a day in the park, Eevee the Dog noted:\"\n",
    "    - \"In a mood of contemplation, Eevee the Dog wrote:\"\n",
    "\n",
    "\n",
    "3. **Direct Questions or Statements**\n",
    "You can also use direct questions or statements related to the content of the journals. For example:\n",
    "    - \"What did Eevee the Dog say about his adventures today?\"\n",
    "    - \"Describe a recent experience of Eevee the Dog.\"\n",
    "\n",
    "\n",
    "4. **Using Keywords or Topics**\n",
    "Prompt the model with specific keywords or topics that are prevalent in the journal entries. For example:\n",
    "    - \"Discuss Eevee the Dog's thoughts on happiness.\"\n",
    "    - \"Eevee the Dog's perspective on friendship:\"\n",
    "  \n",
    "\n",
    "5. **Narrative or Storytelling Starters**\n",
    "Engage the model with a narrative starter that aligns with the style of the journal entries. For example:\n",
    "    - \"Once upon a time, Eevee the Dog felt...\""
   ]
  },
  {
   "attachments": {},
   "cell_type": "markdown",
   "metadata": {},
   "source": [
    "# 🔀 Split data into training, validation and test sets"
   ]
  },
  {
   "cell_type": "code",
   "execution_count": 117,
   "metadata": {},
   "outputs": [],
   "source": [
    "from sklearn.model_selection import train_test_split\n",
    "\n",
    "# Keep the val set small because we have a small dataset\n",
    "# 10% of the data will be in the test set\n",
    "val_size = 0.1  \n",
    "\n",
    "train_df, val_df = train_test_split(final_df, test_size=val_size, random_state=42)"
   ]
  },
  {
   "attachments": {},
   "cell_type": "markdown",
   "metadata": {},
   "source": [
    "# 🔠 Tokenize the Dataset"
   ]
  },
  {
   "cell_type": "code",
   "execution_count": 107,
   "metadata": {},
   "outputs": [],
   "source": [
    "def generate_and_tokenize_row(row):\n",
    "    return tokenizer(formatting_func(row))"
   ]
  },
  {
   "attachments": {},
   "cell_type": "markdown",
   "metadata": {},
   "source": [
    "### ✒️ Apply formatting function"
   ]
  },
  {
   "cell_type": "code",
   "execution_count": 118,
   "metadata": {},
   "outputs": [],
   "source": [
    "# Apply the formatting function to each row\n",
    "train_df['formatted_note'] = train_df.apply(formatting_func, axis=1)\n",
    "val_df['formatted_note'] = val_df.apply(formatting_func, axis=1)"
   ]
  },
  {
   "attachments": {},
   "cell_type": "markdown",
   "metadata": {},
   "source": [
    "### 📐 Determine `max_length` for training inputs"
   ]
  },
  {
   "cell_type": "code",
   "execution_count": 119,
   "metadata": {},
   "outputs": [],
   "source": [
    "tokenized_col = \"tokenized_data\"\n",
    "\n",
    "# Apply the formatting function to each row\n",
    "train_df[tokenized_col] = train_df.apply(generate_and_tokenize_row, axis=1)\n",
    "val_df[tokenized_col] = val_df.apply(generate_and_tokenize_row, axis=1)"
   ]
  },
  {
   "attachments": {},
   "cell_type": "markdown",
   "metadata": {},
   "source": [
    "Get a distribution of the dataset lengths, so the appropriate max_length for input tensors can be determined."
   ]
  },
  {
   "cell_type": "code",
   "execution_count": 120,
   "metadata": {},
   "outputs": [
    {
     "name": "stdout",
     "output_type": "stream",
     "text": [
      "794\n"
     ]
    },
    {
     "data": {
      "image/png": "[encoded data removed]",
      "text/plain": [
       "<Figure size 1000x600 with 1 Axes>"
      ]
     },
     "metadata": {},
     "output_type": "display_data"
    }
   ],
   "source": [
    "import matplotlib.pyplot as plt\n",
    "\n",
    "def plot_data_lengths(train_df, val_df):\n",
    "    # Extract the lengths of tokenized notes\n",
    "    train_lengths = train_df[tokenized_col].apply(lambda x: len(x['input_ids']))\n",
    "    val_lengths = val_df[tokenized_col].apply(lambda x: len(x['input_ids']))\n",
    "    lengths = train_lengths.tolist() + val_lengths.tolist()\n",
    "    print(len(lengths))\n",
    "\n",
    "    # Plotting the histogram\n",
    "    plt.figure(figsize=(10, 6))\n",
    "    plt.hist(lengths, bins=20, alpha=0.7, color='blue')\n",
    "    plt.xlabel('Length of input_ids')\n",
    "    plt.ylabel('Frequency')\n",
    "    plt.title('Distribution of Lengths of input_ids')\n",
    "    plt.show()\n",
    "\n",
    "plot_data_lengths(train_df, val_df)"
   ]
  },
  {
   "attachments": {},
   "cell_type": "markdown",
   "metadata": {},
   "source": [
    "**📦 All entries fit within the model's context** \n",
    "\n",
    "Most entries being within the 500-token range, and even the largest around 2000 tokens, fit comfortably within the model's context limit of 16k tokens. This means that truncation for context limit reasons may not be necessary.  \n",
    "\n",
    "**💾 Memory useage considerations**  \n",
    "\n",
    "Longer inputs require more memory and computational power, which could impact the training time, especially on GPUs with limited memory like the A10G.\n",
    "\n",
    "**⚖️ Balancing Length and Efficiency**\n",
    "\n",
    "The spike at 500 tokens and a significant number of entries with fewer tokens suggest a trade-off. You could potentially reduce the max_length to lower memory usage and accelerate training, but this might lead to losing some context from the longer entries.\n"
   ]
  },
  {
   "attachments": {},
   "cell_type": "markdown",
   "metadata": {},
   "source": [
    "### 🌕 Set `max_length`\n",
    "\n",
    "I set `max_length` to 1500 because I want the model to be trained on longer entries to make it as \"natural\" as possible when it comes to what my journal entries are like and am ok with potentially having to upgrade to an A100 instance. "
   ]
  },
  {
   "cell_type": "code",
   "execution_count": 112,
   "metadata": {},
   "outputs": [],
   "source": [
    "max_length = 1500"
   ]
  },
  {
   "attachments": {},
   "cell_type": "markdown",
   "metadata": {},
   "source": [
    "### 🪓 Tokenize and Truncate the Dataset"
   ]
  },
  {
   "cell_type": "code",
   "execution_count": 114,
   "metadata": {},
   "outputs": [],
   "source": [
    "def tokenize_and_truncate(row):\n",
    "    formatted_note = formatting_func(row)\n",
    "    result = tokenizer(\n",
    "        formatted_note,\n",
    "        truncation=True,\n",
    "        max_length=max_length,\n",
    "        padding=\"max_length\",\n",
    "        return_tensors=\"pt\"  # Add this if you are using PyTorch and need tensors\n",
    "    )\n",
    "    # Copy input_ids to labels for language model training, ensuring separate memory allocation with clone()\n",
    "    result[\"labels\"] = result[\"input_ids\"].clone()  # Use clone() for PyTorch tensors\n",
    "    return result"
   ]
  },
  {
   "cell_type": "code",
   "execution_count": 121,
   "metadata": {},
   "outputs": [],
   "source": [
    "# Apply to the dataframes\n",
    "train_df[tokenized_col] = train_df.apply(tokenize_and_truncate, axis=1)\n",
    "val_df[tokenized_col] = val_df.apply(tokenize_and_truncate, axis=1)"
   ]
  },
  {
   "cell_type": "code",
   "execution_count": 122,
   "metadata": {},
   "outputs": [
    {
     "name": "stdout",
     "output_type": "stream",
     "text": [
      "794\n"
     ]
    },
    {
     "data": {
      "image/png": "[encoded data removed]",
      "text/plain": [
       "<Figure size 1000x600 with 1 Axes>"
      ]
     },
     "metadata": {},
     "output_type": "display_data"
    }
   ],
   "source": [
    "plot_data_lengths(train_df, val_df)"
   ]
  },
  {
   "attachments": {},
   "cell_type": "markdown",
   "metadata": {},
   "source": [
    "Now all samples are the same length.  \n",
    "\n",
    "Uniform sample length is crucial for batch processing in neural networks, ensuring consistent input shape across all data, which is a requirement for most deep learning models."
   ]
  },
  {
   "attachments": {},
   "cell_type": "markdown",
   "metadata": {},
   "source": [
    "# 💯 Evaluate base model before training"
   ]
  },
  {
   "cell_type": "code",
   "execution_count": 123,
   "metadata": {},
   "outputs": [],
   "source": [
    "eval_prompt = \" The following is a note by Eevee the Dog: # \""
   ]
  },
  {
   "cell_type": "code",
   "execution_count": null,
   "metadata": {},
   "outputs": [],
   "source": [
    "# Init an eval tokenizer that doesn't add padding or eos token\n",
    "eval_tokenizer = AutoTokenizer.from_pretrained(\n",
    "    tokenizer_model_id,\n",
    "    add_bos_token=True,\n",
    ")\n",
    "\n",
    "model_input = eval_tokenizer(eval_prompt, return_tensors=\"pt\").to(\"cuda\")\n",
    "\n",
    "model.eval()\n",
    "with torch.no_grad():\n",
    "    print(eval_tokenizer.decode(model.generate(**model_input, max_new_tokens=256, repetition_penalty=1.15)[0], skip_special_tokens=True))"
   ]
  },
  {
   "attachments": {},
   "cell_type": "markdown",
   "metadata": {},
   "source": [
    "# ⚙️ Set up LoRA for Fine-Tuning an LLM\n"
   ]
  },
  {
   "attachments": {},
   "cell_type": "markdown",
   "metadata": {},
   "source": [
    "## 🧘🏽‍♀️ Prepare Model for Training\n",
    "\n",
    "Using prepare_model_for_kbit_training from the PEFT library prepares the model for efficient training, enabling gradient checkpointing to save memory."
   ]
  },
  {
   "cell_type": "code",
   "execution_count": 124,
   "metadata": {},
   "outputs": [
    {
     "ename": "NameError",
     "evalue": "name 'model' is not defined",
     "output_type": "error",
     "traceback": [
      "\u001b[0;31m---------------------------------------------------------------------------\u001b[0m",
      "\u001b[0;31mNameError\u001b[0m                                 Traceback (most recent call last)",
      "Cell \u001b[0;32mIn[124], line 3\u001b[0m\n\u001b[1;32m      1\u001b[0m \u001b[39mfrom\u001b[39;00m \u001b[39mpeft\u001b[39;00m \u001b[39mimport\u001b[39;00m prepare_model_for_kbit_training\n\u001b[0;32m----> 3\u001b[0m model\u001b[39m.\u001b[39mgradient_checkpointing_enable()\n\u001b[1;32m      4\u001b[0m model \u001b[39m=\u001b[39m prepare_model_for_kbit_training(model)\n",
      "\u001b[0;31mNameError\u001b[0m: name 'model' is not defined"
     ]
    }
   ],
   "source": [
    "from peft import prepare_model_for_kbit_training\n",
    "\n",
    "model.gradient_checkpointing_enable()\n",
    "model = prepare_model_for_kbit_training(model)"
   ]
  },
  {
   "attachments": {},
   "cell_type": "markdown",
   "metadata": {},
   "source": [
    "## 🔎 Examine Layers\n",
    "\n",
    "Printing the model structure helps identify layers to apply LoRA, like q_proj, k_proj, etc."
   ]
  },
  {
   "cell_type": "code",
   "execution_count": 126,
   "metadata": {},
   "outputs": [
    {
     "ename": "NameError",
     "evalue": "name 'model' is not defined",
     "output_type": "error",
     "traceback": [
      "\u001b[0;31m---------------------------------------------------------------------------\u001b[0m",
      "\u001b[0;31mNameError\u001b[0m                                 Traceback (most recent call last)",
      "Cell \u001b[0;32mIn[126], line 1\u001b[0m\n\u001b[0;32m----> 1\u001b[0m \u001b[39mprint\u001b[39m(model)\n",
      "\u001b[0;31mNameError\u001b[0m: name 'model' is not defined"
     ]
    }
   ],
   "source": [
    "print(model)"
   ]
  },
  {
   "attachments": {},
   "cell_type": "markdown",
   "metadata": {},
   "source": [
    "## 🛠️ Configure LoRA\n",
    "\n",
    "LoRA (Low-Rank Adaptation) is a technique to fine-tune large models efficiently by updating only a small subset of model parameters.\n",
    "\n",
    "### 🔧 Configuration\n",
    "`r` (Rank)  \n",
    "Determines the size of low-rank matrices. Affects the number of trainable parameters.\n",
    "\n",
    "`lora_alpha`  \n",
    "Scaling factor for LoRA weights.\n",
    "\n",
    "`target_modules`  \n",
    "Specific layers where LoRA is applied\n",
    "\n",
    "Target modules are determined by examining the model's architecture and identifying layers that significantly influence its predictions\n",
    "\n",
    "### 💎 Chosen Values\n",
    "`r (Rank) = 32`  \n",
    "`lora_alpha = 64`  \n",
    "\n",
    "The chosen values aim for a balance between model expressivity and computational complexity."
   ]
  },
  {
   "cell_type": "code",
   "execution_count": 127,
   "metadata": {},
   "outputs": [
    {
     "ename": "NameError",
     "evalue": "name 'model' is not defined",
     "output_type": "error",
     "traceback": [
      "\u001b[0;31m---------------------------------------------------------------------------\u001b[0m",
      "\u001b[0;31mNameError\u001b[0m                                 Traceback (most recent call last)",
      "Cell \u001b[0;32mIn[127], line 14\u001b[0m\n\u001b[1;32m      4\u001b[0m config \u001b[39m=\u001b[39m LoraConfig(\n\u001b[1;32m      5\u001b[0m     r\u001b[39m=\u001b[39m\u001b[39m32\u001b[39m,\n\u001b[1;32m      6\u001b[0m     lora_alpha\u001b[39m=\u001b[39m\u001b[39m64\u001b[39m,\n\u001b[0;32m   (...)\u001b[0m\n\u001b[1;32m     10\u001b[0m     task_type\u001b[39m=\u001b[39m\u001b[39m\"\u001b[39m\u001b[39mCAUSAL_LM\u001b[39m\u001b[39m\"\u001b[39m,\n\u001b[1;32m     11\u001b[0m )\n\u001b[1;32m     13\u001b[0m \u001b[39m# Apply LoRA to the model\u001b[39;00m\n\u001b[0;32m---> 14\u001b[0m model \u001b[39m=\u001b[39m get_peft_model(model, config)\n",
      "\u001b[0;31mNameError\u001b[0m: name 'model' is not defined"
     ]
    }
   ],
   "source": [
    "from peft import LoraConfig, get_peft_model\n",
    "\n",
    "# LoRA configuration\n",
    "config = LoraConfig(\n",
    "    r=32,\n",
    "    lora_alpha=64,\n",
    "    target_modules=[\"q_proj\", \"k_proj\", \"v_proj\", \"o_proj\", \"gate_proj\", \"up_proj\", \"down_proj\", \"lm_head\"],\n",
    "    bias=\"none\",\n",
    "    lora_dropout=0.05,\n",
    "    task_type=\"CAUSAL_LM\",\n",
    ")\n",
    "\n",
    "# Apply LoRA to the model\n",
    "model = get_peft_model(model, config)"
   ]
  },
  {
   "attachments": {},
   "cell_type": "markdown",
   "metadata": {},
   "source": [
    "## 🔌  Add LoRA Adapters\n",
    "LoRA adapters are added to specified layers using `get_peft_model` + the LoRA configuration.\n"
   ]
  },
  {
   "cell_type": "code",
   "execution_count": 128,
   "metadata": {},
   "outputs": [
    {
     "ename": "NameError",
     "evalue": "name 'model' is not defined",
     "output_type": "error",
     "traceback": [
      "\u001b[0;31m---------------------------------------------------------------------------\u001b[0m",
      "\u001b[0;31mNameError\u001b[0m                                 Traceback (most recent call last)",
      "Cell \u001b[0;32mIn[128], line 4\u001b[0m\n\u001b[1;32m      1\u001b[0m \u001b[39mfrom\u001b[39;00m \u001b[39mpeft\u001b[39;00m \u001b[39mimport\u001b[39;00m get_peft_model\n\u001b[1;32m      3\u001b[0m \u001b[39m# Apply LoRA to the model using the specified LoRA configuration\u001b[39;00m\n\u001b[0;32m----> 4\u001b[0m model \u001b[39m=\u001b[39m get_peft_model(model, config)\n",
      "\u001b[0;31mNameError\u001b[0m: name 'model' is not defined"
     ]
    }
   ],
   "source": [
    "from peft import get_peft_model\n",
    "\n",
    "# Apply LoRA to the model using the specified LoRA configuration\n",
    "model = get_peft_model(model, config)"
   ]
  },
  {
   "attachments": {},
   "cell_type": "markdown",
   "metadata": {},
   "source": [
    "## 🏋🏽‍♂️ Check Trainable Parameters\n",
    "A function prints the number of trainable parameters, showing a small percentage of the total, indicating efficiency.\n"
   ]
  },
  {
   "cell_type": "code",
   "execution_count": 125,
   "metadata": {},
   "outputs": [],
   "source": [
    "def print_trainable_parameters(model):\n",
    "    \"\"\"\n",
    "    Prints the number of trainable parameters in the model.\n",
    "    \"\"\"\n",
    "    trainable_params = 0\n",
    "    all_param = 0\n",
    "    for _, param in model.named_parameters():\n",
    "        all_param += param.numel()\n",
    "        if param.requires_grad:\n",
    "            trainable_params += param.numel()\n",
    "    print(\n",
    "        f\"trainable params: {trainable_params} || all params: {all_param} || trainable%: {100 * trainable_params / all_param}\"\n",
    "    )"
   ]
  },
  {
   "attachments": {},
   "cell_type": "markdown",
   "metadata": {},
   "source": [
    "## 👀 View Modified Model\n",
    "Finally, printing the model shows the changes made, with LoRA adapters added."
   ]
  },
  {
   "cell_type": "code",
   "execution_count": 130,
   "metadata": {},
   "outputs": [
    {
     "ename": "NameError",
     "evalue": "name 'model' is not defined",
     "output_type": "error",
     "traceback": [
      "\u001b[0;31m---------------------------------------------------------------------------\u001b[0m",
      "\u001b[0;31mNameError\u001b[0m                                 Traceback (most recent call last)",
      "Cell \u001b[0;32mIn[130], line 1\u001b[0m\n\u001b[0;32m----> 1\u001b[0m \u001b[39mprint\u001b[39m(model)\n",
      "\u001b[0;31mNameError\u001b[0m: name 'model' is not defined"
     ]
    }
   ],
   "source": [
    "print(model)"
   ]
  },
  {
   "attachments": {},
   "cell_type": "markdown",
   "metadata": {},
   "source": [
    "# 🦾 Fine-Tune the Model with LoRA "
   ]
  },
  {
   "attachments": {},
   "cell_type": "markdown",
   "metadata": {},
   "source": [
    "## 👁️ Training Scope"
   ]
  },
  {
   "attachments": {},
   "cell_type": "markdown",
   "metadata": {},
   "source": [
    "**Know the number of data samples in train and val datasets helps us to:**\n",
    "\n",
    "- Ensure there's sufficient data for effective model training\n",
    "- Gauge the potential for overfitting\n",
    "- Guide decisions on training configuration such as batch size and number of epochs\n"
   ]
  },
  {
   "cell_type": "code",
   "execution_count": 138,
   "metadata": {},
   "outputs": [
    {
     "name": "stdout",
     "output_type": "stream",
     "text": [
      "Training dataset size: 714\n",
      "Validation dataset size: 80\n",
      "\n",
      "Total dataset size: 794 🎉\n"
     ]
    }
   ],
   "source": [
    "train_size = len(train_df)\n",
    "val_size = len(val_df)\n",
    "\n",
    "print(f\"Training dataset size: {train_size}\")\n",
    "print(f\"Validation dataset size: {val_size}\")\n",
    "print(f\"\\nTotal dataset size: {train_size + val_size} 🎉\")"
   ]
  },
  {
   "attachments": {},
   "cell_type": "markdown",
   "metadata": {},
   "source": [
    "### 🧪 Ensure Sufficient Data for Effective Training\n",
    "\n",
    "- With 714 samples, you likely have enough data to fine-tune a pre-trained model, especially if it's a language model already familiar with the general structure of language.\n",
    "\n",
    "- If your data is highly specialized, consider data augmentation or transfer learning techniques to maximize learning from available data."
   ]
  },
  {
   "attachments": {},
   "cell_type": "markdown",
   "metadata": {},
   "source": [
    "### 🎯 Gauge the Potential for Overfitting\n",
    "\n",
    "- Overfitting is a risk when the model learns the training data too well, failing to generalize.\n",
    "\n",
    "- Regularly evaluate performance on the validation set (80 samples) to monitor for overfitting. If validation performance begins to worsen while training performance improves, it's a sign of overfitting.\n",
    "\n",
    "- Implement strategies like dropout or early stopping if overfitting is observed."
   ]
  },
  {
   "attachments": {},
   "cell_type": "markdown",
   "metadata": {},
   "source": [
    "### 🧭 Guide Decisions on Training Configuration\n",
    "\n",
    "🍪 **Batch Size**  \n",
    "\n",
    "Choose a batch size that balances learning efficiency and computational constraints. With 714 samples, a smaller batch size (e.g., 16 or 32) can be effective.\n",
    "\n",
    "🔁 **Number of Epochs**  \n",
    "\n",
    "Decide on the number of epochs based on the model's learning rate and the complexity of the task. Start with a moderate number (e.g., 3-5 epochs) and adjust based on training and validation performance.\n",
    "\n",
    "📈 **Learning Rate**  \n",
    "\n",
    "A smaller learning rate is often preferred for fine-tuning to make subtle adjustments to the pre-trained model.\n",
    "\n",
    "🏁 **Regular Checkpoints**  \n",
    "\n",
    "Save model checkpoints regularly to avoid losing progress and to allow for model evaluation at different stages of training."
   ]
  },
  {
   "attachments": {},
   "cell_type": "markdown",
   "metadata": {},
   "source": [
    "## 💻 Training Setup"
   ]
  },
  {
   "attachments": {},
   "cell_type": "markdown",
   "metadata": {},
   "source": [
    "Multi-GPU support if available"
   ]
  },
  {
   "cell_type": "code",
   "execution_count": null,
   "metadata": {},
   "outputs": [],
   "source": [
    "if torch.cuda.device_count() > 1: # If more than 1 GPU\n",
    "    model.is_parallelizable = True\n",
    "    model.model_parallel = True"
   ]
  },
  {
   "attachments": {},
   "cell_type": "markdown",
   "metadata": {},
   "source": [
    "Using the **`Trainer`** class from Hugging Face Transformers"
   ]
  },
  {
   "cell_type": "code",
   "execution_count": null,
   "metadata": {},
   "outputs": [],
   "source": []
  },
  {
   "attachments": {},
   "cell_type": "markdown",
   "metadata": {},
   "source": [
    "Setting training arguments like batch size, learning rate, logging, and saving strategies"
   ]
  },
  {
   "cell_type": "code",
   "execution_count": null,
   "metadata": {},
   "outputs": [],
   "source": []
  }
 ],
 "metadata": {
  "kernelspec": {
   "display_name": "env_journal_entries_mixtral",
   "language": "python",
   "name": "python3"
  },
  "language_info": {
   "codemirror_mode": {
    "name": "ipython",
    "version": 3
   },
   "file_extension": ".py",
   "mimetype": "text/x-python",
   "name": "python",
   "nbconvert_exporter": "python",
   "pygments_lexer": "ipython3",
   "version": "3.11.7"
  },
  "orig_nbformat": 4
 },
 "nbformat": 4,
 "nbformat_minor": 2
}
