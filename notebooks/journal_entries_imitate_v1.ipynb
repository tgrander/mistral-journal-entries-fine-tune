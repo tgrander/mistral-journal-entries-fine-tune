{
 "cells": [
  {
   "attachments": {},
   "cell_type": "markdown",
   "metadata": {},
   "source": [
    "# ⬇️ Install Dependencies"
   ]
  },
  {
   "cell_type": "code",
   "execution_count": null,
   "metadata": {},
   "outputs": [],
   "source": [
    "!pip install transformers torch torchvision wandb datasets pandas accelerate peft\n",
    "!python -m spacy download en_core_web_sm"
   ]
  },
  {
   "cell_type": "code",
   "execution_count": null,
   "metadata": {},
   "outputs": [],
   "source": [
    "import torch; assert torch.cuda.get_device_capability()[0] >= 8, 'Hardware not supported for Flash Attention'\n",
    "# install flash-attn\n",
    "!pip install ninja packaging\n",
    "!MAX_JOBS=2 pip install flash-attn --no-build-isolation"
   ]
  },
  {
   "attachments": {},
   "cell_type": "markdown",
   "metadata": {},
   "source": [
    "# ⚖️ Weights & Biases"
   ]
  },
  {
   "cell_type": "code",
   "execution_count": null,
   "metadata": {},
   "outputs": [],
   "source": [
    "import wandb\n",
    "\n",
    "wandb.login()"
   ]
  },
  {
   "cell_type": "code",
   "execution_count": null,
   "metadata": {},
   "outputs": [],
   "source": [
    "import os \n",
    "\n",
    "wandb_project = \"journal-finetune-dolphin-2.6\"\n",
    "\n",
    "run = wandb.init(\n",
    "    # Set the project where this run will be logged\n",
    "    project=wandb_project,\n",
    "    # Track hyperparameters and run metadata\n",
    "    config={\n",
    "        \"learning_rate\": 0.01,\n",
    "        \"epochs\": 10,\n",
    "    },\n",
    ")\n",
    "\n",
    "if len(wandb_project) > 0:\n",
    "    os.environ[\"WANDB_PROJECT\"] = wandb_project"
   ]
  },
  {
   "attachments": {},
   "cell_type": "markdown",
   "metadata": {},
   "source": [
    "# 🧮 Data Preprocessing"
   ]
  },
  {
   "cell_type": "code",
   "execution_count": 26,
   "metadata": {},
   "outputs": [],
   "source": [
    "import pandas as pd\n",
    "\n",
    "df = pd.read_json(\"../data/processed/journal_entries.jsonl\", lines=True)"
   ]
  },
  {
   "cell_type": "code",
   "execution_count": 11,
   "metadata": {},
   "outputs": [
    {
     "name": "stdout",
     "output_type": "stream",
     "text": [
      "Missing values in each column:\n",
      " date    0\n",
      "note    0\n",
      "dtype: int64\n",
      "\n",
      "Invalid dates found:\n",
      " Empty DataFrame\n",
      "Columns: [date, note]\n",
      "Index: []\n",
      "\n",
      "Non-string entries found:\n",
      " Empty DataFrame\n",
      "Columns: [date, note]\n",
      "Index: []\n",
      "\n",
      "Statistics for 'note' lengths:\n",
      " count      702.000000\n",
      "mean      2221.309117\n",
      "std       3101.092724\n",
      "min          0.000000\n",
      "25%        309.500000\n",
      "50%       1191.500000\n",
      "75%       3118.500000\n",
      "max      42126.000000\n",
      "Name: note, dtype: float64\n"
     ]
    }
   ],
   "source": [
    "# Check for missing values in both date and note columns\n",
    "missing_values = df.isnull().sum()\n",
    "print(\"Missing values in each column:\\n\", missing_values)\n",
    "\n",
    "# Validate Date Format - if the dates are already in Timestamp format, they are valid\n",
    "invalid_dates = df[~df['date'].apply(lambda x: isinstance(x, pd.Timestamp))]\n",
    "print(\"\\nInvalid dates found:\\n\", invalid_dates)\n",
    "\n",
    "# Check Journal Entry Format\n",
    "# Ensure that all journal entries are strings\n",
    "non_string_entries = df[~df['note'].apply(lambda x: isinstance(x, str))]\n",
    "print(\"\\nNon-string entries found:\\n\", non_string_entries)\n",
    "\n",
    "# Data Consistency and Completeness\n",
    "# Look for any anomalies in data, such as extremely short or long entries, or entries with unusual characters\n",
    "print(\"\\nStatistics for 'note' lengths:\\n\", df['note'].str.len().describe())"
   ]
  },
  {
   "cell_type": "code",
   "execution_count": 32,
   "metadata": {},
   "outputs": [],
   "source": [
    "import re\n",
    "\n",
    "def clean_text(text):\n",
    "    # Removing headers/footers not part of the story\n",
    "    text = re.sub(r\"\\s*Page\\s*\\|\\s*\\d+\\s*\\|\\s*American\\s*Literature\\s*\", \"\", text)\n",
    "\n",
    "    # Standardizing punctuation and whitespace\n",
    "    # Replace multiple spaces with a single space\n",
    "    text = re.sub(r\"\\s+\", \" \", text)\n",
    "\n",
    "    # Standardize quotation marks\n",
    "    text = text.replace(\"“\", '\"').replace(\"”\", '\"')\n",
    "\n",
    "    # Standardize apostrophes\n",
    "    text = text.replace(\"’\", \"'\").replace(\"‘\", \"'\")\n",
    "\n",
    "    # lowercase\n",
    "    text = text.lower()\n",
    "\n",
    "    # Remove leading/trailing whitespace\n",
    "    return text.strip()\n",
    "\n",
    "# Clean the text\n",
    "df['note_cleaned'] = df['note'].apply(clean_text)"
   ]
  },
  {
   "attachments": {},
   "cell_type": "markdown",
   "metadata": {},
   "source": [
    "# 📏 Tokenize Data & Explore Token Lengths"
   ]
  },
  {
   "cell_type": "code",
   "execution_count": 2,
   "metadata": {},
   "outputs": [],
   "source": [
    "from transformers import AutoTokenizer\n",
    "\n",
    "model_id = \"cognitivecomputations/dolphin-2.6-mistral-7b-dpo-laser\"\n",
    "\n",
    "tokenizer = AutoTokenizer.from_pretrained(model_id)"
   ]
  },
  {
   "cell_type": "code",
   "execution_count": 3,
   "metadata": {},
   "outputs": [
    {
     "data": {
      "text/plain": [
       "[1, 22557, 28725, 586, 3914, 349, 17949, 28723]"
      ]
     },
     "execution_count": 3,
     "metadata": {},
     "output_type": "execute_result"
    }
   ],
   "source": [
    "# function that encodes text input with tokenizer and returns the length of the tokenized input\n",
    "def count_tokens(text):\n",
    "    return len(tokenizer.encode(text))\n",
    "\n",
    "count = tokenizer.encode(\"Hello, my dog is cute.\")\n",
    "count"
   ]
  },
  {
   "cell_type": "code",
   "execution_count": 27,
   "metadata": {},
   "outputs": [],
   "source": [
    "# Apply the function to the 'note' column\n",
    "df['token_length'] = df['note'].apply(count_tokens)"
   ]
  },
  {
   "cell_type": "code",
   "execution_count": 11,
   "metadata": {},
   "outputs": [
    {
     "data": {
      "text/plain": [
       "count      702.000000\n",
       "mean       554.128205\n",
       "std        765.610486\n",
       "min          1.000000\n",
       "25%         79.000000\n",
       "50%        303.000000\n",
       "75%        760.750000\n",
       "max      10586.000000\n",
       "Name: token_length, dtype: float64"
      ]
     },
     "execution_count": 11,
     "metadata": {},
     "output_type": "execute_result"
    }
   ],
   "source": [
    "df['token_length'].describe()"
   ]
  },
  {
   "cell_type": "code",
   "execution_count": 77,
   "metadata": {},
   "outputs": [],
   "source": [
    "# Mean is 554 and 512 is a nice standard token count in the same range\n",
    "max_sequence_length = 512"
   ]
  },
  {
   "cell_type": "code",
   "execution_count": 16,
   "metadata": {},
   "outputs": [
    {
     "name": "stdout",
     "output_type": "stream",
     "text": [
      "Number of entries exceeding the maximum length: 251\n"
     ]
    }
   ],
   "source": [
    "# get the number of entries that exceed the maximum sequence length\n",
    "exceeding_max_length = df[df['token_length'] > max_sequence_length]\n",
    "print(\"Number of entries exceeding the maximum length:\", len(exceeding_max_length))"
   ]
  },
  {
   "cell_type": "code",
   "execution_count": 28,
   "metadata": {},
   "outputs": [
    {
     "name": "stdout",
     "output_type": "stream",
     "text": [
      "Empty entries:  0\n"
     ]
    }
   ],
   "source": [
    "# Remove entries with empty notes\n",
    "df = df[df['note'].apply(lambda x: len(x) > 0)]\n",
    "print(\"Empty entries: \", len(df[df['note'].apply(lambda x: len(x) < 0)]))"
   ]
  },
  {
   "cell_type": "code",
   "execution_count": 29,
   "metadata": {},
   "outputs": [],
   "source": [
    "# Remove very short entries with no value\n",
    "entries_ix_to_delete = [40, 47, 65, 90, 103, 110, 117, 130, 132, 153, 156, 165, 171, 174, 205, 219, 247, 291, 292, 315, 318, 336, 342, 356, 385, 407, 424, 433, 451, 474, 530, 534, 541, 567, 578, 589, 602, 619, 620, 668, 690, 697]\n",
    "\n",
    "df = df.drop(entries_ix_to_delete)\n",
    "\n",
    "# Reset the index if you want a continuous index after deletion\n",
    "df.reset_index(drop=True, inplace=True)"
   ]
  },
  {
   "attachments": {},
   "cell_type": "markdown",
   "metadata": {},
   "source": [
    "# ✂️ Segment Long Entries"
   ]
  },
  {
   "cell_type": "code",
   "execution_count": 31,
   "metadata": {},
   "outputs": [
    {
     "data": {
      "image/png": "[encoded data removed]",
      "text/plain": [
       "<Figure size 800x400 with 1 Axes>"
      ]
     },
     "metadata": {},
     "output_type": "display_data"
    }
   ],
   "source": [
    "# Plot the distribution of token lengths\n",
    "import matplotlib.pyplot as plt\n",
    "\n",
    "# Plotting the histogram\n",
    "plt.figure(figsize=(8, 4))\n",
    "plt.hist(df['token_length'], bins=50, color='blue', edgecolor='black')\n",
    "plt.title('Distribution of Entry Lengths')\n",
    "plt.xlabel('Length of Entries (in tokens)')\n",
    "plt.ylabel('Number of Entries')\n",
    "plt.grid(True)\n",
    "plt.show()"
   ]
  },
  {
   "cell_type": "code",
   "execution_count": 137,
   "metadata": {},
   "outputs": [
    {
     "name": "stdout",
     "output_type": "stream",
     "text": [
      "Date: 2024-01-31\n",
      "Insight by Treysifer:\n",
      "Reflecting on the importance of daily mindfulness practices. \n",
      "\n",
      "Date: 2024-01-31\n",
      "Insight by Treysifer:\n",
      "\n"
     ]
    }
   ],
   "source": [
    "def format_journal_entry(date, note=\"\"):\n",
    "    \"\"\"\n",
    "    Formats a journal entry with a given date and note content for AI training.\n",
    "\n",
    "    Parameters:\n",
    "    - date (str): The date of the journal entry in 'YYYY-MM-DD' format.\n",
    "    - note (str): The content of the journal entry.\n",
    "\n",
    "    Returns:\n",
    "    - str: A formatted string suitable for AI model training, incorporating the\n",
    "           date, a personalized prompt with the name \"Trey\", and the journal note.\n",
    "    \"\"\"\n",
    "    # Construct the training prompt with the date, personalized identifier, and the note\n",
    "    formatted_entry = f\"Date: {date}\\nInsight by Treysifer:\\n{note}\"\n",
    "    \n",
    "    return formatted_entry\n",
    "\n",
    "# Example usage\n",
    "example_date = \"2024-01-31\"\n",
    "example_note = \"Reflecting on the importance of daily mindfulness practices.\"\n",
    "formatted_entry = format_journal_entry(example_date, example_note)\n",
    "\n",
    "print(formatted_entry, \"\\n\")\n",
    "print(format_journal_entry(example_date))"
   ]
  },
  {
   "cell_type": "code",
   "execution_count": 138,
   "metadata": {},
   "outputs": [],
   "source": [
    "import spacy\n",
    "from typing import List\n",
    "import pandas as pd\n",
    "\n",
    "\n",
    "nlp = spacy.load(\"en_core_web_sm\")\n",
    "\n",
    "\n",
    "def get_text_segments_and_format(\n",
    "    row: pd.Series,\n",
    "    max_token_limit=max_sequence_length,\n",
    ") -> List[str]:\n",
    "    date = row[\"date_cleaned\"]\n",
    "    note = row[\"note_cleaned\"]\n",
    "\n",
    "    # Initialize the NLP model for sentence tokenization\n",
    "    doc = nlp(note)\n",
    "    sentences = [sent.text.strip() for sent in doc.sents]\n",
    "    segments: List[str] = []\n",
    "    training_prompt_header_tokens = count_tokens(format_journal_entry(date))\n",
    "\n",
    "    curr_segment = \"\"\n",
    "    # initialize the curr_segment token size with the training prompt token size\n",
    "    sequence_token_size = training_prompt_header_tokens\n",
    "\n",
    "    for sentence in sentences:\n",
    "        sentence += \" \"\n",
    "        current_sentence_token_size = count_tokens(sentence)\n",
    "\n",
    "        if sequence_token_size + current_sentence_token_size <= max_token_limit:\n",
    "            # Append sentence to the curr_segment until token size of curr_segment >= max_token_limit\n",
    "            curr_segment += sentence\n",
    "            sequence_token_size += current_sentence_token_size\n",
    "        else:\n",
    "            formatted_segment = format_journal_entry(date, curr_segment)\n",
    "            segments.append(formatted_segment)\n",
    "            # The next segment begins with the curr sentence that has no home\n",
    "            curr_segment = sentence\n",
    "            sequence_token_size = training_prompt_header_tokens + count_tokens(sentence)\n",
    "\n",
    "    # Append the last segment if it's not empty, including the training prompt\n",
    "    if curr_segment:\n",
    "        formatted_segment = format_journal_entry(date, curr_segment)\n",
    "        segments.append(formatted_segment)\n",
    "\n",
    "    return segments"
   ]
  },
  {
   "cell_type": "code",
   "execution_count": 62,
   "metadata": {},
   "outputs": [],
   "source": [
    "import textwrap\n",
    "\n",
    "\n",
    "def test_segmenting_and_formatting(\n",
    "    sample_size: int,\n",
    "    max_token_limit=max_sequence_length,\n",
    "):\n",
    "    samples_df = df.sample(sample_size, random_state=42)\n",
    "\n",
    "    for idx, row in samples_df.iterrows():\n",
    "        segments = get_text_segments_and_format(row, max_token_limit=max_token_limit)\n",
    "\n",
    "        for i, segment in enumerate(segments):\n",
    "            print(f\"🍊 Segment {i+1}: {count_tokens(segment)}\\n\")\n",
    "            print(textwrap.fill(segment, width=70), \"\\n\\n\")\n",
    "            if i == len(segments) - 1:\n",
    "                print(\n",
    "                    \"----------------------------------------------------------------------\"\n",
    "                )"
   ]
  },
  {
   "cell_type": "code",
   "execution_count": null,
   "metadata": {},
   "outputs": [],
   "source": [
    "# test_segmenting_and_formatting(1)"
   ]
  },
  {
   "cell_type": "code",
   "execution_count": null,
   "metadata": {},
   "outputs": [],
   "source": [
    "def clean_date(datetime_obj):\n",
    "    \"\"\"\n",
    "    Converts a datetime object to a date string without the time component.\n",
    "\n",
    "    Parameters:\n",
    "    - datetime_obj (datetime): The datetime object to be cleaned.\n",
    "\n",
    "    Returns:\n",
    "    - str: A string representing the date in 'YYYY-MM-DD' format.\n",
    "    \"\"\"\n",
    "    # Format the datetime object to a date string (YYYY-MM-DD)\n",
    "    return datetime_obj.strftime('%Y-%m-%d')\n",
    "\n",
    "df[\"date_cleaned\"] = df[\"date\"].apply(clean_date)\n",
    "df.head()"
   ]
  },
  {
   "cell_type": "code",
   "execution_count": null,
   "metadata": {},
   "outputs": [],
   "source": [
    "df.sample(1, random_state=42)[\"note_cleaned\"].values[0]"
   ]
  },
  {
   "cell_type": "code",
   "execution_count": null,
   "metadata": {},
   "outputs": [],
   "source": [
    "df[\"segments\"] = df.apply(get_text_segments_and_format, axis=1)\n",
    "df.head()"
   ]
  },
  {
   "attachments": {},
   "cell_type": "markdown",
   "metadata": {},
   "source": [
    "# 🪡 Integrate Segments Into DataFrame"
   ]
  },
  {
   "cell_type": "code",
   "execution_count": 141,
   "metadata": {},
   "outputs": [
    {
     "data": {
      "text/plain": [
       "(626, 6)"
      ]
     },
     "execution_count": 141,
     "metadata": {},
     "output_type": "execute_result"
    }
   ],
   "source": [
    "# sort entries by date\n",
    "sorted_df = df.sort_values(by=\"date\")\n",
    "sorted_df.shape"
   ]
  },
  {
   "cell_type": "code",
   "execution_count": null,
   "metadata": {},
   "outputs": [],
   "source": [
    "sorted_df = sorted_df.reset_index().rename(columns={'index': 'entry_id'})\n",
    "sorted_df.head()\n",
    "\n",
    "# write text to the bottom of a csv file\n",
    "def write_to_csv(file_path, text):\n",
    "    with open(file_path, \"a\") as file:\n",
    "        file.write(text)"
   ]
  },
  {
   "cell_type": "code",
   "execution_count": 143,
   "metadata": {},
   "outputs": [],
   "source": [
    "# write sorted_df to a csv file\n",
    "sorted_df.to_csv(\"../data/processed/journal_entries_segmented_sorted.csv\", index=False)"
   ]
  },
  {
   "cell_type": "code",
   "execution_count": 144,
   "metadata": {},
   "outputs": [],
   "source": [
    "relevant_columns = [\"entry_id\", \"date_cleaned\", \"segments\"]\n",
    "flattened_segments = sorted_df[relevant_columns].explode('segments').reset_index().rename(columns={'segments': 'formatted_segment'})\n",
    "flattened_segments = flattened_segments[[\"entry_id\", \"date_cleaned\", \"formatted_segment\"]].rename(columns={\"date_cleaned\": \"date\"})"
   ]
  },
  {
   "cell_type": "code",
   "execution_count": 147,
   "metadata": {},
   "outputs": [],
   "source": [
    "def print_segments(segments):\n",
    "    for i, segment in enumerate(segments):\n",
    "        print(f\"🍊 Segment {i+1} ({count_tokens(segment)} tokens):\")\n",
    "        print(textwrap.fill(segment, width=70), \"\\n\\n\")\n",
    "        if i == len(segments) - 1:\n",
    "            print(\"----------------------------------------------------------------------\")"
   ]
  },
  {
   "cell_type": "code",
   "execution_count": 148,
   "metadata": {},
   "outputs": [
    {
     "name": "stdout",
     "output_type": "stream",
     "text": [
      "🍊 Segment 1 (181 tokens):\n",
      "Date: 2019-09-15 Insight by Treysifer: Over the next three weeks, I\n",
      "will go on 12 onsite interviews at 12 amazing companies. I am excited\n",
      "for these interviews and don't feel any pressure at all because I know\n",
      "I am going to do well. I've prepared and prepared and then prepared\n",
      "some more. At this point, all I have to do is show up, smile and enjoy\n",
      "myself. The rest will come naturally. What it comes down to, just as\n",
      "much as demonstrating your ability in the interview, is to walk\n",
      "through the door and immediately be someone they want to work with.\n",
      "And that person is someone who enjoys what they do. I'd like to say\n",
      "something to these next three weeks of interviews: you better bring\n",
      "it. Because I'm ready. \n",
      "\n",
      "\n",
      "🍊 Segment 2 (115 tokens):\n",
      "Date: 2019-09-15 Insight by Treysifer: 1. Don't put all your eggs in\n",
      "one basket 2. Antidepressants are awesome 3. I am capable of achieving\n",
      "anything if I apply myself 4. I thrive on being single, but love is\n",
      "nice too :) 5. The more you laugh at things, the easier they are. 6.\n",
      "Wear more color 7. Whiskey can be both you 8. Mute everyone on\n",
      "Instagram \n",
      "\n",
      "\n",
      "🍊 Segment 3 (64 tokens):\n",
      "Date: 2019-09-30 Insight by Treysifer: If I learned anything from\n",
      "being a sex addict, it's to be weird. The best sex I've ever had was\n",
      "with the people who were \"weird\" in bed. \n",
      "\n",
      "\n",
      "🍊 Segment 4 (86 tokens):\n",
      "Date: 2019-10-09 Insight by Treysifer: have you ever been so attracted\n",
      "to someone that they leave a mark on you? All of the people you're\n",
      "attracted to and all the porn you watch have some resemblance to this\n",
      "person? There was not an inch of him that I did not want. What I\n",
      "remember most is his chest. \n",
      "\n",
      "\n",
      "🍊 Segment 5 (284 tokens):\n",
      "Date: 2019-10-17 Insight by Treysifer: There is so much that I don't\n",
      "understand about this life. Things that make me feel angry, confused,\n",
      "sad, defeated, lost and alone. Like how sometimes every man I speak to\n",
      "rejects me. Or how friends and people slip away so easily. How even\n",
      "our family members can become distant and seem to fade. How little\n",
      "control we have over everything going on around us… Things that I can\n",
      "control: - My body - My diet - My side projects - How dedicated I am\n",
      "at work - How nice I am to people Sometimes the world just seems so\n",
      "fucking lonely. The sudden awareness that no one really cares how\n",
      "you're doing or what you're doing. The only way they care is in\n",
      "relation to themselves. I don't want these things to make me sad and\n",
      "so I withdraw into myself. Into the spaces and things that are within\n",
      "my control. I stop having sex, I stop showing up to places where drugs\n",
      "are the main activity, I begin to invest in myself in a way that is\n",
      "new to me. In a way that feels lonely but is more fulfilling and\n",
      "engaging than a lot of social activity I've been in. I don't want to\n",
      "take drugs regularly anymore. I don't want my motivation in life to be\n",
      "status. \n",
      "\n",
      "\n",
      "🍊 Segment 6 (400 tokens):\n",
      "Date: 2019-10-17 Insight by Treysifer: I have so many feelings right\n",
      "now. They well inside me deep like a pool of black water. Sometimes it\n",
      "swells and I feel it at the top of my stomach. Like it's calling out,\n",
      "longing for something (or someone). I'm not sure that Matthew and I\n",
      "are still friends. The feeling this gives me is of massive loss. i can\n",
      "feel him so deeply in me. So deep that it makes me uncomfortable as\n",
      "though I feel embarrassment for feeling him so deeply when I'm not\n",
      "sure he thinks of me at all. Yo, I fell in love with that boy. I fell\n",
      "in love! I fell madly and deeply in love with everything about him. It\n",
      "felt like there was nothing he could do to make me angry. I just\n",
      "wanted to be near him, to hold his attention, to talk about things and\n",
      "walk near each other. There are some days I remember so clearly that I\n",
      "can almost relive them. Like when we were in Miami, high on G and\n",
      "frolicking through the sunshine. I jumped on his back and wrapped my\n",
      "arms around his big body. His perky, hairy titties were in between my\n",
      "forearms. The point is…I loved him and there were countless good\n",
      "times. That was one of the best summers of my life because he was in\n",
      "it. Because of all the adventures we'd gone on together and I never\n",
      "want to forget it. The love got too heavy for me to hold in anymore so\n",
      "I told him. After that, I had so many moments. I was anger and felt\n",
      "pain. I feel friendless is what I feel. It's the reason for most of my\n",
      "anxiety. I lose so many friends. Have lost three this year: Kevin,\n",
      "Andrew and Matt. They were three close ones too… my closest actually. \n",
      "\n",
      "\n",
      "🍊 Segment 7 (338 tokens):\n",
      "Date: 2019-10-17 Insight by Treysifer: It worries me because it makes\n",
      "me feel like there's something about the way I treat people that is\n",
      "outside of my control. Like there's something else in me that makes\n",
      "the decisions. This makes me feel like I can't trust myself. I can't\n",
      "trust myself to have nice things—those nice things being friends.\n",
      "Because I always push them away. I either lash out at them or take\n",
      "them for granted. What's wrong with me? Although moments like this\n",
      "make me frustrated with myself, they are also the moments that I must\n",
      "be kindest to myself. That I must hold myself the tightest. I wish\n",
      "someone had done this for me when I was little. I needed it then. I\n",
      "needed someone to hold me close and tell me everything was going to be\n",
      "alright. I would act out and the reaction was yelling or screaming or\n",
      "punishing. But no one ever asked if I was ok or why I was doing those\n",
      "things. Maybe if someone had been more patient with me then I could\n",
      "have gotten better. Punishment taught me to not do those things\n",
      "anymore but it did not help me to get better. If anything, the\n",
      "punishment just isolated me more. I want to say this to myself though.\n",
      "You did not do anything bad. I know that you were in fact doing your\n",
      "best. Hold yourself tight tonight and hold yourself tight in the\n",
      "morning. And right now give yourself some love because you need it. i\n",
      "know that you will get better because I have already seen how far you\n",
      "have come. \n",
      "\n",
      "\n",
      "🍊 Segment 8 (127 tokens):\n",
      "Date: 2019-10-20 Insight by Treysifer: I fucking tried. No one can say\n",
      "that I did not try. Do i hate men? no. Do I want love some day? yes.\n",
      "However recent events have shifted the focus of my mind in a crucial\n",
      "way. My experience with men recently has been pretty terrible. I feel\n",
      "rejected, unwanted, and hopeless in that direction. I want a cleanse.\n",
      "I want to invest myself deeply in things that have nothing to do with\n",
      "men. I want to pour my energy and time into myself. \n",
      "\n",
      "\n",
      "🍊 Segment 9 (78 tokens):\n",
      "Date: 2019-10-24 Insight by Treysifer: Dear Matteo, You flirt with me\n",
      "and kiss me to make yourself feel better. Then when it doesn't make\n",
      "you feel good anymore, you push away and \"have a boyfriend\". You're a\n",
      "good friend but honestly, fuck off. \n",
      "\n",
      "\n",
      "🍊 Segment 10 (417 tokens):\n",
      "Date: 2019-11-10 Insight by Treysifer: There is a fine line between\n",
      "the love one feels for a best friend and for a lover. How he made me\n",
      "feel: Like my best self When we were together, I felt like a really\n",
      "existed. You know how in dreams things happen that you don't\n",
      "understand? It's just kind of happening. That's how I feel a lot of\n",
      "the time in life. With Matt I felt like everything, including myself,\n",
      "became real. He made me want to be a better person. He made me think\n",
      "about things that I hadn't before, like the meaning of having a\n",
      "connection with someone when I have sex. Just being with him made me\n",
      "happy. We didn't even have to speak. Just being near him made me feel\n",
      "at ease. That time that we took a day trip to a beach in New Jersey.\n",
      "On the train ride there we missed our stop because we were wrapped up\n",
      "in our conversation. That was always nice with him too—how interesting\n",
      "and interested I felt when we spoke. I had so many things to say and\n",
      "he said so many things that I wanted to listen to. When we got to the\n",
      "beach we laid in sun and held hands. The hand holding thing was his\n",
      "doing but I did not object. Then we walked to the pool party. There\n",
      "there times when I was laying on top of him and times when he was on\n",
      "my lap. Or when he affectionately kissed my arm. In those moments I\n",
      "could have lived forever like that. Just being with him, playing with\n",
      "him, talking to him. Every time he looked at me I came alive. How I\n",
      "felt around him must have been how a dog feels around its master. Just\n",
      "utter bliss to have the pleasure of walking beside him. To look up and\n",
      "see him smiling down at me. To be his good boy. To love and be loved\n",
      "in return. A wagging tail just at the sound of him saying my name. \n",
      "\n",
      "\n",
      "🍊 Segment 11 (191 tokens):\n",
      "Date: 2019-11-10 Insight by Treysifer: It's the best kind of love I\n",
      "could imagine having for someone. I've loved lots of men, each one of\n",
      "them a different kind of love. Evan was a bittersweet love. It gave me\n",
      "as much grief to love him as it did pleasure. And damn did it give me\n",
      "a hell of a lot of both. Dan was a comfortable love. He was the good\n",
      "guy that everyone deserves but for whatever reason leaves because they\n",
      "can't resist the thrill of a bad boy. Matt was just love. Plain and\n",
      "simple. I just loved him and because of that it felt like there was\n",
      "nothing he could do that would ever make me mad. After the pool party,\n",
      "we walked to the train. Our energies were in sync. We were connected.\n",
      "When we finally got on the train, \n",
      "\n",
      "\n",
      "🍊 Segment 12 (38 tokens):\n",
      "Date: 2019-11-18 Insight by Treysifer: His voice makes me want to cum\n",
      "and he has a beautiful mouth \n",
      "\n",
      "\n",
      "🍊 Segment 13 (57 tokens):\n",
      "Date: 2019-11-25 Insight by Treysifer: I can't promise that I don't\n",
      "have any bullshit but I can promise that I'm aware of all the\n",
      "buillshit I do have. \n",
      "\n",
      "\n",
      "🍊 Segment 14 (84 tokens):\n",
      "Date: 2019-11-28 Insight by Treysifer: Sometimes I think that I could\n",
      "become the man that Matt wants. But really, if Matt, or anyone, were\n",
      "to love me, it would have to be Bec Don't try to become someone else.\n",
      "Embrace the person that you are fully, wholly, unconditionally \n",
      "\n",
      "\n",
      "🍊 Segment 15 (96 tokens):\n",
      "Date: 2019-12-07 Insight by Treysifer: You're looking for love more\n",
      "than anyone I know. And yet I don't think you'd know love if it came\n",
      "to you in the form of a best friend, confessed it's love to you, and\n",
      "then but you in the ass. Best of luck mate on finding whatever you\n",
      "think you're looking for. Trey \n",
      "\n",
      "\n",
      "🍊 Segment 16 (444 tokens):\n",
      "Date: 2019-12-14 Insight by Treysifer: I want to start off by saying\n",
      "that I am sorry. Sincerely and humbly sorry for what I did to you all\n",
      "when we were classmates at Hack Reactor. I am writing this to you\n",
      "because you deserve an apology. In fact, it's something I should have\n",
      "done a long time ago. However you feel about me is completely\n",
      "warranted. I am not here to persuade you to forgive me or to change\n",
      "your mind. I am here to make amends for my actions by apologizing and\n",
      "by being honest about why I acted so terribly. Mental health is\n",
      "something I have struggled with my entire life. When it comes to\n",
      "social settings, this is where I struggle the most. My past traumas\n",
      "shaped me to perceive everyone around me as a threat. Lashing out,\n",
      "being emotionally abusive, attacking, defensive behavior, blaming,\n",
      "withdrawing, isolating oneself…these are all behaviors of someone who\n",
      "is constantly at war with the world around them. It is a sad way to\n",
      "live and it is how I lived for most of my life until I sought\n",
      "professional help. The tremendous pressure and stress of coding\n",
      "bootcamp combined with not having a steady income or health insurance\n",
      "brought out a terrible side of me that was in survival mode. I view my\n",
      "mistakes at Hack Reactor as my greatest failure. I failed as a friend,\n",
      "a classmate and as a decent human being. I have failed at so many\n",
      "things in the past because I was ill equipped at the time with the\n",
      "emotional intelligence and mental health needed to deal with the\n",
      "situations. What I can say about every single one of those failures is\n",
      "that I have used each of them to become a better person. The person I\n",
      "am now is someone I am proud of. Someone who has empathy for others.\n",
      "Someone who values how they make others feel above all else. I cannot\n",
      "erase what happened in the past. I was cruel and cold and, in all\n",
      "honesty, on the sociopathic spectrum from improperly handling my\n",
      "anxiety. \n",
      "\n",
      "\n",
      "🍊 Segment 17 (218 tokens):\n",
      "Date: 2019-12-14 Insight by Treysifer: I cannot change how I treated\n",
      "you but I can promise you that I have done the work to better myself\n",
      "and will never treat anyone like that ever again. Success in this\n",
      "world requires being connected to the people around you. Trust is the\n",
      "key to any successful team and relationship. Back then I literally did\n",
      "not have the emotional capacity to connect with people, to be\n",
      "vulnerable, or to trust. Now I understand the importance of these\n",
      "things. I wish I could have seen then what I see now; I see a\n",
      "remarkable group of people that I shared an incredible and life-\n",
      "changing experience with. I could have made friends for life with you\n",
      "all but I was in too much pain to appreciate how much you meant to me.\n",
      "I am so sorry for how I treated you, I understand what I did was\n",
      "wrong, and I strive every single day to be better than I was\n",
      "yesterday—you have my word on this. Sincerely, Trey Granderson \n",
      "\n",
      "\n",
      "🍊 Segment 18 (415 tokens):\n",
      "Date: 2020-01-01 Insight by Treysifer: Is it strange that I like being\n",
      "alone? I've literally always felt this way—alone. Ever since I was\n",
      "young I was in my own little world. I somehow made everything into an\n",
      "adventure. I was curious. But I was not good at playing with the other\n",
      "kids. In the end, everyone always ended up hating me. Like I would\n",
      "make a close friend but then they wouldn't like me anymore. The whole\n",
      "group wouldn't. This started in the second grade with Kaitlynn Beach.\n",
      "We were in the same class together and lived in adjacent apartment\n",
      "buildings within a sprawling condominium residence. At first I think\n",
      "we got along well but then eventually I became annoying and mean and\n",
      "nasty. I remember being dumped by that one and how alone I felt after\n",
      "that. How utterly alone within a classroom of people who disliked me,\n",
      "including the teacher. It really all did start then. At the Northeast\n",
      "elementary schooling second grade. I spent three years at that school\n",
      "and it was all hell. There were so many things that I did not\n",
      "understand. Like what was right and now right. There was this bully\n",
      "that hated me ever since I was in the third grade. I used to the\n",
      "urinal next to him one time and then heard him say to me, \"you have a\n",
      "small dick\". I was startled by it because I never thought someone\n",
      "would be inspecting me like that. I went back into the classroom and\n",
      "looked so spooked that my teacher asked what was wrong. I told her\n",
      "what had happened and then saw her and the fourth grade teacher, Mrs.\n",
      "Flannelli, yelling at him in the hallway. Andy was the boy's name and\n",
      "he continued to torment me for the next two years. On the playground\n",
      "he would come over and mess with me. I never understand how no one\n",
      "ever saw or witnessed what he was doing. \n",
      "\n",
      "\n",
      "🍊 Segment 19 (426 tokens):\n",
      "Date: 2020-01-01 Insight by Treysifer: It was like everyone was immune\n",
      "to the gaze and punishment of the teachers except for me. Like the\n",
      "time that Andy charged toward me, with my back to him, and shoved me\n",
      "into the ground in front of all his friends and some girls that were\n",
      "in my grade. I just got up and carried on. I did not tell anyone and\n",
      "no helped or apparently saw. One of the girls that watched me get\n",
      "pushed was Sabrina Zattola. I'm now realizing how Italian Waltham was\n",
      "in the early 2000s. I thought she was the most beautiful girl in the\n",
      "world. She had dark, straight black hair and olive skin. I loved her.\n",
      "One day we were were all playing and she tackled me. For a couple\n",
      "seconds, she was laying on top of me as we just looked at each other.\n",
      "Then she ran off and kept playing. I was now in fourth grade. Sabrina\n",
      "agreed to go out with me, but broke up with me a day later on the\n",
      "playground. She took me behind this huge tire on the playground where\n",
      "none of our classmates could see us. \"I can't go out with you anymore\n",
      "because my friends say you're not cool,\" she told me in the sweet way\n",
      "how 11 year olds can obliviously say anything. Then she kissed me on\n",
      "the cheek and ran away. I was too happy about getting a kiss to feel\n",
      "sad about what had happened. Living in my own world protected me from\n",
      "the shit that was going on around me. I was exposed to confusing and\n",
      "adult situations frequently when I was child. One of my earliest\n",
      "memories is fear and confusion. I remember adults talking, screaming,\n",
      "having sex and I never knew what any of it ever met. From every\n",
      "direction some weird shit was happening that my child brain did not\n",
      "know how to interpret and comprehend. And so I withdrew into my own\n",
      "world to help make sense of the world maybe. \n",
      "\n",
      "\n",
      "🍊 Segment 20 (58 tokens):\n",
      "Date: 2020-01-01 Insight by Treysifer: \"Faggot\" — it's what my dad\n",
      "asked me what I was when he found out that I was gay. My response?\n",
      "\"Yup\" \n",
      "\n",
      "\n",
      "----------------------------------------------------------------------\n"
     ]
    }
   ],
   "source": [
    "print_segments(flattened_segments[\"formatted_segment\"].values[:20])"
   ]
  },
  {
   "cell_type": "code",
   "execution_count": 149,
   "metadata": {},
   "outputs": [
    {
     "data": {
      "text/plain": [
       "count           1291\n",
       "unique           423\n",
       "top       2022-06-28\n",
       "freq              26\n",
       "Name: date, dtype: object"
      ]
     },
     "execution_count": 149,
     "metadata": {},
     "output_type": "execute_result"
    }
   ],
   "source": [
    "flattened_segments[\"date\"].describe()"
   ]
  },
  {
   "cell_type": "code",
   "execution_count": null,
   "metadata": {},
   "outputs": [],
   "source": [
    "flattened_segments.head()"
   ]
  },
  {
   "cell_type": "code",
   "execution_count": 151,
   "metadata": {},
   "outputs": [],
   "source": [
    "# write flattened_segments to a csv file\n",
    "flattened_segments.to_csv(\"../data/processed/segments_flattened_formatted.csv\", index=False)"
   ]
  },
  {
   "attachments": {},
   "cell_type": "markdown",
   "metadata": {},
   "source": [
    "# 🔀 Split data into train and test sets\n",
    "\n",
    "Shuffling the data before splitting and then sorting the training and test sets chronologically. This approach aims to blend the benefits of random sampling with the preservation of chronological order within each set."
   ]
  },
  {
   "cell_type": "code",
   "execution_count": null,
   "metadata": {},
   "outputs": [],
   "source": [
    "# get 10 random samples from flattened_segments\n",
    "eval_samples = flattened_segments.sample(10, random_state=42)\n",
    "\n",
    "# write eval_samples to a csv file\n",
    "eval_samples.to_csv(\"../data/processed/eval_samples.csv\", index=False)\n",
    "\n",
    "# remove eval_samples from flattened_segments\n",
    "flattened_segments = flattened_segments.drop(eval_samples.index)"
   ]
  },
  {
   "cell_type": "code",
   "execution_count": 152,
   "metadata": {},
   "outputs": [],
   "source": [
    "# Shuffle the DataFrame\n",
    "segments_shuffled = flattened_segments.sample(frac=1).reset_index(drop=True)\n",
    "\n",
    "# Split the data\n",
    "split_index = int(len(segments_shuffled) * 0.8)\n",
    "train_df = segments_shuffled[:split_index]\n",
    "test_df = segments_shuffled[split_index:]\n",
    "\n",
    "# Sort the training and test sets chronologically\n",
    "train_df = train_df.sort_values(by='date', ascending=True)\n",
    "test_df = test_df.sort_values(by='date', ascending=True)\n"
   ]
  },
  {
   "cell_type": "code",
   "execution_count": 153,
   "metadata": {},
   "outputs": [
    {
     "data": {
      "text/plain": [
       "(Dataset({\n",
       "     features: ['entry_id', 'date', 'formatted_segment', '__index_level_0__'],\n",
       "     num_rows: 1032\n",
       " }),\n",
       " Dataset({\n",
       "     features: ['entry_id', 'date', 'formatted_segment', '__index_level_0__'],\n",
       "     num_rows: 259\n",
       " }))"
      ]
     },
     "execution_count": 153,
     "metadata": {},
     "output_type": "execute_result"
    }
   ],
   "source": [
    "from datasets import Dataset\n",
    "\n",
    "train_dataset = Dataset.from_pandas(train_df)\n",
    "test_dataset = Dataset.from_pandas(test_df)\n",
    "\n",
    "train_dataset, test_dataset\n",
    "\n",
    "# write train_dataset and test_dataset to jsonl files\n",
    "train_dataset.save_to_disk(\"../data/processed/train_dataset.jsonl\")\n",
    "test_dataset.save_to_disk(\"../data/processed/test_dataset.jsonl\")"
   ]
  },
  {
   "attachments": {},
   "cell_type": "markdown",
   "metadata": {},
   "source": [
    "# 🪙 Pre-Training Tokenization"
   ]
  },
  {
   "cell_type": "code",
   "execution_count": 154,
   "metadata": {},
   "outputs": [
    {
     "data": {
      "application/vnd.jupyter.widget-view+json": {
       "model_id": "a78e73929b4448d2b4928dc922dff213",
       "version_major": 2,
       "version_minor": 0
      },
      "text/plain": [
       "Map:   0%|          | 0/1032 [00:00<?, ? examples/s]"
      ]
     },
     "metadata": {},
     "output_type": "display_data"
    },
    {
     "data": {
      "application/vnd.jupyter.widget-view+json": {
       "model_id": "8d3c86ffc0774a2291ddd7ac1f22615d",
       "version_major": 2,
       "version_minor": 0
      },
      "text/plain": [
       "Map:   0%|          | 0/259 [00:00<?, ? examples/s]"
      ]
     },
     "metadata": {},
     "output_type": "display_data"
    }
   ],
   "source": [
    "from transformers import AutoTokenizer\n",
    "\n",
    "tokenizer = AutoTokenizer.from_pretrained(model_id)\n",
    "\n",
    "tokenizer.pad_token = tokenizer.eos_token\n",
    "tokenizer.padding_side = \"right\"\n",
    "tokenizer.add_bos_token = True\n",
    "tokenizer.add_eos_token = True\n",
    "\n",
    "\n",
    "def tokenize_function(row):\n",
    "    result = tokenizer(\n",
    "        row[\"formatted_segment\"],\n",
    "        padding=\"max_length\",\n",
    "        truncation=True,\n",
    "        max_length=max_sequence_length,\n",
    "    )\n",
    "    result[\"labels\"] = result[\"input_ids\"].copy()\n",
    "    return result\n",
    "\n",
    "tokenized_train_dataset = train_dataset.map(tokenize_function, batched=False)\n",
    "tokenized_val_dataset = test_dataset.map(tokenize_function, batched=False)"
   ]
  },
  {
   "cell_type": "code",
   "execution_count": 155,
   "metadata": {},
   "outputs": [
    {
     "name": "stdout",
     "output_type": "stream",
     "text": [
      "1291\n"
     ]
    },
    {
     "data": {
      "image/png": "[encoded data removed]",
      "text/plain": [
       "<Figure size 800x400 with 1 Axes>"
      ]
     },
     "metadata": {},
     "output_type": "display_data"
    }
   ],
   "source": [
    "import matplotlib.pyplot as plt\n",
    "\n",
    "def plot_data_lengths(tokenized_train_dataset, tokenized_val_dataset):\n",
    "    lengths = [len(x['input_ids']) for x in tokenized_train_dataset]\n",
    "    lengths += [len(x['input_ids']) for x in tokenized_val_dataset]\n",
    "    print(len(lengths))\n",
    "\n",
    "    # Plotting the histogram\n",
    "    plt.figure(figsize=(8, 4))\n",
    "    plt.hist(lengths, bins=20, alpha=0.7, color='blue')\n",
    "    plt.xlabel('Length of input_ids')\n",
    "    plt.ylabel('Frequency')\n",
    "    plt.title('Distribution of Lengths of input_ids')\n",
    "    plt.show()\n",
    "\n",
    "plot_data_lengths(tokenized_train_dataset, tokenized_val_dataset)"
   ]
  },
  {
   "attachments": {},
   "cell_type": "markdown",
   "metadata": {},
   "source": [
    "# 📂 Load Base Model"
   ]
  },
  {
   "cell_type": "code",
   "execution_count": null,
   "metadata": {},
   "outputs": [],
   "source": [
    "import torch\n",
    "from transformers import AutoModelForCausalLM, BitsAndBytesConfig\n",
    "\n",
    "# Hugging Face model id\n",
    "model_id = \"cognitivecomputations/dolphin-2.6-mistral-7b-dpo-laser\"\n",
    "\n",
    "# BitsAndBytesConfig int-4 config\n",
    "bnb_config = BitsAndBytesConfig(\n",
    "    load_in_4bit=True,\n",
    "    bnb_4bit_use_double_quant=True,\n",
    "    bnb_4bit_quant_type=\"nf4\",\n",
    "    bnb_4bit_compute_dtype=torch.bfloat16,\n",
    ")\n",
    "\n",
    "bnb_config.is_quantizable()\n",
    "\n",
    "# Load model and tokenizer\n",
    "model = AutoModelForCausalLM.from_pretrained(\n",
    "    model_id,\n",
    "    device_map=\"auto\",\n",
    "    attn_implementation=\"flash_attention_2\",\n",
    "    torch_dtype=torch.bfloat16,\n",
    "    quantization_config=bnb_config,\n",
    "    trust_remote_code=True,\n",
    ")"
   ]
  },
  {
   "attachments": {},
   "cell_type": "markdown",
   "metadata": {},
   "source": [
    "# 🏁 Evaluate Base Model & Establish Baseline"
   ]
  },
  {
   "cell_type": "code",
   "execution_count": null,
   "metadata": {},
   "outputs": [],
   "source": [
    "from transformers import pipeline\n",
    "\n",
    "# Init an eval tokenizer that doesn't add padding or eos token\n",
    "eval_tokenizer = AutoTokenizer.from_pretrained(\n",
    "    model_id,\n",
    "    add_bos_token=True,\n",
    ")\n",
    "\n",
    "model_input = eval_tokenizer(eval_prompt, return_tensors=\"pt\").to(\"cuda\")\n",
    "\n",
    "model.eval()\n",
    "with torch.no_grad():\n",
    "    print(eval_tokenizer.decode(model.generate(**model_input, max_new_tokens=256, repetition_penalty=1.15)[0], skip_special_tokens=True))\n",
    "\n",
    "# pipeline\n",
    "pipe = pipeline(\"text-generation\", model=model, tokenizer=tokenizer)"
   ]
  },
  {
   "attachments": {},
   "cell_type": "markdown",
   "metadata": {},
   "source": [
    "# 🔽 Configure Lora"
   ]
  },
  {
   "cell_type": "code",
   "execution_count": null,
   "metadata": {},
   "outputs": [],
   "source": [
    "from peft import prepare_model_for_kbit_training\n",
    "\n",
    "model.gradient_checkpointing_enable()\n",
    "model = prepare_model_for_kbit_training(model)"
   ]
  },
  {
   "cell_type": "code",
   "execution_count": null,
   "metadata": {},
   "outputs": [],
   "source": [
    "def print_trainable_parameters(model):\n",
    "    \"\"\"\n",
    "    Prints the number of trainable parameters in the model.\n",
    "    \"\"\"\n",
    "    trainable_params = 0\n",
    "    all_param = 0\n",
    "    for _, param in model.named_parameters():\n",
    "        all_param += param.numel()\n",
    "        if param.requires_grad:\n",
    "            trainable_params += param.numel()\n",
    "    print(\n",
    "        f\"trainable params: {trainable_params} || all params: {all_param} || trainable%: {100 * trainable_params / all_param}\"\n",
    "    )"
   ]
  },
  {
   "cell_type": "code",
   "execution_count": null,
   "metadata": {},
   "outputs": [],
   "source": [
    "print(model)"
   ]
  },
  {
   "cell_type": "code",
   "execution_count": null,
   "metadata": {},
   "outputs": [],
   "source": [
    "from peft import LoraConfig, get_peft_model\n",
    "\n",
    "config = LoraConfig(\n",
    "    r=32,\n",
    "    lora_alpha=64,\n",
    "    target_modules=[\n",
    "        \"q_proj\",\n",
    "        \"k_proj\",\n",
    "        \"v_proj\",\n",
    "        \"o_proj\",\n",
    "        \"gate_proj\",\n",
    "        \"up_proj\",\n",
    "        \"down_proj\",\n",
    "        \"lm_head\",\n",
    "    ],\n",
    "    bias=\"none\",\n",
    "    lora_dropout=0.05,  # Conventional\n",
    "    task_type=\"CAUSAL_LM\",\n",
    ")\n",
    "\n",
    "model = get_peft_model(model, config)\n",
    "print_trainable_parameters(model)"
   ]
  },
  {
   "cell_type": "code",
   "execution_count": null,
   "metadata": {},
   "outputs": [],
   "source": [
    "print(model)"
   ]
  },
  {
   "attachments": {},
   "cell_type": "markdown",
   "metadata": {},
   "source": [
    "# 🏋🏽‍♂️ Train the Model"
   ]
  },
  {
   "cell_type": "code",
   "execution_count": null,
   "metadata": {},
   "outputs": [],
   "source": [
    "from accelerate import FullyShardedDataParallelPlugin, Accelerator\n",
    "from torch.distributed.fsdp.fully_sharded_data_parallel import FullOptimStateDictConfig, FullStateDictConfig\n",
    "\n",
    "fsdp_plugin = FullyShardedDataParallelPlugin(\n",
    "    state_dict_config=FullStateDictConfig(offload_to_cpu=True, rank0_only=False),\n",
    "    optim_state_dict_config=FullOptimStateDictConfig(offload_to_cpu=True, rank0_only=False),\n",
    ")\n",
    "\n",
    "accelerator = Accelerator(fsdp_plugin=fsdp_plugin)"
   ]
  },
  {
   "cell_type": "code",
   "execution_count": null,
   "metadata": {},
   "outputs": [],
   "source": [
    "model = accelerator.prepare_model(model)"
   ]
  },
  {
   "cell_type": "code",
   "execution_count": null,
   "metadata": {},
   "outputs": [],
   "source": [
    "if torch.cuda.device_count() > 1: # If more than 1 GPU\n",
    "    model.is_parallelizable = True\n",
    "    model.model_parallel = True"
   ]
  },
  {
   "cell_type": "code",
   "execution_count": null,
   "metadata": {},
   "outputs": [],
   "source": [
    "import transformers\n",
    "from datetime import datetime\n",
    "\n",
    "project = \"journal-finetune\"\n",
    "base_model_name = \"dolphin-2.6-mistral-7b-dpo-laser\"\n",
    "run_name = base_model_name + \"-\" + project\n",
    "output_dir = \"./\" + run_name\n",
    "\n",
    "args = transformers.TrainingArguments(\n",
    "    output_dir=output_dir,\n",
    "    warmup_steps=1,\n",
    "    per_device_train_batch_size=2,\n",
    "    gradient_accumulation_steps=1,\n",
    "    gradient_checkpointing=True,\n",
    "    max_steps=1000,\n",
    "    learning_rate=2.5e-5,  # Want a small lr for finetuning\n",
    "    bf16=True,\n",
    "    optim=\"paged_adamw_8bit\",\n",
    "    logging_steps=25,  # When to start reporting loss\n",
    "    logging_dir=\"./logs\",  # Directory for storing logs\n",
    "    save_strategy=\"steps\",  # Save the model checkpoint every logging step\n",
    "    save_steps=25,  # Save checkpoints every 50 steps\n",
    "    evaluation_strategy=\"steps\",  # Evaluate the model every logging step\n",
    "    eval_steps=25,  # Evaluate and save checkpoints every 50 steps\n",
    "    do_eval=True,  # Perform evaluation at the end of training\n",
    "    report_to=\"wandb\",  # Comment this out if you don't want to use weights & baises\n",
    "    run_name=f\"{run_name}-{datetime.now().strftime('%Y-%m-%d-%H-%M')}\",  # Name of the W&B run (optional)\n",
    ")"
   ]
  },
  {
   "cell_type": "code",
   "execution_count": null,
   "metadata": {},
   "outputs": [],
   "source": [
    "trainer = transformers.Trainer(\n",
    "    model=model,\n",
    "    train_dataset=tokenized_train_dataset,\n",
    "    eval_dataset=tokenized_val_dataset,\n",
    "    args=args,\n",
    "    data_collator=transformers.DataCollatorForLanguageModeling(tokenizer, mlm=False),\n",
    ")\n",
    "\n",
    "model.config.use_cache = False  # silence the warnings. Please re-enable for inference!\n",
    "trainer.train()"
   ]
  },
  {
   "attachments": {},
   "cell_type": "markdown",
   "metadata": {},
   "source": [
    "# 🤞🏽 Try the Fine-Tuned Model"
   ]
  },
  {
   "cell_type": "code",
   "execution_count": null,
   "metadata": {},
   "outputs": [],
   "source": [
    "import torch\n",
    "from transformers import AutoTokenizer, AutoModelForCausalLM, BitsAndBytesConfig\n",
    "\n",
    "base_model_id = \"mistralai/Mistral-7B-v0.1\"\n",
    "bnb_config = BitsAndBytesConfig(\n",
    "    load_in_4bit=True,\n",
    "    bnb_4bit_use_double_quant=True,\n",
    "    bnb_4bit_quant_type=\"nf4\",\n",
    "    bnb_4bit_compute_dtype=torch.bfloat16\n",
    ")\n",
    "\n",
    "base_model = AutoModelForCausalLM.from_pretrained(\n",
    "    base_model_id,  # Mistral, same as before\n",
    "    quantization_config=bnb_config,  # Same quantization config as before\n",
    "    device_map=\"auto\",\n",
    "    trust_remote_code=True,\n",
    ")\n",
    "\n",
    "eval_tokenizer = AutoTokenizer.from_pretrained(base_model_id, add_bos_token=True, trust_remote_code=True)"
   ]
  },
  {
   "cell_type": "code",
   "execution_count": null,
   "metadata": {},
   "outputs": [],
   "source": [
    "from peft import PeftModel\n",
    "\n",
    "ft_model = PeftModel.from_pretrained(base_model, \"mistral-journal-finetune/checkpoint-300\")"
   ]
  },
  {
   "cell_type": "code",
   "execution_count": null,
   "metadata": {},
   "outputs": [],
   "source": [
    "def get_model_input(input_text):\n",
    "    return eval_tokenizer(input_text, return_tensors=\"pt\").to(\"cuda\")\n",
    "\n",
    "\n",
    "def get_model_output(model_input):\n",
    "    output = eval_tokenizer.decode(\n",
    "        model.generate(**model_input, max_new_tokens=256, repetition_penalty=1.15)[0],\n",
    "        skip_special_tokens=True,\n",
    "    )\n",
    "    return output\n",
    "\n",
    "\n",
    "# Eval prompts\n",
    "eval_prompts = [\n",
    "    \"Following the style of Edgar Allan Poe, generate a passage describing the interior of an ancient library filled with arcane books, where an unsettling secret lies hidden.\",\n",
    "    \"Using Edgar Allan Poe's narrative style, write a story opening about a character who receives a cryptic letter leading them to an abandoned graveyard at midnight.\",\n",
    "    \"Craft a poem that mirrors Edgar Allan Poe's thematic focus on the macabre and the supernatural, centering on a haunted seascape under the full moon.\",\n",
    "]\n",
    "\n",
    "model_inputs = [get_model_input(prompt) for prompt in eval_prompts]\n",
    "\n",
    "# Outputs from the base model\n",
    "ft_model.eval()\n",
    "with torch.no_grad():\n",
    "    model_outputs = [get_model_output(input) for input in model_inputs]\n",
    "    for i, output in enumerate(model_outputs):\n",
    "        print(f\"Prompt {i+1}: {eval_prompts[i]}\\n\\n\")\n",
    "        print(\"Output: \\n\")\n",
    "        print(output, \"\\n\\n\")"
   ]
  }
 ],
 "metadata": {
  "kernelspec": {
   "display_name": "env_journal_entries_mixtral",
   "language": "python",
   "name": "python3"
  },
  "language_info": {
   "codemirror_mode": {
    "name": "ipython",
    "version": 3
   },
   "file_extension": ".py",
   "mimetype": "text/x-python",
   "name": "python",
   "nbconvert_exporter": "python",
   "pygments_lexer": "ipython3",
   "version": "3.11.7"
  },
  "orig_nbformat": 4
 },
 "nbformat": 4,
 "nbformat_minor": 2
}
